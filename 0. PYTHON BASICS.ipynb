{
 "cells": [
  {
   "cell_type": "code",
   "execution_count": 1,
   "id": "ff3d4f17-6e0c-47bf-a109-bd838ad6dfbe",
   "metadata": {},
   "outputs": [],
   "source": [
    "import sys\n",
    "import keyword\n",
    "import operator\n",
    "from datetime import datetime\n",
    "import os"
   ]
  },
  {
   "cell_type": "markdown",
   "id": "0a1f5b2d-3d6c-44d1-8f5e-db13a34e45a1",
   "metadata": {},
   "source": [
    "# keywords"
   ]
  },
  {
   "cell_type": "code",
   "execution_count": 2,
   "id": "3ace42f0-cc03-477d-86b9-667bed4d2a91",
   "metadata": {},
   "outputs": [
    {
     "name": "stdout",
     "output_type": "stream",
     "text": [
      "['False', 'None', 'True', 'and', 'as', 'assert', 'async', 'await', 'break', 'class', 'continue', 'def', 'del', 'elif', 'else', 'except', 'finally', 'for', 'from', 'global', 'if', 'import', 'in', 'is', 'lambda', 'nonlocal', 'not', 'or', 'pass', 'raise', 'return', 'try', 'while', 'with', 'yield']\n"
     ]
    }
   ],
   "source": [
    "print(keyword.kwlist) "
   ]
  },
  {
   "cell_type": "markdown",
   "id": "8e9fe564-3607-4715-8786-5a57abd087b8",
   "metadata": {},
   "source": [
    "# Identifiers : \n",
    "#### An identifier is a name given to entities like class, functions, variables, etc. \n",
    "#### It helps to differentiate one entity from another\r"
   ]
  },
  {
   "cell_type": "code",
   "execution_count": 3,
   "id": "1dc5e392-7824-44dc-8886-62d91e893e2b",
   "metadata": {},
   "outputs": [],
   "source": [
    "val2 = 10"
   ]
  },
  {
   "cell_type": "code",
   "execution_count": 4,
   "id": "e16572e5-b7b4-448c-940f-6c4d38f21116",
   "metadata": {},
   "outputs": [],
   "source": [
    "val_ = 99"
   ]
  },
  {
   "cell_type": "markdown",
   "id": "8f713499-f03b-4fa8-9464-4f93285f73b1",
   "metadata": {},
   "source": [
    "# Comments\n",
    "### Comments can be used to explain the code for more readabilty."
   ]
  },
  {
   "cell_type": "code",
   "execution_count": 5,
   "id": "d7b7a3dc-7cc1-444a-bb11-c47987cf8da1",
   "metadata": {},
   "outputs": [],
   "source": [
    "# Single line comment\n",
    "val1 = 10"
   ]
  },
  {
   "cell_type": "code",
   "execution_count": 6,
   "id": "b39602fe-8380-4fce-a976-fa494cd4ccec",
   "metadata": {},
   "outputs": [],
   "source": [
    "'''\n",
    "Multiple \n",
    "line \n",
    "comment\n",
    "'''\n",
    "val1 = 10"
   ]
  },
  {
   "cell_type": "code",
   "execution_count": 7,
   "id": "00d1913f-1ba4-44c5-b808-79231b66d486",
   "metadata": {},
   "outputs": [],
   "source": [
    "# Multiple \n",
    "# line \n",
    "# comment\n",
    "val1 = 10"
   ]
  },
  {
   "cell_type": "code",
   "execution_count": 8,
   "id": "a91249bd-2d77-4eda-8c54-0d2f33d6d137",
   "metadata": {},
   "outputs": [],
   "source": [
    "\"\"\"\n",
    "Multiple \n",
    "line \n",
    "comment\n",
    "\"\"\"\n",
    "val1 = 10"
   ]
  },
  {
   "cell_type": "markdown",
   "id": "ec5f63ac-1b51-4ec9-b53c-35fb6ee20377",
   "metadata": {},
   "source": [
    "# Statements\n",
    "### Instructions that a Python interpreter can execute."
   ]
  },
  {
   "cell_type": "code",
   "execution_count": 9,
   "id": "321c7c3a-32c7-4321-aa11-07a11ffe30a7",
   "metadata": {},
   "outputs": [
    {
     "data": {
      "text/plain": [
       "30"
      ]
     },
     "execution_count": 9,
     "metadata": {},
     "output_type": "execute_result"
    }
   ],
   "source": [
    "# Single line statement\n",
    "p1 = 10 + 20\n",
    "p1"
   ]
  },
  {
   "cell_type": "code",
   "execution_count": 10,
   "id": "620ab2a5-f056-4221-8dab-abc81cd9c295",
   "metadata": {},
   "outputs": [
    {
     "data": {
      "text/plain": [
       "['a', 'b', 'c', 'd']"
      ]
     },
     "execution_count": 10,
     "metadata": {},
     "output_type": "execute_result"
    }
   ],
   "source": [
    "# Single line statement\n",
    "p2 = ['a' , 'b' , 'c' , 'd']\n",
    "p2"
   ]
  },
  {
   "cell_type": "code",
   "execution_count": 11,
   "id": "13358bd2-31df-4e5b-9a29-78980e112452",
   "metadata": {},
   "outputs": [
    {
     "data": {
      "text/plain": [
       "290"
      ]
     },
     "execution_count": 11,
     "metadata": {},
     "output_type": "execute_result"
    }
   ],
   "source": [
    "# Multiple line statement\n",
    "p1 = 20 + 30 \\\n",
    " + 40 + 50 + \\\n",
    " + 70 + 80\n",
    "p1"
   ]
  },
  {
   "cell_type": "code",
   "execution_count": 12,
   "id": "caaa6400-1905-4d63-91b8-46197e5fd14b",
   "metadata": {},
   "outputs": [
    {
     "data": {
      "text/plain": [
       "['a', 'b', 'c', 'd']"
      ]
     },
     "execution_count": 12,
     "metadata": {},
     "output_type": "execute_result"
    }
   ],
   "source": [
    "# Multiple line statement\n",
    "p2 = ['a' , \n",
    " 'b' , \n",
    " 'c' , \n",
    " 'd'\n",
    " ]\n",
    "p2"
   ]
  },
  {
   "cell_type": "markdown",
   "id": "b77a61b0-086b-4511-b9ef-899935919a4d",
   "metadata": {},
   "source": [
    "# Indentation\n",
    "### Indentation refers to the spaces at the beginning of a code line. It is very important as Python uses indentation to indicate a block of code.If the indentation is not correct we will endup with with IndentationError error.\r"
   ]
  },
  {
   "cell_type": "code",
   "execution_count": 13,
   "id": "3c150238-79be-4429-ac2b-4e15413767ae",
   "metadata": {},
   "outputs": [
    {
     "name": "stdout",
     "output_type": "stream",
     "text": [
      "P is equal to 10\n"
     ]
    }
   ],
   "source": [
    "p = 10\n",
    "if p == 10:\n",
    " print ('P is equal to 10')"
   ]
  },
  {
   "cell_type": "code",
   "execution_count": 14,
   "id": "ed322ab5-693b-4ba3-959d-83a215677c57",
   "metadata": {},
   "outputs": [
    {
     "name": "stdout",
     "output_type": "stream",
     "text": [
      "0\n",
      "1\n",
      "2\n",
      "3\n",
      "4\n"
     ]
    }
   ],
   "source": [
    "for i in range(0,5):\n",
    " print(i)"
   ]
  },
  {
   "cell_type": "code",
   "execution_count": 15,
   "id": "e2767de7-3c3c-435e-8a67-854156a006b4",
   "metadata": {},
   "outputs": [
    {
     "name": "stdout",
     "output_type": "stream",
     "text": [
      "0\n",
      "1\n",
      "2\n",
      "3\n",
      "4\n",
      "20\n"
     ]
    }
   ],
   "source": [
    "j=20\n",
    "for i in range(0,5):\n",
    " print(i) # inside the for loop\n",
    "print(j) # outside the for loop"
   ]
  },
  {
   "cell_type": "markdown",
   "id": "768b8136-308f-4859-b4ae-b6c69122d7fd",
   "metadata": {},
   "source": [
    "# Variables\n",
    "### A Python variable is a reserved memory location to store values.A variable is created the moment you first assign a value to it."
   ]
  },
  {
   "cell_type": "code",
   "execution_count": 16,
   "id": "403a0ca0-e2f9-4a22-bfa6-403f708d1ec4",
   "metadata": {},
   "outputs": [
    {
     "data": {
      "text/plain": [
       "140727055301976"
      ]
     },
     "execution_count": 16,
     "metadata": {},
     "output_type": "execute_result"
    }
   ],
   "source": [
    "p = 30\n",
    "id(p)"
   ]
  },
  {
   "cell_type": "code",
   "execution_count": 17,
   "id": "d2dbb6a9-bd43-4a88-bb24-a72ae83d7b5c",
   "metadata": {},
   "outputs": [
    {
     "data": {
      "text/plain": [
       "'0x7ffd92243d58'"
      ]
     },
     "execution_count": 17,
     "metadata": {},
     "output_type": "execute_result"
    }
   ],
   "source": [
    "hex(id(p))"
   ]
  },
  {
   "cell_type": "code",
   "execution_count": 18,
   "id": "dcdf77c8-6000-4ea7-a5bc-40fefddfbc49",
   "metadata": {},
   "outputs": [
    {
     "data": {
      "text/plain": [
       "(20, int, '0x7ffd92243c18')"
      ]
     },
     "execution_count": 18,
     "metadata": {},
     "output_type": "execute_result"
    }
   ],
   "source": [
    "p = 20 \n",
    "q = 20\n",
    "r = q \n",
    "p , type(p), hex(id(p))"
   ]
  },
  {
   "cell_type": "code",
   "execution_count": 19,
   "id": "785b3a97-23f4-4612-bccf-e599e7445f79",
   "metadata": {},
   "outputs": [
    {
     "data": {
      "text/plain": [
       "30"
      ]
     },
     "execution_count": 19,
     "metadata": {},
     "output_type": "execute_result"
    }
   ],
   "source": [
    "p = 20\n",
    "p = p + 10 # Variable Overwriting\n",
    "p"
   ]
  },
  {
   "cell_type": "markdown",
   "id": "1f4b720e-be76-4f71-9bc5-6d1535ddf588",
   "metadata": {},
   "source": [
    "# Variable Assigment"
   ]
  },
  {
   "cell_type": "code",
   "execution_count": 20,
   "id": "f180ec45-db80-4021-8f31-576c96db0c9b",
   "metadata": {},
   "outputs": [
    {
     "name": "stdout",
     "output_type": "stream",
     "text": [
      "10\n",
      "2.57\n",
      "Python Language\n"
     ]
    }
   ],
   "source": [
    "intvar = 10 # Integer variable\n",
    "floatvar = 2.57 # Float Variable\n",
    "strvar = \"Python Language\" # String variable\n",
    "print(intvar)\n",
    "print(floatvar)\n",
    "print(strvar)"
   ]
  },
  {
   "cell_type": "code",
   "execution_count": 21,
   "id": "bff7e300-9b6e-4648-964a-6c03f91817fc",
   "metadata": {},
   "outputs": [
    {
     "name": "stdout",
     "output_type": "stream",
     "text": [
      "10\n",
      "2.57\n",
      "Python Language\n"
     ]
    }
   ],
   "source": [
    "intvar , floatvar , strvar = 10,2.57,\"Python Language\" # Using commas to separate\n",
    "print(intvar)\n",
    "print(floatvar)\n",
    "print(strvar)"
   ]
  },
  {
   "cell_type": "code",
   "execution_count": 22,
   "id": "1ad292b0-697a-46b9-ad14-48538a25fb92",
   "metadata": {},
   "outputs": [
    {
     "name": "stdout",
     "output_type": "stream",
     "text": [
      "44 44 44 44\n"
     ]
    }
   ],
   "source": [
    "p1 = p2 = p3 = p4 = 44 # All variables pointing to same value\n",
    "print(p1,p2,p3,p4)"
   ]
  },
  {
   "cell_type": "markdown",
   "id": "cb0de614-89f7-452f-be47-dfdab28adb5f",
   "metadata": {},
   "source": [
    "# data types : str , int , float , complex , list , tuple , range , dict , set , bool,bytes"
   ]
  },
  {
   "cell_type": "code",
   "execution_count": 23,
   "id": "4f0e74c2-0106-4283-91fe-e514312fbba5",
   "metadata": {},
   "outputs": [
    {
     "name": "stdout",
     "output_type": "stream",
     "text": [
      "10\n",
      "<class 'int'>\n",
      "28\n",
      "10  is Integer? True\n"
     ]
    }
   ],
   "source": [
    "val1 = 10 \n",
    "print(val1)\n",
    "print(type(val1)) \n",
    "print(sys.getsizeof(val1)) \n",
    "print(val1, \" is Integer?\", isinstance(val1, int))"
   ]
  },
  {
   "cell_type": "code",
   "execution_count": 24,
   "id": "2d0e7bc1-c68a-4f70-9271-834d30c0dff5",
   "metadata": {},
   "outputs": [
    {
     "name": "stdout",
     "output_type": "stream",
     "text": [
      "92.78\n",
      "<class 'float'>\n",
      "24\n",
      "92.78  is float? True\n"
     ]
    }
   ],
   "source": [
    "val2 = 92.78 \n",
    "print(val2)\n",
    "print(type(val2)) \n",
    "print(sys.getsizeof(val2)) \n",
    "print(val2, \" is float?\", isinstance(val2, float)) "
   ]
  },
  {
   "cell_type": "code",
   "execution_count": 25,
   "id": "898d74fb-cd72-4f85-bf89-11298546ef18",
   "metadata": {},
   "outputs": [
    {
     "name": "stdout",
     "output_type": "stream",
     "text": [
      "(25+10j)\n",
      "<class 'complex'>\n",
      "32\n",
      "(25+10j)  is complex? True\n"
     ]
    }
   ],
   "source": [
    "val3 = 25 + 10j \n",
    "print(val3)\n",
    "print(type(val3)) \n",
    "print(sys.getsizeof(val3)) \n",
    "print(val3, \" is complex?\", isinstance(val3, complex)) "
   ]
  },
  {
   "cell_type": "code",
   "execution_count": 26,
   "id": "603b20ed-fdd1-44b3-b35d-7f9cfef0301b",
   "metadata": {},
   "outputs": [
    {
     "name": "stdout",
     "output_type": "stream",
     "text": [
      "28\n",
      "24\n",
      "32\n"
     ]
    }
   ],
   "source": [
    "print(sys.getsizeof(int()))\n",
    "print(sys.getsizeof(float())) \n",
    "print(sys.getsizeof(complex())) "
   ]
  },
  {
   "cell_type": "markdown",
   "id": "fd2c5fae-0082-4a32-ba8f-aaa930423807",
   "metadata": {},
   "source": [
    "# BOOLEAN"
   ]
  },
  {
   "cell_type": "code",
   "execution_count": 27,
   "id": "df7d5908-47c8-4c0b-a494-eb115c54d78e",
   "metadata": {},
   "outputs": [],
   "source": [
    "bool1 = True\n",
    "bool2 = False"
   ]
  },
  {
   "cell_type": "code",
   "execution_count": 28,
   "id": "c23b1597-e4ab-46cf-a12c-ae414e87c093",
   "metadata": {},
   "outputs": [
    {
     "name": "stdout",
     "output_type": "stream",
     "text": [
      "<class 'bool'>\n",
      "<class 'bool'>\n"
     ]
    }
   ],
   "source": [
    "print(type(bool1))\n",
    "print(type(bool2))"
   ]
  },
  {
   "cell_type": "code",
   "execution_count": 29,
   "id": "3e5253fc-f588-4547-9ed5-8e164d8818d6",
   "metadata": {},
   "outputs": [
    {
     "data": {
      "text/plain": [
       "True"
      ]
     },
     "execution_count": 29,
     "metadata": {},
     "output_type": "execute_result"
    }
   ],
   "source": [
    "isinstance(bool1, bool)"
   ]
  },
  {
   "cell_type": "code",
   "execution_count": 30,
   "id": "15053f18-081d-4bd6-b5ca-39d3ef16badb",
   "metadata": {},
   "outputs": [
    {
     "name": "stdout",
     "output_type": "stream",
     "text": [
      "False\n",
      "True\n",
      "False\n",
      "False\n"
     ]
    }
   ],
   "source": [
    "print(bool(0))\n",
    "print(bool(1))\n",
    "print(bool(None))\n",
    "print(bool(False))"
   ]
  },
  {
   "cell_type": "markdown",
   "id": "18f6b6de-3604-4211-bfdc-9f32071a98a0",
   "metadata": {},
   "source": [
    "# STRING"
   ]
  },
  {
   "cell_type": "code",
   "execution_count": 31,
   "id": "5a2396f0-584a-4a06-95b9-e9fc7fa9a95d",
   "metadata": {},
   "outputs": [
    {
     "name": "stdout",
     "output_type": "stream",
     "text": [
      "HELLO PYTHON\n"
     ]
    }
   ],
   "source": [
    "str1 = \"HELLO PYTHON\"\n",
    "print(str1)"
   ]
  },
  {
   "cell_type": "code",
   "execution_count": 32,
   "id": "d9e611a2-aaf2-4bc1-a94b-25871f187c69",
   "metadata": {},
   "outputs": [
    {
     "name": "stdout",
     "output_type": "stream",
     "text": [
      "Hello World\n",
      "Hello World\n",
      "Hello World \n",
      "Hello World\n"
     ]
    }
   ],
   "source": [
    "mystr = 'Hello World' \n",
    "print(mystr)\n",
    "\n",
    "mystr = \"Hello World\"\n",
    "print(mystr)\n",
    "\n",
    "mystr = '''Hello World ''' \n",
    "print(mystr)\n",
    "\n",
    "mystr = \"\"\"Hello World\"\"\" \n",
    "print(mystr)"
   ]
  },
  {
   "cell_type": "code",
   "execution_count": 33,
   "id": "97a317d9-2ffa-452f-9251-0fa4470eb56c",
   "metadata": {},
   "outputs": [
    {
     "name": "stdout",
     "output_type": "stream",
     "text": [
      "Happy Monday Everyone\n"
     ]
    }
   ],
   "source": [
    "mystr = ('Happy '\n",
    " 'Monday '\n",
    " 'Everyone')\n",
    "print(mystr)"
   ]
  },
  {
   "cell_type": "code",
   "execution_count": 34,
   "id": "d358457b-6596-42ef-8199-f3c3d9dc4b49",
   "metadata": {},
   "outputs": [
    {
     "data": {
      "text/plain": [
       "'Woohoo Woohoo Woohoo Woohoo Woohoo '"
      ]
     },
     "execution_count": 34,
     "metadata": {},
     "output_type": "execute_result"
    }
   ],
   "source": [
    "mystr2 = 'Woohoo '\n",
    "mystr2 = mystr2*5\n",
    "mystr2"
   ]
  },
  {
   "cell_type": "code",
   "execution_count": 35,
   "id": "57a0662a-6307-443b-9467-d05a84ad695e",
   "metadata": {},
   "outputs": [
    {
     "data": {
      "text/plain": [
       "35"
      ]
     },
     "execution_count": 35,
     "metadata": {},
     "output_type": "execute_result"
    }
   ],
   "source": [
    "len(mystr2) "
   ]
  },
  {
   "cell_type": "markdown",
   "id": "ca3d6372-62fa-4ef9-aa73-eac761c4f9ca",
   "metadata": {},
   "source": [
    "# String Indexing"
   ]
  },
  {
   "cell_type": "code",
   "execution_count": 36,
   "id": "6083f8e4-12cf-4824-8926-9912cb34dba7",
   "metadata": {},
   "outputs": [
    {
     "data": {
      "text/plain": [
       "'HELLO PYTHON'"
      ]
     },
     "execution_count": 36,
     "metadata": {},
     "output_type": "execute_result"
    }
   ],
   "source": [
    "str1"
   ]
  },
  {
   "cell_type": "code",
   "execution_count": 37,
   "id": "454646d2-3761-48b0-9b57-3c2f1f10adf9",
   "metadata": {},
   "outputs": [
    {
     "data": {
      "text/plain": [
       "'H'"
      ]
     },
     "execution_count": 37,
     "metadata": {},
     "output_type": "execute_result"
    }
   ],
   "source": [
    "str1[0] # First character in string \"str1\""
   ]
  },
  {
   "cell_type": "code",
   "execution_count": 38,
   "id": "b79c94ea-b7a2-4049-8579-fde905e926f9",
   "metadata": {},
   "outputs": [
    {
     "data": {
      "text/plain": [
       "'N'"
      ]
     },
     "execution_count": 38,
     "metadata": {},
     "output_type": "execute_result"
    }
   ],
   "source": [
    "str1[len(str1)-1] # Last character in string using len function"
   ]
  },
  {
   "cell_type": "code",
   "execution_count": 39,
   "id": "02d49891-1405-4dbf-a4c7-261a41652c26",
   "metadata": {},
   "outputs": [
    {
     "data": {
      "text/plain": [
       "'N'"
      ]
     },
     "execution_count": 39,
     "metadata": {},
     "output_type": "execute_result"
    }
   ],
   "source": [
    "str1[-1] # Last character in string"
   ]
  },
  {
   "cell_type": "code",
   "execution_count": 40,
   "id": "9e67e3dc-e892-4467-9c2e-c1c7c1c158cc",
   "metadata": {},
   "outputs": [
    {
     "data": {
      "text/plain": [
       "'P'"
      ]
     },
     "execution_count": 40,
     "metadata": {},
     "output_type": "execute_result"
    }
   ],
   "source": [
    "str1[6] #Fetch 7th element of the string "
   ]
  },
  {
   "cell_type": "code",
   "execution_count": 41,
   "id": "d5816ea5-449d-4230-ac3f-40cdc0f7083a",
   "metadata": {},
   "outputs": [
    {
     "data": {
      "text/plain": [
       "' '"
      ]
     },
     "execution_count": 41,
     "metadata": {},
     "output_type": "execute_result"
    }
   ],
   "source": [
    "str1[5]"
   ]
  },
  {
   "cell_type": "markdown",
   "id": "0dbace29-193a-4b80-bada-e8953482b565",
   "metadata": {},
   "source": [
    "# String Slicing"
   ]
  },
  {
   "cell_type": "code",
   "execution_count": 42,
   "id": "4c8ef2c5-3c53-423e-8df1-b86482c5dbac",
   "metadata": {},
   "outputs": [
    {
     "data": {
      "text/plain": [
       "'HELLO'"
      ]
     },
     "execution_count": 42,
     "metadata": {},
     "output_type": "execute_result"
    }
   ],
   "source": [
    "str1[0:5] "
   ]
  },
  {
   "cell_type": "code",
   "execution_count": 43,
   "id": "6207b810-0eb6-4ef4-aa13-343d65372383",
   "metadata": {},
   "outputs": [
    {
     "data": {
      "text/plain": [
       "'PYTHON'"
      ]
     },
     "execution_count": 43,
     "metadata": {},
     "output_type": "execute_result"
    }
   ],
   "source": [
    "str1[6:12] "
   ]
  },
  {
   "cell_type": "code",
   "execution_count": 44,
   "id": "b4aa1a66-cfc2-4397-a777-7f65241091f0",
   "metadata": {},
   "outputs": [
    {
     "data": {
      "text/plain": [
       "'THON'"
      ]
     },
     "execution_count": 44,
     "metadata": {},
     "output_type": "execute_result"
    }
   ],
   "source": [
    "str1[-4:]"
   ]
  },
  {
   "cell_type": "code",
   "execution_count": 45,
   "id": "fe03aea3-3625-4df4-8f6f-dc51d7f623c3",
   "metadata": {},
   "outputs": [
    {
     "data": {
      "text/plain": [
       "'PYTHON'"
      ]
     },
     "execution_count": 45,
     "metadata": {},
     "output_type": "execute_result"
    }
   ],
   "source": [
    "str1[-6:]"
   ]
  },
  {
   "cell_type": "code",
   "execution_count": 46,
   "id": "bdaf6462-2bf6-4084-901e-8fa5dcde5ede",
   "metadata": {},
   "outputs": [
    {
     "data": {
      "text/plain": [
       "'HELL'"
      ]
     },
     "execution_count": 46,
     "metadata": {},
     "output_type": "execute_result"
    }
   ],
   "source": [
    "str1[:4]"
   ]
  },
  {
   "cell_type": "code",
   "execution_count": 47,
   "id": "513924fc-8653-45a1-abae-e1af371301d2",
   "metadata": {},
   "outputs": [
    {
     "data": {
      "text/plain": [
       "'HELLO '"
      ]
     },
     "execution_count": 47,
     "metadata": {},
     "output_type": "execute_result"
    }
   ],
   "source": [
    "str1[:6]"
   ]
  },
  {
   "cell_type": "markdown",
   "id": "daf04985-d803-4917-9428-ecd5b0ad9d36",
   "metadata": {},
   "source": [
    "# Update & Delete String"
   ]
  },
  {
   "cell_type": "code",
   "execution_count": 48,
   "id": "2f99a43b-e70d-4abc-8654-f8b7c0ce7f28",
   "metadata": {},
   "outputs": [
    {
     "data": {
      "text/plain": [
       "'HELLO PYTHON'"
      ]
     },
     "execution_count": 48,
     "metadata": {},
     "output_type": "execute_result"
    }
   ],
   "source": [
    "str1"
   ]
  },
  {
   "cell_type": "code",
   "execution_count": 49,
   "id": "4434d3ee-f27f-4f8c-94f8-e6c7ff0ba8aa",
   "metadata": {},
   "outputs": [],
   "source": [
    "del str1"
   ]
  },
  {
   "cell_type": "markdown",
   "id": "b73c7792-b994-44fe-b709-46d87b3b99e7",
   "metadata": {},
   "source": [
    "# String concatenation"
   ]
  },
  {
   "cell_type": "code",
   "execution_count": 50,
   "id": "bff58e95-2267-4b62-9772-d7c543dab366",
   "metadata": {},
   "outputs": [
    {
     "name": "stdout",
     "output_type": "stream",
     "text": [
      "HelloAsif\n"
     ]
    }
   ],
   "source": [
    "s1 = \"Hello\"\n",
    "s2 = \"Asif\"\n",
    "s3 = s1 + s2\n",
    "print(s3)"
   ]
  },
  {
   "cell_type": "code",
   "execution_count": 51,
   "id": "5446da8a-eccf-4095-a395-28463f19fb9b",
   "metadata": {},
   "outputs": [
    {
     "name": "stdout",
     "output_type": "stream",
     "text": [
      "Hello Asif\n"
     ]
    }
   ],
   "source": [
    "s1 = \"Hello\"\n",
    "s2 = \"Asif\"\n",
    "s3 = s1 + \" \" + s2\n",
    "print(s3)"
   ]
  },
  {
   "cell_type": "markdown",
   "id": "5bb1e2b8-ede5-4314-b9b0-bc3c8c155065",
   "metadata": {},
   "source": [
    "# Iterating through a String"
   ]
  },
  {
   "cell_type": "code",
   "execution_count": 52,
   "id": "7f0c9416-eb14-47ea-bccb-50ef22917ff2",
   "metadata": {},
   "outputs": [],
   "source": [
    "mystr1 = \"Hello Everyone\""
   ]
  },
  {
   "cell_type": "code",
   "execution_count": 53,
   "id": "8372cdc0-adfd-4ac2-a2ba-6cadc5b19591",
   "metadata": {},
   "outputs": [
    {
     "name": "stdout",
     "output_type": "stream",
     "text": [
      "H\n",
      "e\n",
      "l\n",
      "l\n",
      "o\n",
      " \n",
      "E\n",
      "v\n",
      "e\n",
      "r\n",
      "y\n",
      "o\n",
      "n\n",
      "e\n"
     ]
    }
   ],
   "source": [
    "for i in mystr1:\n",
    " print(i)"
   ]
  },
  {
   "cell_type": "code",
   "execution_count": 54,
   "id": "8f7b146b-22c0-402e-ae52-de2e1c1282b5",
   "metadata": {},
   "outputs": [
    {
     "name": "stdout",
     "output_type": "stream",
     "text": [
      "(0, 'H')\n",
      "(1, 'e')\n",
      "(2, 'l')\n",
      "(3, 'l')\n",
      "(4, 'o')\n",
      "(5, ' ')\n",
      "(6, 'E')\n",
      "(7, 'v')\n",
      "(8, 'e')\n",
      "(9, 'r')\n",
      "(10, 'y')\n",
      "(11, 'o')\n",
      "(12, 'n')\n",
      "(13, 'e')\n"
     ]
    }
   ],
   "source": [
    "for i in enumerate(mystr1):\n",
    " print(i)"
   ]
  },
  {
   "cell_type": "code",
   "execution_count": 55,
   "id": "eb274309-eaf8-458a-8d82-e47719c76a07",
   "metadata": {},
   "outputs": [
    {
     "data": {
      "text/plain": [
       "[(0, 'H'),\n",
       " (1, 'e'),\n",
       " (2, 'l'),\n",
       " (3, 'l'),\n",
       " (4, 'o'),\n",
       " (5, ' '),\n",
       " (6, 'E'),\n",
       " (7, 'v'),\n",
       " (8, 'e'),\n",
       " (9, 'r'),\n",
       " (10, 'y'),\n",
       " (11, 'o'),\n",
       " (12, 'n'),\n",
       " (13, 'e')]"
      ]
     },
     "execution_count": 55,
     "metadata": {},
     "output_type": "execute_result"
    }
   ],
   "source": [
    "list(enumerate(mystr1)) "
   ]
  },
  {
   "cell_type": "markdown",
   "id": "85660c44-aa96-4488-9265-15cdd12c0440",
   "metadata": {},
   "source": [
    "# String Membership"
   ]
  },
  {
   "cell_type": "code",
   "execution_count": 56,
   "id": "15bb6aac-1963-4a4f-9348-9888c858f36e",
   "metadata": {},
   "outputs": [
    {
     "name": "stdout",
     "output_type": "stream",
     "text": [
      "True\n",
      "True\n",
      "False\n"
     ]
    }
   ],
   "source": [
    "mystr1 = \"Hello Everyone\"\n",
    "print ('Hello' in mystr1) # Check whether substring \"Hello\" is present in string \n",
    "print ('Everyone' in mystr1) # Check whether substring \"Everyone\" is present in s\n",
    "print ('Hi' in mystr1)"
   ]
  },
  {
   "cell_type": "markdown",
   "id": "c702decb-3250-4d2c-bb1a-1d1485c01a9d",
   "metadata": {},
   "source": [
    "# String Partitioning"
   ]
  },
  {
   "cell_type": "code",
   "execution_count": 57,
   "id": "cdae3aec-5db0-4986-8be2-2de29e66c942",
   "metadata": {},
   "outputs": [
    {
     "name": "stdout",
     "output_type": "stream",
     "text": [
      "('Natural language processing with Python ', 'and', ' R and Java')\n"
     ]
    }
   ],
   "source": [
    "str5 = \"Natural language processing with Python and R and Java\"\n",
    "L = str5.partition(\"and\") \n",
    "print(L)"
   ]
  },
  {
   "cell_type": "code",
   "execution_count": 58,
   "id": "cf1240a6-962f-4b1d-a375-221d8e1d5591",
   "metadata": {},
   "outputs": [
    {
     "name": "stdout",
     "output_type": "stream",
     "text": [
      "('Natural language processing with Python and R ', 'and', ' Java')\n"
     ]
    }
   ],
   "source": [
    "str5 = \"Natural language processing with Python and R and Java\"\n",
    "L = str5.rpartition(\"and\") \n",
    "print(L)"
   ]
  },
  {
   "cell_type": "markdown",
   "id": "7b89bd04-b4a6-41f3-88ed-4b8d66dc5293",
   "metadata": {},
   "source": [
    "# String Functions"
   ]
  },
  {
   "cell_type": "code",
   "execution_count": 59,
   "id": "acd46811-96b0-483e-85f8-f36cb85440df",
   "metadata": {},
   "outputs": [
    {
     "data": {
      "text/plain": [
       "' Hello Everyone '"
      ]
     },
     "execution_count": 59,
     "metadata": {},
     "output_type": "execute_result"
    }
   ],
   "source": [
    "mystr2 = \" Hello Everyone \"\n",
    "mystr2"
   ]
  },
  {
   "cell_type": "code",
   "execution_count": 60,
   "id": "ee18e6d7-da10-4542-96c6-b5ba0deb87e0",
   "metadata": {},
   "outputs": [
    {
     "data": {
      "text/plain": [
       "'Hello Everyone'"
      ]
     },
     "execution_count": 60,
     "metadata": {},
     "output_type": "execute_result"
    }
   ],
   "source": [
    "mystr2.strip() # Removes white space from begining & end"
   ]
  },
  {
   "cell_type": "code",
   "execution_count": 61,
   "id": "95732b53-3719-489b-9ad6-b57bdfb9fded",
   "metadata": {},
   "outputs": [
    {
     "data": {
      "text/plain": [
       "' Hello Everyone'"
      ]
     },
     "execution_count": 61,
     "metadata": {},
     "output_type": "execute_result"
    }
   ],
   "source": [
    "mystr2.rstrip() # Removes all whitespaces at the end of the string"
   ]
  },
  {
   "cell_type": "code",
   "execution_count": 62,
   "id": "1127776a-e2c2-4094-926c-297f0de4c47e",
   "metadata": {},
   "outputs": [
    {
     "data": {
      "text/plain": [
       "'Hello Everyone '"
      ]
     },
     "execution_count": 62,
     "metadata": {},
     "output_type": "execute_result"
    }
   ],
   "source": [
    "mystr2.lstrip() # Removes all whitespaces at the begining of the string"
   ]
  },
  {
   "cell_type": "code",
   "execution_count": 63,
   "id": "57916999-65bb-457b-9152-c51400315bb7",
   "metadata": {},
   "outputs": [
    {
     "data": {
      "text/plain": [
       "'*********Hello Everyone***********All the Best**********'"
      ]
     },
     "execution_count": 63,
     "metadata": {},
     "output_type": "execute_result"
    }
   ],
   "source": [
    "mystr2 = \"*********Hello Everyone***********All the Best**********\"\n",
    "mystr2"
   ]
  },
  {
   "cell_type": "code",
   "execution_count": 64,
   "id": "69bd7df9-4253-4cf0-8dc4-fdcdb3b1c17d",
   "metadata": {},
   "outputs": [
    {
     "data": {
      "text/plain": [
       "'Hello Everyone***********All the Best'"
      ]
     },
     "execution_count": 64,
     "metadata": {},
     "output_type": "execute_result"
    }
   ],
   "source": [
    "mystr2.strip('*') # Removes all '*' characters from begining & end of the string"
   ]
  },
  {
   "cell_type": "code",
   "execution_count": 65,
   "id": "47259713-333c-4fcb-b638-3fae926a49c9",
   "metadata": {},
   "outputs": [
    {
     "data": {
      "text/plain": [
       "'*********Hello Everyone***********All the Best'"
      ]
     },
     "execution_count": 65,
     "metadata": {},
     "output_type": "execute_result"
    }
   ],
   "source": [
    "mystr2.rstrip('*') # Removes all '*' characters at the end of the string"
   ]
  },
  {
   "cell_type": "code",
   "execution_count": 66,
   "id": "4a837720-5027-4fc1-a6ce-e6f434fe8b11",
   "metadata": {},
   "outputs": [
    {
     "data": {
      "text/plain": [
       "'Hello Everyone***********All the Best**********'"
      ]
     },
     "execution_count": 66,
     "metadata": {},
     "output_type": "execute_result"
    }
   ],
   "source": [
    "mystr2.lstrip('*') # Removes all '*' characters at the begining of the string"
   ]
  },
  {
   "cell_type": "code",
   "execution_count": 67,
   "id": "4d75c9aa-28de-43b2-8487-f262c24defd0",
   "metadata": {},
   "outputs": [],
   "source": [
    "mystr2 = \" Hello Everyone \""
   ]
  },
  {
   "cell_type": "code",
   "execution_count": 68,
   "id": "b19c6cbe-4611-4b8a-9659-c9a1794dbd09",
   "metadata": {},
   "outputs": [
    {
     "data": {
      "text/plain": [
       "' hello everyone '"
      ]
     },
     "execution_count": 68,
     "metadata": {},
     "output_type": "execute_result"
    }
   ],
   "source": [
    "mystr2.lower() # Return whole string in lowercase"
   ]
  },
  {
   "cell_type": "code",
   "execution_count": 69,
   "id": "b0019648-146f-4163-9f58-d32438c446b4",
   "metadata": {},
   "outputs": [
    {
     "data": {
      "text/plain": [
       "' HELLO EVERYONE '"
      ]
     },
     "execution_count": 69,
     "metadata": {},
     "output_type": "execute_result"
    }
   ],
   "source": [
    "mystr2.upper() # Return whole string in uppercase"
   ]
  },
  {
   "cell_type": "code",
   "execution_count": 70,
   "id": "1cc13c48-a63b-4b8a-8df3-0a29d20e6a3b",
   "metadata": {},
   "outputs": [
    {
     "data": {
      "text/plain": [
       "' Hollo Everyone '"
      ]
     },
     "execution_count": 70,
     "metadata": {},
     "output_type": "execute_result"
    }
   ],
   "source": [
    "mystr2.replace(\"He\" , \"Ho\") #Replace substring \"He\" with \"Ho\""
   ]
  },
  {
   "cell_type": "code",
   "execution_count": 71,
   "id": "71101694-b746-4259-b87c-35bdcb850e70",
   "metadata": {},
   "outputs": [
    {
     "data": {
      "text/plain": [
       "'HelloEveryone'"
      ]
     },
     "execution_count": 71,
     "metadata": {},
     "output_type": "execute_result"
    }
   ],
   "source": [
    "mystr2.replace(\" \" , \"\") # Remove all whitespaces using replace function"
   ]
  },
  {
   "cell_type": "code",
   "execution_count": 72,
   "id": "da3cdb7c-cfa2-48fe-94f5-c2c36984b633",
   "metadata": {},
   "outputs": [],
   "source": [
    "mystr5 = \"one two Three one two two three\""
   ]
  },
  {
   "cell_type": "code",
   "execution_count": 73,
   "id": "ad778b87-f3c5-4ef4-bdf2-4345269d9848",
   "metadata": {},
   "outputs": [
    {
     "data": {
      "text/plain": [
       "2"
      ]
     },
     "execution_count": 73,
     "metadata": {},
     "output_type": "execute_result"
    }
   ],
   "source": [
    "mystr5.count(\"one\") # Number of times substring \"one\" occurred in string."
   ]
  },
  {
   "cell_type": "code",
   "execution_count": 74,
   "id": "4a1b38c8-00be-47cf-a2cb-136028a190f5",
   "metadata": {},
   "outputs": [
    {
     "data": {
      "text/plain": [
       "3"
      ]
     },
     "execution_count": 74,
     "metadata": {},
     "output_type": "execute_result"
    }
   ],
   "source": [
    "mystr5.count(\"two\") # Number of times substring \"two\" occurred in string."
   ]
  },
  {
   "cell_type": "code",
   "execution_count": 75,
   "id": "d1996e03-5a76-4089-9776-e0d97b5308ba",
   "metadata": {},
   "outputs": [
    {
     "data": {
      "text/plain": [
       "True"
      ]
     },
     "execution_count": 75,
     "metadata": {},
     "output_type": "execute_result"
    }
   ],
   "source": [
    "mystr5.startswith(\"one\") # Return boolean value True if string starts with \"one\""
   ]
  },
  {
   "cell_type": "code",
   "execution_count": 76,
   "id": "8abf7900-562b-46d0-80d4-1487ecd3902e",
   "metadata": {},
   "outputs": [
    {
     "data": {
      "text/plain": [
       "True"
      ]
     },
     "execution_count": 76,
     "metadata": {},
     "output_type": "execute_result"
    }
   ],
   "source": [
    "mystr5.endswith(\"three\") # Return boolean value True if string ends with \"three\""
   ]
  },
  {
   "cell_type": "code",
   "execution_count": 77,
   "id": "1ded3d33-4a76-4f7a-955e-865382f59249",
   "metadata": {},
   "outputs": [],
   "source": [
    "mystr4 = \"one two three four one two two three five five six seven six seven one one one ten eight ten nine eleven ten ten nine\""
   ]
  },
  {
   "cell_type": "code",
   "execution_count": 78,
   "id": "650f912e-71b4-4d5e-a844-7f5c6cf9b4ed",
   "metadata": {},
   "outputs": [
    {
     "data": {
      "text/plain": [
       "['one',\n",
       " 'two',\n",
       " 'three',\n",
       " 'four',\n",
       " 'one',\n",
       " 'two',\n",
       " 'two',\n",
       " 'three',\n",
       " 'five',\n",
       " 'five',\n",
       " 'six',\n",
       " 'seven',\n",
       " 'six',\n",
       " 'seven',\n",
       " 'one',\n",
       " 'one',\n",
       " 'one',\n",
       " 'ten',\n",
       " 'eight',\n",
       " 'ten',\n",
       " 'nine',\n",
       " 'eleven',\n",
       " 'ten',\n",
       " 'ten',\n",
       " 'nine']"
      ]
     },
     "execution_count": 78,
     "metadata": {},
     "output_type": "execute_result"
    }
   ],
   "source": [
    "mylist = mystr4.split() # Split String into substrings\n",
    "mylist"
   ]
  },
  {
   "cell_type": "code",
   "execution_count": 79,
   "id": "55268a69-960e-4ec9-aa2d-e1254b9baf76",
   "metadata": {},
   "outputs": [
    {
     "name": "stdout",
     "output_type": "stream",
     "text": [
      "Cost of item1 , item2 and item3 are 40 , 55 and 77\n"
     ]
    }
   ],
   "source": [
    "item1 = 40\n",
    "item2 = 55\n",
    "item3 = 77\n",
    "res = \"Cost of item1 , item2 and item3 are {} , {} and {}\"\n",
    "print(res.format(item1,item2,item3))"
   ]
  },
  {
   "cell_type": "code",
   "execution_count": 80,
   "id": "60400498-97bf-466a-a1cc-f2c35d54a5d6",
   "metadata": {},
   "outputs": [
    {
     "name": "stdout",
     "output_type": "stream",
     "text": [
      "Cost of item3 , item2 and item1 are 77 , 55 and 40\n"
     ]
    }
   ],
   "source": [
    "item1 = 40\n",
    "item2 = 55\n",
    "item3 = 77\n",
    "res = \"Cost of item3 , item2 and item1 are {2} , {1} and {0}\"\n",
    "print(res.format(item1,item2,item3))"
   ]
  },
  {
   "cell_type": "code",
   "execution_count": 81,
   "id": "ce262d1f-b957-4c69-a582-52ff9c621001",
   "metadata": {},
   "outputs": [
    {
     "name": "stdout",
     "output_type": "stream",
     "text": [
      "                                          WELCOME EVERYONE                                          \n"
     ]
    }
   ],
   "source": [
    "str2 = \" WELCOME EVERYONE \"\n",
    "str2 = str2.center(100)\n",
    "print(str2)"
   ]
  },
  {
   "cell_type": "code",
   "execution_count": 82,
   "id": "9575850f-e28d-401c-8072-6d7e90122c4f",
   "metadata": {},
   "outputs": [
    {
     "name": "stdout",
     "output_type": "stream",
     "text": [
      "***************************************** WELCOME EVERYONE *****************************************\n"
     ]
    }
   ],
   "source": [
    "str2 = \" WELCOME EVERYONE \"\n",
    "str2 = str2.center(100,'*') \n",
    "print(str2)"
   ]
  },
  {
   "cell_type": "code",
   "execution_count": 83,
   "id": "75c3e460-7377-48e9-87d4-fe5f71592cb6",
   "metadata": {},
   "outputs": [
    {
     "name": "stdout",
     "output_type": "stream",
     "text": [
      "******************************** WELCOME EVERYONE \n"
     ]
    }
   ],
   "source": [
    "str2 = \" WELCOME EVERYONE \"\n",
    "str2 = str2.rjust(50,'*') \n",
    "print(str2)"
   ]
  },
  {
   "cell_type": "code",
   "execution_count": 84,
   "id": "99fe9ca0-3e9a-4dd5-9cd1-99066bd5c0f5",
   "metadata": {},
   "outputs": [
    {
     "name": "stdout",
     "output_type": "stream",
     "text": [
      "19\n"
     ]
    }
   ],
   "source": [
    "str4 = \"one two three four five six seven\"\n",
    "loc = str4.find(\"five\")\n",
    "print(loc)"
   ]
  },
  {
   "cell_type": "code",
   "execution_count": 85,
   "id": "1137078f-9062-4732-b2f6-24dc1628af07",
   "metadata": {},
   "outputs": [
    {
     "name": "stdout",
     "output_type": "stream",
     "text": [
      "False\n",
      "True\n",
      "True\n",
      "True\n"
     ]
    }
   ],
   "source": [
    "mystr6 = '123456789'\n",
    "print(mystr6.isalpha()) \n",
    "print(mystr6.isalnum()) \n",
    "print(mystr6.isdecimal()) \n",
    "print(mystr6.isnumeric()) "
   ]
  },
  {
   "cell_type": "code",
   "execution_count": 86,
   "id": "4708190e-5992-479e-99c9-74046c3c4ad1",
   "metadata": {},
   "outputs": [
    {
     "name": "stdout",
     "output_type": "stream",
     "text": [
      "True\n",
      "True\n",
      "False\n",
      "False\n"
     ]
    }
   ],
   "source": [
    "mystr6 = 'abcde'\n",
    "print(mystr6.isalpha()) \n",
    "print(mystr6.isalnum()) \n",
    "print(mystr6.isdecimal())\n",
    "print(mystr6.isnumeric())"
   ]
  },
  {
   "cell_type": "code",
   "execution_count": 87,
   "id": "f5ef56ad-ab0c-44c5-8494-aae9158d416d",
   "metadata": {},
   "outputs": [
    {
     "name": "stdout",
     "output_type": "stream",
     "text": [
      "False\n",
      "True\n",
      "False\n",
      "False\n"
     ]
    }
   ],
   "source": [
    "mystr6 = 'abc12309'\n",
    "print(mystr6.isalpha()) \n",
    "print(mystr6.isalnum()) \n",
    "print(mystr6.isdecimal()) \n",
    "print(mystr6.isnumeric())"
   ]
  },
  {
   "cell_type": "code",
   "execution_count": 88,
   "id": "1d736556-f460-4eda-9d2b-a85d7fcc071a",
   "metadata": {},
   "outputs": [
    {
     "name": "stdout",
     "output_type": "stream",
     "text": [
      "True\n",
      "False\n"
     ]
    }
   ],
   "source": [
    "mystr7 = 'ABCDEF'\n",
    "print(mystr7.isupper()) \n",
    "print(mystr7.islower())"
   ]
  },
  {
   "cell_type": "code",
   "execution_count": 89,
   "id": "bf408667-ea7c-4b89-95fa-6c03148f31e6",
   "metadata": {},
   "outputs": [
    {
     "name": "stdout",
     "output_type": "stream",
     "text": [
      "False\n",
      "True\n"
     ]
    }
   ],
   "source": [
    "mystr8 = 'abcdef'\n",
    "print(mystr8.isupper())\n",
    "print(mystr8.islower())"
   ]
  },
  {
   "cell_type": "code",
   "execution_count": 90,
   "id": "32a41dd7-ec8e-44d0-afa2-1a865a151bf4",
   "metadata": {},
   "outputs": [
    {
     "name": "stdout",
     "output_type": "stream",
     "text": [
      "75\n"
     ]
    }
   ],
   "source": [
    "str6 = \"one two three four one two two three five five six seven six seven one one one ten eight ten nine eleven ten ten nine\"\n",
    "loc = str6.rfind(\"one\") \n",
    "print(loc)"
   ]
  },
  {
   "cell_type": "code",
   "execution_count": 91,
   "id": "d05888e2-b6ac-4dae-abbb-7c3747c0253b",
   "metadata": {},
   "outputs": [
    {
     "name": "stdout",
     "output_type": "stream",
     "text": [
      "75\n"
     ]
    }
   ],
   "source": [
    "loc = str6.rindex(\"one\") # last occurrence of word 'one' in string \"str6\"\n",
    "\n",
    "print(loc)"
   ]
  },
  {
   "cell_type": "code",
   "execution_count": 92,
   "id": "2b68e235-f2cb-465f-bb86-a6899a998829",
   "metadata": {},
   "outputs": [
    {
     "name": "stdout",
     "output_type": "stream",
     "text": [
      " abc def ghi\n",
      "abc def ghi \n",
      "abc def ghi\n"
     ]
    }
   ],
   "source": [
    "txt = \" abc def ghi \"\n",
    "print(txt.rstrip())\n",
    "print(txt.lstrip())\n",
    "print(txt.strip())"
   ]
  },
  {
   "cell_type": "markdown",
   "id": "65656e20-1bc5-49b3-b756-3e5f41aaa9fb",
   "metadata": {},
   "source": [
    "# Using Escape Character"
   ]
  },
  {
   "cell_type": "code",
   "execution_count": 93,
   "id": "f6e8856f-460e-449f-8f6d-e6c0f7d71ee1",
   "metadata": {},
   "outputs": [
    {
     "name": "stdout",
     "output_type": "stream",
     "text": [
      "My favourite series is \"Game of Thrones\"\n"
     ]
    }
   ],
   "source": [
    "mystr = \"My favourite series is \\\"Game of Thrones\\\"\"\n",
    "print(mystr)"
   ]
  },
  {
   "cell_type": "markdown",
   "id": "3daebf64-517b-4b44-844b-f2df5da9cb3e",
   "metadata": {},
   "source": [
    "# List\n",
    "## 1) List is an ordered sequence of items.\r",
    "## 2) We can have different data types under a list. \n",
    "## E.g we can have integer, float and string items in a same list.t."
   ]
  },
  {
   "cell_type": "code",
   "execution_count": 94,
   "id": "788a8124-8357-493d-aa4c-07e9190bb931",
   "metadata": {},
   "outputs": [],
   "source": [
    "list1 = [] "
   ]
  },
  {
   "cell_type": "code",
   "execution_count": 95,
   "id": "bb9255c5-8292-48e8-ab95-1822fcba0488",
   "metadata": {},
   "outputs": [
    {
     "name": "stdout",
     "output_type": "stream",
     "text": [
      "<class 'list'>\n"
     ]
    }
   ],
   "source": [
    "print(type(list1))"
   ]
  },
  {
   "cell_type": "code",
   "execution_count": 96,
   "id": "36b2826f-8fbe-4f5a-90be-300999dc3859",
   "metadata": {},
   "outputs": [],
   "source": [
    "list2 = [10,30,60] "
   ]
  },
  {
   "cell_type": "code",
   "execution_count": 97,
   "id": "c0613358-de39-460d-9c25-7a122266664c",
   "metadata": {},
   "outputs": [],
   "source": [
    "list3 = [10.77,30.66,60.89]"
   ]
  },
  {
   "cell_type": "code",
   "execution_count": 98,
   "id": "826f1c86-a695-4f25-a2c3-0f1f74843485",
   "metadata": {},
   "outputs": [],
   "source": [
    "list4 = ['one','two' , \"three\"] "
   ]
  },
  {
   "cell_type": "code",
   "execution_count": 99,
   "id": "ec03b191-86e4-47f8-a34a-c75825fd9c6d",
   "metadata": {},
   "outputs": [],
   "source": [
    "list5 = ['Asif', 25 ,[50, 100],[150, 90]] "
   ]
  },
  {
   "cell_type": "code",
   "execution_count": 100,
   "id": "5d123249-1432-4521-9350-89880de787d7",
   "metadata": {},
   "outputs": [],
   "source": [
    "list6 = [100, 'Asif', 17.765] "
   ]
  },
  {
   "cell_type": "code",
   "execution_count": 101,
   "id": "96f1c6fa-8bf7-4209-9bd1-38fe9a1db7e0",
   "metadata": {},
   "outputs": [],
   "source": [
    "list7 = ['Asif', 25 ,[50, 100],[150, 90] , {'John' , 'David'}]"
   ]
  },
  {
   "cell_type": "code",
   "execution_count": 102,
   "id": "e5d0405b-8612-4e77-a2b2-fb4e87314a1b",
   "metadata": {},
   "outputs": [
    {
     "data": {
      "text/plain": [
       "3"
      ]
     },
     "execution_count": 102,
     "metadata": {},
     "output_type": "execute_result"
    }
   ],
   "source": [
    "len(list6)"
   ]
  },
  {
   "cell_type": "markdown",
   "id": "432b440d-1eb4-4436-b674-569dd73d1a44",
   "metadata": {},
   "source": [
    "### List Indexing"
   ]
  },
  {
   "cell_type": "code",
   "execution_count": 103,
   "id": "a4379e75-bbdd-411b-862e-6bf03b617164",
   "metadata": {},
   "outputs": [
    {
     "data": {
      "text/plain": [
       "10"
      ]
     },
     "execution_count": 103,
     "metadata": {},
     "output_type": "execute_result"
    }
   ],
   "source": [
    "list2[0] "
   ]
  },
  {
   "cell_type": "code",
   "execution_count": 104,
   "id": "3ba0d563-7259-4ffb-b698-3f2534ff1eca",
   "metadata": {},
   "outputs": [
    {
     "data": {
      "text/plain": [
       "'one'"
      ]
     },
     "execution_count": 104,
     "metadata": {},
     "output_type": "execute_result"
    }
   ],
   "source": [
    "list4[0]"
   ]
  },
  {
   "cell_type": "code",
   "execution_count": 105,
   "id": "03615c2f-63e2-487f-89fa-9483a5ce03bb",
   "metadata": {},
   "outputs": [
    {
     "data": {
      "text/plain": [
       "'o'"
      ]
     },
     "execution_count": 105,
     "metadata": {},
     "output_type": "execute_result"
    }
   ],
   "source": [
    "list4[0][0] "
   ]
  },
  {
   "cell_type": "code",
   "execution_count": 106,
   "id": "d7c3460e-ccae-4b1a-8a80-8674738e9ac5",
   "metadata": {},
   "outputs": [
    {
     "data": {
      "text/plain": [
       "'three'"
      ]
     },
     "execution_count": 106,
     "metadata": {},
     "output_type": "execute_result"
    }
   ],
   "source": [
    "list4[-1]"
   ]
  },
  {
   "cell_type": "code",
   "execution_count": 107,
   "id": "38c371b9-fb74-495d-8db8-bcf88a2a58ad",
   "metadata": {},
   "outputs": [
    {
     "data": {
      "text/plain": [
       "[150, 90]"
      ]
     },
     "execution_count": 107,
     "metadata": {},
     "output_type": "execute_result"
    }
   ],
   "source": [
    "list5[-1]"
   ]
  },
  {
   "cell_type": "code",
   "execution_count": 108,
   "id": "98fd034f-1c38-4e00-aed5-0bd4520549bf",
   "metadata": {},
   "outputs": [
    {
     "data": {
      "text/plain": [
       "['one', 'two', 'three', 'four', 'five', 'six', 'seven', 'eight', 'nine', 'ten']"
      ]
     },
     "execution_count": 108,
     "metadata": {},
     "output_type": "execute_result"
    }
   ],
   "source": [
    "mylist = ['one' , 'two' , 'three' , 'four' , 'five' , 'six' , 'seven' , 'eight','nine','ten']\n",
    "mylist"
   ]
  },
  {
   "cell_type": "code",
   "execution_count": 109,
   "id": "d5aff5c3-4b84-45fc-afbb-cf13a6c54133",
   "metadata": {},
   "outputs": [
    {
     "data": {
      "text/plain": [
       "['one', 'two', 'three']"
      ]
     },
     "execution_count": 109,
     "metadata": {},
     "output_type": "execute_result"
    }
   ],
   "source": [
    "mylist[0:3]"
   ]
  },
  {
   "cell_type": "code",
   "execution_count": 110,
   "id": "43cc97d1-e151-43cd-8fc8-af5d10a7e4d5",
   "metadata": {},
   "outputs": [
    {
     "data": {
      "text/plain": [
       "['three', 'four', 'five']"
      ]
     },
     "execution_count": 110,
     "metadata": {},
     "output_type": "execute_result"
    }
   ],
   "source": [
    "mylist[2:5]"
   ]
  },
  {
   "cell_type": "code",
   "execution_count": 111,
   "id": "b0d50c34-663d-4424-bb86-ed1cd792d032",
   "metadata": {},
   "outputs": [
    {
     "data": {
      "text/plain": [
       "['one', 'two', 'three']"
      ]
     },
     "execution_count": 111,
     "metadata": {},
     "output_type": "execute_result"
    }
   ],
   "source": [
    "mylist[:3] "
   ]
  },
  {
   "cell_type": "code",
   "execution_count": 112,
   "id": "34693a50-265e-4179-a120-378a50573307",
   "metadata": {},
   "outputs": [
    {
     "data": {
      "text/plain": [
       "['one', 'two']"
      ]
     },
     "execution_count": 112,
     "metadata": {},
     "output_type": "execute_result"
    }
   ],
   "source": [
    "mylist[:2]"
   ]
  },
  {
   "cell_type": "code",
   "execution_count": 113,
   "id": "8b062a17-0199-412f-b703-4fd0d4d4b858",
   "metadata": {},
   "outputs": [
    {
     "data": {
      "text/plain": [
       "['eight', 'nine', 'ten']"
      ]
     },
     "execution_count": 113,
     "metadata": {},
     "output_type": "execute_result"
    }
   ],
   "source": [
    "mylist[-3:]"
   ]
  },
  {
   "cell_type": "code",
   "execution_count": 114,
   "id": "d3aae734-f597-4bef-9ced-1f14af547c05",
   "metadata": {},
   "outputs": [
    {
     "data": {
      "text/plain": [
       "['nine', 'ten']"
      ]
     },
     "execution_count": 114,
     "metadata": {},
     "output_type": "execute_result"
    }
   ],
   "source": [
    "mylist[-2:]"
   ]
  },
  {
   "cell_type": "code",
   "execution_count": 115,
   "id": "2bee8268-c573-4dea-b705-489d805dbb81",
   "metadata": {},
   "outputs": [
    {
     "data": {
      "text/plain": [
       "'ten'"
      ]
     },
     "execution_count": 115,
     "metadata": {},
     "output_type": "execute_result"
    }
   ],
   "source": [
    "mylist[-1] "
   ]
  },
  {
   "cell_type": "code",
   "execution_count": 116,
   "id": "393aeaf6-2ea1-460d-b332-e4a385e83c2c",
   "metadata": {},
   "outputs": [
    {
     "data": {
      "text/plain": [
       "['one', 'two', 'three', 'four', 'five', 'six', 'seven', 'eight', 'nine', 'ten']"
      ]
     },
     "execution_count": 116,
     "metadata": {},
     "output_type": "execute_result"
    }
   ],
   "source": [
    "mylist[:] "
   ]
  },
  {
   "cell_type": "markdown",
   "id": "8ea5ff11-36c1-48f4-a0ab-0febf76b47a6",
   "metadata": {},
   "source": [
    "### Add , Remove & Change Items"
   ]
  },
  {
   "cell_type": "code",
   "execution_count": 117,
   "id": "d767f405-ab97-4fb5-9ab1-f60fc768293f",
   "metadata": {},
   "outputs": [
    {
     "data": {
      "text/plain": [
       "['one', 'two', 'three', 'four', 'five', 'six', 'seven', 'eight']"
      ]
     },
     "execution_count": 117,
     "metadata": {},
     "output_type": "execute_result"
    }
   ],
   "source": [
    "mylist = ['one' , 'two' , 'three' , 'four' , 'five' , 'six' , 'seven' , 'eight']\n",
    "mylist"
   ]
  },
  {
   "cell_type": "code",
   "execution_count": 118,
   "id": "0467a21f-4849-44d8-ad81-6faa4adb72cd",
   "metadata": {},
   "outputs": [
    {
     "data": {
      "text/plain": [
       "['one', 'two', 'three', 'four', 'five', 'six', 'seven', 'eight', 'nine']"
      ]
     },
     "execution_count": 118,
     "metadata": {},
     "output_type": "execute_result"
    }
   ],
   "source": [
    "mylist.append('nine') # Add an item to the end of the list \n",
    "mylist"
   ]
  },
  {
   "cell_type": "code",
   "execution_count": 119,
   "id": "88fc85d0-1e58-482c-983f-c698c79510de",
   "metadata": {},
   "outputs": [
    {
     "data": {
      "text/plain": [
       "['one', 'two', 'three', 'four', 'five', 'six', 'seven', 'eight', 'nine', 'ten']"
      ]
     },
     "execution_count": 119,
     "metadata": {},
     "output_type": "execute_result"
    }
   ],
   "source": [
    "mylist.insert(9,'ten') # Add item at index location 9\n",
    "mylist"
   ]
  },
  {
   "cell_type": "code",
   "execution_count": 120,
   "id": "e42ea0dd-158c-419b-9c3d-9425b6ecb4c7",
   "metadata": {},
   "outputs": [
    {
     "data": {
      "text/plain": [
       "['one',\n",
       " 'ONE',\n",
       " 'two',\n",
       " 'three',\n",
       " 'four',\n",
       " 'five',\n",
       " 'six',\n",
       " 'seven',\n",
       " 'eight',\n",
       " 'nine',\n",
       " 'ten']"
      ]
     },
     "execution_count": 120,
     "metadata": {},
     "output_type": "execute_result"
    }
   ],
   "source": [
    "mylist.insert(1,'ONE') # Add item at index location 1\n",
    "mylist"
   ]
  },
  {
   "cell_type": "code",
   "execution_count": 121,
   "id": "ad1726c2-71a1-48ca-a720-2a41eaf52233",
   "metadata": {},
   "outputs": [
    {
     "data": {
      "text/plain": [
       "['one', 'two', 'three', 'four', 'five', 'six', 'seven', 'eight', 'nine', 'ten']"
      ]
     },
     "execution_count": 121,
     "metadata": {},
     "output_type": "execute_result"
    }
   ],
   "source": [
    "mylist.remove('ONE') # Remove item \"ONE\"\n",
    "mylist"
   ]
  },
  {
   "cell_type": "code",
   "execution_count": 122,
   "id": "7c20be71-fe72-42d2-90b7-08628af6df5a",
   "metadata": {},
   "outputs": [
    {
     "data": {
      "text/plain": [
       "['one', 'two', 'three', 'four', 'five', 'six', 'seven', 'eight', 'nine']"
      ]
     },
     "execution_count": 122,
     "metadata": {},
     "output_type": "execute_result"
    }
   ],
   "source": [
    "mylist.pop() # Remove last item of the list\n",
    "mylist"
   ]
  },
  {
   "cell_type": "code",
   "execution_count": 123,
   "id": "f3247d9a-4c37-4da0-bb49-f00e1a51ff55",
   "metadata": {},
   "outputs": [
    {
     "data": {
      "text/plain": [
       "['one', 'two', 'three', 'four', 'five', 'six', 'seven', 'eight']"
      ]
     },
     "execution_count": 123,
     "metadata": {},
     "output_type": "execute_result"
    }
   ],
   "source": [
    "mylist.pop(8) # Remove item at index location 8\n",
    "mylist"
   ]
  },
  {
   "cell_type": "code",
   "execution_count": 124,
   "id": "5d9c4955-8824-414d-b90b-cd03a722bb5b",
   "metadata": {},
   "outputs": [
    {
     "data": {
      "text/plain": [
       "['one', 'two', 'three', 'four', 'five', 'six', 'seven']"
      ]
     },
     "execution_count": 124,
     "metadata": {},
     "output_type": "execute_result"
    }
   ],
   "source": [
    "del mylist[7] # Remove item at index location 7\n",
    "mylist"
   ]
  },
  {
   "cell_type": "code",
   "execution_count": 125,
   "id": "b60f8273-16c2-4df0-b2c3-6f4803140507",
   "metadata": {},
   "outputs": [
    {
     "data": {
      "text/plain": [
       "[1, 2, 3, 'four', 'five', 'six', 'seven']"
      ]
     },
     "execution_count": 125,
     "metadata": {},
     "output_type": "execute_result"
    }
   ],
   "source": [
    "# Change value of the string\n",
    "mylist[0] = 1\n",
    "mylist[1] = 2\n",
    "mylist[2] = 3\n",
    "mylist"
   ]
  },
  {
   "cell_type": "code",
   "execution_count": 126,
   "id": "de64c7d9-ecf6-40c8-9c64-d1c45f3342d8",
   "metadata": {},
   "outputs": [
    {
     "data": {
      "text/plain": [
       "[]"
      ]
     },
     "execution_count": 126,
     "metadata": {},
     "output_type": "execute_result"
    }
   ],
   "source": [
    "mylist.clear() # Empty List / Delete all items in the list\n",
    "mylist"
   ]
  },
  {
   "cell_type": "code",
   "execution_count": 127,
   "id": "d15c914e-a27f-4233-9b97-be9a7f968d7a",
   "metadata": {},
   "outputs": [],
   "source": [
    "del mylist"
   ]
  },
  {
   "cell_type": "markdown",
   "id": "8bf547bc-34aa-46b0-b3e6-7aaf6ac1b8f6",
   "metadata": {},
   "source": [
    "### Copy List"
   ]
  },
  {
   "cell_type": "code",
   "execution_count": 128,
   "id": "8928c160-23e8-4cca-8e8c-d3bf176c2fec",
   "metadata": {},
   "outputs": [],
   "source": [
    "mylist = ['one' , 'two' , 'three' , 'four' , 'five' , 'six' , 'seven' , 'eight','nine','ten']"
   ]
  },
  {
   "cell_type": "code",
   "execution_count": 129,
   "id": "bdd6a57f-e0af-433a-85b1-bd325b755499",
   "metadata": {},
   "outputs": [],
   "source": [
    "mylist1 = mylist"
   ]
  },
  {
   "cell_type": "code",
   "execution_count": 130,
   "id": "8e82b657-25ad-4809-a25c-0f1e118655c6",
   "metadata": {},
   "outputs": [
    {
     "data": {
      "text/plain": [
       "(2321459262656, 2321459262656)"
      ]
     },
     "execution_count": 130,
     "metadata": {},
     "output_type": "execute_result"
    }
   ],
   "source": [
    "id(mylist) , id(mylist1)"
   ]
  },
  {
   "cell_type": "code",
   "execution_count": 131,
   "id": "bf2aaf23-cc51-45de-ac90-eb46df5567c2",
   "metadata": {},
   "outputs": [],
   "source": [
    "mylist2 = mylist.copy()"
   ]
  },
  {
   "cell_type": "code",
   "execution_count": 132,
   "id": "170a9ff8-23cc-4a7e-b70c-c48e5deb95b1",
   "metadata": {},
   "outputs": [
    {
     "data": {
      "text/plain": [
       "2321459507776"
      ]
     },
     "execution_count": 132,
     "metadata": {},
     "output_type": "execute_result"
    }
   ],
   "source": [
    "id(mylist2)"
   ]
  },
  {
   "cell_type": "code",
   "execution_count": 133,
   "id": "517840de-558f-4dde-adc3-5ff6aa95320b",
   "metadata": {},
   "outputs": [
    {
     "data": {
      "text/plain": [
       "[1, 'two', 'three', 'four', 'five', 'six', 'seven', 'eight', 'nine', 'ten']"
      ]
     },
     "execution_count": 133,
     "metadata": {},
     "output_type": "execute_result"
    }
   ],
   "source": [
    "mylist[0] = 1\n",
    "mylist"
   ]
  },
  {
   "cell_type": "code",
   "execution_count": 134,
   "id": "36c3b67b-8ce2-4eab-ab53-3feca0deb2bb",
   "metadata": {},
   "outputs": [
    {
     "data": {
      "text/plain": [
       "[1, 'two', 'three', 'four', 'five', 'six', 'seven', 'eight', 'nine', 'ten']"
      ]
     },
     "execution_count": 134,
     "metadata": {},
     "output_type": "execute_result"
    }
   ],
   "source": [
    "mylist1"
   ]
  },
  {
   "cell_type": "code",
   "execution_count": 135,
   "id": "b39ebcd8-1551-4655-82ea-7209d735f338",
   "metadata": {},
   "outputs": [
    {
     "data": {
      "text/plain": [
       "['one', 'two', 'three', 'four', 'five', 'six', 'seven', 'eight', 'nine', 'ten']"
      ]
     },
     "execution_count": 135,
     "metadata": {},
     "output_type": "execute_result"
    }
   ],
   "source": [
    "mylist2"
   ]
  },
  {
   "cell_type": "markdown",
   "id": "8e7c61e7-e8e1-4589-a3ae-8b1957480662",
   "metadata": {},
   "source": [
    "### Join Lists"
   ]
  },
  {
   "cell_type": "code",
   "execution_count": 136,
   "id": "d6582e2d-27c1-4d28-bbd2-af851b74cc8c",
   "metadata": {},
   "outputs": [],
   "source": [
    "list1 = ['one', 'two', 'three', 'four']\n",
    "list2 = ['five', 'six', 'seven', 'eight']"
   ]
  },
  {
   "cell_type": "code",
   "execution_count": 137,
   "id": "7272d464-1bc8-4b2c-b2c4-5c5a65175a0b",
   "metadata": {},
   "outputs": [
    {
     "data": {
      "text/plain": [
       "['one', 'two', 'three', 'four', 'five', 'six', 'seven', 'eight']"
      ]
     },
     "execution_count": 137,
     "metadata": {},
     "output_type": "execute_result"
    }
   ],
   "source": [
    "list3 = list1 + list2 # Join two lists by '+' operator\n",
    "list3"
   ]
  },
  {
   "cell_type": "code",
   "execution_count": 138,
   "id": "99a8acbf-5345-410e-85ad-a6df969892ac",
   "metadata": {},
   "outputs": [
    {
     "data": {
      "text/plain": [
       "['one', 'two', 'three', 'four', 'five', 'six', 'seven', 'eight']"
      ]
     },
     "execution_count": 138,
     "metadata": {},
     "output_type": "execute_result"
    }
   ],
   "source": [
    "list1.extend(list2) #Append list2 with list1\n",
    "list1"
   ]
  },
  {
   "cell_type": "markdown",
   "id": "db0f8654-f1c4-4585-af04-6ab393880447",
   "metadata": {},
   "source": [
    "### List Membership"
   ]
  },
  {
   "cell_type": "code",
   "execution_count": 139,
   "id": "7e8eecd9-00ad-440c-98c5-73a9ad7f4ee8",
   "metadata": {},
   "outputs": [
    {
     "data": {
      "text/plain": [
       "['one', 'two', 'three', 'four', 'five', 'six', 'seven', 'eight']"
      ]
     },
     "execution_count": 139,
     "metadata": {},
     "output_type": "execute_result"
    }
   ],
   "source": [
    "list1"
   ]
  },
  {
   "cell_type": "code",
   "execution_count": 140,
   "id": "edc62fb1-4c46-45bc-a802-da9327a41928",
   "metadata": {},
   "outputs": [
    {
     "data": {
      "text/plain": [
       "True"
      ]
     },
     "execution_count": 140,
     "metadata": {},
     "output_type": "execute_result"
    }
   ],
   "source": [
    "'one' in list1"
   ]
  },
  {
   "cell_type": "code",
   "execution_count": 141,
   "id": "ce2dceb0-8cac-4cb2-a535-4124512029b3",
   "metadata": {},
   "outputs": [
    {
     "data": {
      "text/plain": [
       "False"
      ]
     },
     "execution_count": 141,
     "metadata": {},
     "output_type": "execute_result"
    }
   ],
   "source": [
    "'ten' in list1"
   ]
  },
  {
   "cell_type": "code",
   "execution_count": 142,
   "id": "4d7730e2-d120-499c-bc12-a38367bebd25",
   "metadata": {},
   "outputs": [
    {
     "name": "stdout",
     "output_type": "stream",
     "text": [
      "Three is present in the list\n"
     ]
    }
   ],
   "source": [
    "if 'three' in list1: # Check if 'three' exist in the list\n",
    " print('Three is present in the list')\n",
    "else:\n",
    " print('Three is not present in the list')"
   ]
  },
  {
   "cell_type": "code",
   "execution_count": 143,
   "id": "773f9f04-d460-44f1-b3ae-d01d1a032288",
   "metadata": {},
   "outputs": [
    {
     "name": "stdout",
     "output_type": "stream",
     "text": [
      "eleven is not present in the list\n"
     ]
    }
   ],
   "source": [
    "if 'eleven' in list1: # Check if 'eleven' exist in the list\n",
    " print('eleven is present in the list')\n",
    "else:\n",
    " print('eleven is not present in the list')"
   ]
  },
  {
   "cell_type": "markdown",
   "id": "bfc5016d-682c-4ec8-8f5a-5267d551b622",
   "metadata": {},
   "source": [
    "### Reverse & Sort List"
   ]
  },
  {
   "cell_type": "code",
   "execution_count": 144,
   "id": "e7f0acba-dd06-4183-9250-6c2b3de47e21",
   "metadata": {},
   "outputs": [
    {
     "data": {
      "text/plain": [
       "['one', 'two', 'three', 'four', 'five', 'six', 'seven', 'eight']"
      ]
     },
     "execution_count": 144,
     "metadata": {},
     "output_type": "execute_result"
    }
   ],
   "source": [
    "list1"
   ]
  },
  {
   "cell_type": "code",
   "execution_count": 145,
   "id": "a71325cb-0489-4e77-a514-acd0bae1a8b2",
   "metadata": {},
   "outputs": [
    {
     "data": {
      "text/plain": [
       "['eight', 'seven', 'six', 'five', 'four', 'three', 'two', 'one']"
      ]
     },
     "execution_count": 145,
     "metadata": {},
     "output_type": "execute_result"
    }
   ],
   "source": [
    "list1.reverse() # Reverse the list\n",
    "list1"
   ]
  },
  {
   "cell_type": "code",
   "execution_count": 146,
   "id": "263df35f-9f32-4fb2-9e46-400e979e80f8",
   "metadata": {},
   "outputs": [
    {
     "data": {
      "text/plain": [
       "['one', 'two', 'three', 'four', 'five', 'six', 'seven', 'eight']"
      ]
     },
     "execution_count": 146,
     "metadata": {},
     "output_type": "execute_result"
    }
   ],
   "source": [
    "list1 = list1[::-1] # Reverse the list\n",
    "list1"
   ]
  },
  {
   "cell_type": "code",
   "execution_count": 147,
   "id": "309275b7-24fb-40ef-b37b-532ffeec7a9b",
   "metadata": {},
   "outputs": [
    {
     "data": {
      "text/plain": [
       "[2, 5, 9, 12, 34, 88, 99]"
      ]
     },
     "execution_count": 147,
     "metadata": {},
     "output_type": "execute_result"
    }
   ],
   "source": [
    "mylist3 = [9,5,2,99,12,88,34]\n",
    "mylist3.sort() # Sort list in ascending order\n",
    "mylist3"
   ]
  },
  {
   "cell_type": "code",
   "execution_count": 148,
   "id": "8e5229eb-ce13-4f9c-89bc-cfb2b3e6c8fb",
   "metadata": {},
   "outputs": [
    {
     "data": {
      "text/plain": [
       "[99, 88, 34, 12, 9, 5, 2]"
      ]
     },
     "execution_count": 148,
     "metadata": {},
     "output_type": "execute_result"
    }
   ],
   "source": [
    "mylist3 = [9,5,2,99,12,88,34]\n",
    "mylist3.sort(reverse=True) # Sort list in descending order\n",
    "mylist3"
   ]
  },
  {
   "cell_type": "code",
   "execution_count": 149,
   "id": "5d4a2679-382d-44fb-85cd-eb3283caf4db",
   "metadata": {},
   "outputs": [
    {
     "data": {
      "text/plain": [
       "[11, 21, 33, 65, 88, 98]"
      ]
     },
     "execution_count": 149,
     "metadata": {},
     "output_type": "execute_result"
    }
   ],
   "source": [
    "mylist4 = [88,65,33,21,11,98]\n",
    "sorted(mylist4) "
   ]
  },
  {
   "cell_type": "code",
   "execution_count": 150,
   "id": "3021e03a-26ca-4aa2-9ac3-db24be27e6b8",
   "metadata": {},
   "outputs": [
    {
     "data": {
      "text/plain": [
       "[88, 65, 33, 21, 11, 98]"
      ]
     },
     "execution_count": 150,
     "metadata": {},
     "output_type": "execute_result"
    }
   ],
   "source": [
    "mylist4"
   ]
  },
  {
   "cell_type": "markdown",
   "id": "060432b1-6648-4217-ab00-f13d23c388fe",
   "metadata": {},
   "source": [
    "### Loop through a list"
   ]
  },
  {
   "cell_type": "code",
   "execution_count": 151,
   "id": "c16ba305-0662-449d-8651-131e3ce47867",
   "metadata": {},
   "outputs": [
    {
     "data": {
      "text/plain": [
       "['one', 'two', 'three', 'four', 'five', 'six', 'seven', 'eight']"
      ]
     },
     "execution_count": 151,
     "metadata": {},
     "output_type": "execute_result"
    }
   ],
   "source": [
    "list1"
   ]
  },
  {
   "cell_type": "code",
   "execution_count": 152,
   "id": "8002ae74-896b-4e15-b21e-0b879b7e77c2",
   "metadata": {},
   "outputs": [
    {
     "name": "stdout",
     "output_type": "stream",
     "text": [
      "one\n",
      "two\n",
      "three\n",
      "four\n",
      "five\n",
      "six\n",
      "seven\n",
      "eight\n"
     ]
    }
   ],
   "source": [
    "for i in list1:\n",
    " print(i)"
   ]
  },
  {
   "cell_type": "code",
   "execution_count": 153,
   "id": "f0ac3aed-3ac0-42dd-8d13-c9baa6324dcf",
   "metadata": {},
   "outputs": [
    {
     "name": "stdout",
     "output_type": "stream",
     "text": [
      "(0, 'one')\n",
      "(1, 'two')\n",
      "(2, 'three')\n",
      "(3, 'four')\n",
      "(4, 'five')\n",
      "(5, 'six')\n",
      "(6, 'seven')\n",
      "(7, 'eight')\n"
     ]
    }
   ],
   "source": [
    "for i in enumerate(list1):\n",
    " print(i)"
   ]
  },
  {
   "cell_type": "markdown",
   "id": "cc4ce10a-9878-492c-99b4-c606cda79d27",
   "metadata": {},
   "source": [
    "### Count"
   ]
  },
  {
   "cell_type": "code",
   "execution_count": 154,
   "id": "6cd06ce2-4eb4-45e7-801e-8451b77677e6",
   "metadata": {},
   "outputs": [],
   "source": [
    "list10 =['one', 'two', 'three', 'four', 'one', 'one', 'two', 'three']"
   ]
  },
  {
   "cell_type": "code",
   "execution_count": 155,
   "id": "a5fea7dc-83a4-47ab-ad71-4bf4cf85211b",
   "metadata": {},
   "outputs": [
    {
     "data": {
      "text/plain": [
       "3"
      ]
     },
     "execution_count": 155,
     "metadata": {},
     "output_type": "execute_result"
    }
   ],
   "source": [
    "list10.count('one')"
   ]
  },
  {
   "cell_type": "code",
   "execution_count": 156,
   "id": "f4f6a667-9ebe-445a-805a-38fb36fd0a7f",
   "metadata": {},
   "outputs": [
    {
     "data": {
      "text/plain": [
       "2"
      ]
     },
     "execution_count": 156,
     "metadata": {},
     "output_type": "execute_result"
    }
   ],
   "source": [
    "list10.count('two')"
   ]
  },
  {
   "cell_type": "code",
   "execution_count": 157,
   "id": "7f387c4e-f45e-4332-817b-2166bd5819ef",
   "metadata": {},
   "outputs": [
    {
     "data": {
      "text/plain": [
       "1"
      ]
     },
     "execution_count": 157,
     "metadata": {},
     "output_type": "execute_result"
    }
   ],
   "source": [
    "list10.count('four')"
   ]
  },
  {
   "cell_type": "markdown",
   "id": "b02eced3-dfed-46f5-924f-15eb321c4866",
   "metadata": {},
   "source": [
    "### All / Any\n",
    "### The all() method returns:\n",
    "### True - If all elements in a list are true\n",
    "### False - If any element in a list is false\n",
    "### The any() function returns True if any element in the list is True. If not, any() returns False."
   ]
  },
  {
   "cell_type": "code",
   "execution_count": 158,
   "id": "2f048e42-97d2-4490-924b-950a44db478e",
   "metadata": {},
   "outputs": [],
   "source": [
    "L1 = [1,2,3,4,0]"
   ]
  },
  {
   "cell_type": "code",
   "execution_count": 159,
   "id": "040b4649-87f1-496a-9113-6ccfbaf3a0f2",
   "metadata": {},
   "outputs": [
    {
     "data": {
      "text/plain": [
       "False"
      ]
     },
     "execution_count": 159,
     "metadata": {},
     "output_type": "execute_result"
    }
   ],
   "source": [
    "all(L1) # Will Return false as one value is false (Value 0)"
   ]
  },
  {
   "cell_type": "code",
   "execution_count": 160,
   "id": "7d8fd178-6a45-461e-abcf-a3e2efed7b7d",
   "metadata": {},
   "outputs": [
    {
     "data": {
      "text/plain": [
       "True"
      ]
     },
     "execution_count": 160,
     "metadata": {},
     "output_type": "execute_result"
    }
   ],
   "source": [
    "any(L1) # Will Return True as we have items in the list with True value"
   ]
  },
  {
   "cell_type": "code",
   "execution_count": 161,
   "id": "13270d66-1e2c-4e59-a4cd-9836bf95176e",
   "metadata": {},
   "outputs": [],
   "source": [
    "L2 = [1,2,3,4,True,False]"
   ]
  },
  {
   "cell_type": "code",
   "execution_count": 162,
   "id": "040a94c7-95a9-4fc6-b2be-301bfd4efb2e",
   "metadata": {},
   "outputs": [
    {
     "data": {
      "text/plain": [
       "False"
      ]
     },
     "execution_count": 162,
     "metadata": {},
     "output_type": "execute_result"
    }
   ],
   "source": [
    "all(L2) # Returns false as one value is false"
   ]
  },
  {
   "cell_type": "code",
   "execution_count": 163,
   "id": "ea8d6164-2442-4b0d-8479-e0ea2fc74037",
   "metadata": {},
   "outputs": [
    {
     "data": {
      "text/plain": [
       "True"
      ]
     },
     "execution_count": 163,
     "metadata": {},
     "output_type": "execute_result"
    }
   ],
   "source": [
    "any(L2) # Will Return True as we have items in the list with True value"
   ]
  },
  {
   "cell_type": "code",
   "execution_count": 164,
   "id": "290380d1-6bee-4291-aeae-e5a0565b5309",
   "metadata": {},
   "outputs": [],
   "source": [
    "L3 = [1,2,3,True]"
   ]
  },
  {
   "cell_type": "code",
   "execution_count": 165,
   "id": "98ae6231-0e0f-4982-ae76-bb98a6170b17",
   "metadata": {},
   "outputs": [
    {
     "data": {
      "text/plain": [
       "True"
      ]
     },
     "execution_count": 165,
     "metadata": {},
     "output_type": "execute_result"
    }
   ],
   "source": [
    "all(L3) # Will return True as all items in the list are True"
   ]
  },
  {
   "cell_type": "code",
   "execution_count": 166,
   "id": "c07550a7-8a34-42b1-9a6e-2a369972eddf",
   "metadata": {},
   "outputs": [
    {
     "data": {
      "text/plain": [
       "True"
      ]
     },
     "execution_count": 166,
     "metadata": {},
     "output_type": "execute_result"
    }
   ],
   "source": [
    "any(L3) # Will Return True as we have items in the list with True value"
   ]
  },
  {
   "cell_type": "markdown",
   "id": "ffd94842-c6b7-4072-9e45-dacbb5c60cab",
   "metadata": {},
   "source": [
    "# List Comprehensions\n",
    "### List Comprehensions provide an elegant way to create new lists.\r",
    "### It consists of brackets containing an expression followed by a for clause, then zero or more for or if clauses.\n",
    "## [expression for item in iterable if condition]\r",
    "### expression: This is the operation you want to perform on each item in the iterable.\r",
    "### for item in iterable: This part specifies the iteration over the elements of the iterable.\n",
    "### if condition: This part is optional and allows you to filter out elements based on a condition.n.\n"
   ]
  },
  {
   "cell_type": "code",
   "execution_count": 167,
   "id": "089b583c-3925-4f4c-8d10-a40beebcf172",
   "metadata": {},
   "outputs": [
    {
     "data": {
      "text/plain": [
       "['W', 'E', 'L', 'C', 'O', 'M', 'E']"
      ]
     },
     "execution_count": 167,
     "metadata": {},
     "output_type": "execute_result"
    }
   ],
   "source": [
    "mystring = \"WELCOME\"\n",
    "mylist = [ i for i in mystring ] # Iterating through a string Using List Comprehe\n",
    "mylist"
   ]
  },
  {
   "cell_type": "code",
   "execution_count": 168,
   "id": "f822128b-ba6a-49c7-a2e5-bf402f018718",
   "metadata": {},
   "outputs": [
    {
     "data": {
      "text/plain": [
       "[0, 2, 4, 6, 8, 10, 12, 14, 16, 18, 20, 22, 24, 26, 28, 30, 32, 34, 36, 38]"
      ]
     },
     "execution_count": 168,
     "metadata": {},
     "output_type": "execute_result"
    }
   ],
   "source": [
    "mylist1 = [ i for i in range(40) if i % 2 == 0] # Display all even numbers betwee\n",
    "mylist1"
   ]
  },
  {
   "cell_type": "code",
   "execution_count": 169,
   "id": "3cad62ff-eaa6-4671-adb2-4f06d7e36f77",
   "metadata": {},
   "outputs": [
    {
     "data": {
      "text/plain": [
       "[1, 3, 5, 7, 9, 11, 13, 15, 17, 19, 21, 23, 25, 27, 29, 31, 33, 35, 37, 39]"
      ]
     },
     "execution_count": 169,
     "metadata": {},
     "output_type": "execute_result"
    }
   ],
   "source": [
    "mylist2 = [ i for i in range(40) if i % 2 == 1] # Display all odd numbers between\n",
    "mylist2"
   ]
  },
  {
   "cell_type": "code",
   "execution_count": 170,
   "id": "3840c3d7-9196-46c7-a9aa-3eb62b7ef382",
   "metadata": {},
   "outputs": [
    {
     "data": {
      "text/plain": [
       "[0, 1, 4, 9, 16, 25, 36, 49, 64, 81]"
      ]
     },
     "execution_count": 170,
     "metadata": {},
     "output_type": "execute_result"
    }
   ],
   "source": [
    "mylist3 = [num**2 for num in range(10)] # calculate square of all numbers between\n",
    "mylist3"
   ]
  },
  {
   "cell_type": "code",
   "execution_count": 171,
   "id": "b8c9b1dc-3bcb-4a59-b279-867d566d6bba",
   "metadata": {},
   "outputs": [
    {
     "data": {
      "text/plain": [
       "[20, 30, 40, 50, 60, 70, 80]"
      ]
     },
     "execution_count": 171,
     "metadata": {},
     "output_type": "execute_result"
    }
   ],
   "source": [
    "list1 = [2,3,4,5,6,7,8]\n",
    "list1 = [i*10 for i in list1]\n",
    "list1"
   ]
  },
  {
   "cell_type": "code",
   "execution_count": 172,
   "id": "93e5f3dc-3f99-4376-8263-bd8c32552a5c",
   "metadata": {},
   "outputs": [
    {
     "data": {
      "text/plain": [
       "[0, 36, 72, 108, 144, 180]"
      ]
     },
     "execution_count": 172,
     "metadata": {},
     "output_type": "execute_result"
    }
   ],
   "source": [
    "mylist4 = [i for i in range(200) if i % 3 == 0 if i % 9 == 0 if i % 12 == 0]\n",
    "mylist4"
   ]
  },
  {
   "cell_type": "code",
   "execution_count": 173,
   "id": "f9268b14-8932-46e5-9b4f-e716bcecba94",
   "metadata": {},
   "outputs": [
    {
     "name": "stdout",
     "output_type": "stream",
     "text": [
      "1 is odd number\n",
      "2 is Even Number\n",
      "3 is odd number\n",
      "4 is Even Number\n",
      "5 is odd number\n",
      "6 is Even Number\n",
      "7 is odd number\n",
      "8 is Even Number\n",
      "9 is odd number\n",
      "10 is Even Number\n"
     ]
    }
   ],
   "source": [
    "l1 = [print(\"{} is Even Number\".format(i)) if i%2==0 else print(\"{} is odd number\".format(i)) for i in range(1, 11)]"
   ]
  },
  {
   "cell_type": "code",
   "execution_count": 174,
   "id": "47b77b82-84c3-4c59-98b7-dbaaf833e3f8",
   "metadata": {},
   "outputs": [
    {
     "data": {
      "text/plain": [
       "['1', '2', '3', '4', '5', '6', '7', '8', '9']"
      ]
     },
     "execution_count": 174,
     "metadata": {},
     "output_type": "execute_result"
    }
   ],
   "source": [
    "mystr = \"One 1 two 2 three 3 four 4 five 5 six 6789\"\n",
    "numbers = [i for i in mystr if i.isdigit()]\n",
    "numbers"
   ]
  },
  {
   "cell_type": "code",
   "execution_count": 175,
   "id": "0733b97e-661e-47a0-ac56-c2f76d31c2bf",
   "metadata": {},
   "outputs": [
    {
     "data": {
      "text/plain": [
       "['O',\n",
       " 'n',\n",
       " 'e',\n",
       " 't',\n",
       " 'w',\n",
       " 'o',\n",
       " 't',\n",
       " 'h',\n",
       " 'r',\n",
       " 'e',\n",
       " 'e',\n",
       " 'f',\n",
       " 'o',\n",
       " 'u',\n",
       " 'r',\n",
       " 'f',\n",
       " 'i',\n",
       " 'v',\n",
       " 'e',\n",
       " 's',\n",
       " 'i',\n",
       " 'x']"
      ]
     },
     "execution_count": 175,
     "metadata": {},
     "output_type": "execute_result"
    }
   ],
   "source": [
    "mystr = \"One 1 two 2 three 3 four 4 five 5 six 6789\"\n",
    "numbers = [i for i in mystr if i.isalpha()]\n",
    "numbers"
   ]
  },
  {
   "cell_type": "markdown",
   "id": "ff2cb14e-24a1-4777-9054-880be1cf31db",
   "metadata": {},
   "source": [
    "# Tuples"
   ]
  },
  {
   "cell_type": "markdown",
   "id": "42959fdd-9825-419e-b0f2-a2df12085684",
   "metadata": {},
   "source": [
    "## Tuple Creation"
   ]
  },
  {
   "cell_type": "code",
   "execution_count": 176,
   "id": "174f3048-504f-4a67-b7ff-3c4a70829cc0",
   "metadata": {},
   "outputs": [],
   "source": [
    "tup1 = ()"
   ]
  },
  {
   "cell_type": "code",
   "execution_count": 177,
   "id": "c7833bce-ada3-4ca0-9952-4c3068ce61d5",
   "metadata": {},
   "outputs": [],
   "source": [
    "tup2 = (10,30,60)"
   ]
  },
  {
   "cell_type": "code",
   "execution_count": 178,
   "id": "b50d531d-4919-43b3-9b9e-707aa5df804e",
   "metadata": {},
   "outputs": [],
   "source": [
    "tup3 = (10.77,30.66,60.89) "
   ]
  },
  {
   "cell_type": "code",
   "execution_count": 179,
   "id": "38a9a19a-82e4-4f56-8f8e-ef31c8a42da7",
   "metadata": {},
   "outputs": [],
   "source": [
    "tup4 = ('one','two' , \"three\")"
   ]
  },
  {
   "cell_type": "code",
   "execution_count": 180,
   "id": "e735ec78-046a-4ce5-a1fb-9cc15f79ebe9",
   "metadata": {},
   "outputs": [],
   "source": [
    "tup5 = ('Asif', 25 ,(50, 100),(150, 90))"
   ]
  },
  {
   "cell_type": "code",
   "execution_count": 181,
   "id": "64bceff5-ec09-4e75-84f2-14c8637c774e",
   "metadata": {},
   "outputs": [],
   "source": [
    "tup6 = (100, 'Asif', 17.765) "
   ]
  },
  {
   "cell_type": "code",
   "execution_count": 182,
   "id": "be4961b6-32c5-43a0-98ca-3f2c67957fa5",
   "metadata": {},
   "outputs": [],
   "source": [
    "tup7 = ('Asif', 25 ,[50, 100],[150, 90] , {'John' , 'David'} , (99,22,33))"
   ]
  },
  {
   "cell_type": "code",
   "execution_count": 183,
   "id": "4ccfa864-96b2-4a19-b53a-b58f097611e6",
   "metadata": {},
   "outputs": [
    {
     "data": {
      "text/plain": [
       "6"
      ]
     },
     "execution_count": 183,
     "metadata": {},
     "output_type": "execute_result"
    }
   ],
   "source": [
    "len(tup7)"
   ]
  },
  {
   "cell_type": "markdown",
   "id": "d07f4c60-6be8-4082-b9aa-1549e621e32c",
   "metadata": {},
   "source": [
    "## Tuple Indexing"
   ]
  },
  {
   "cell_type": "code",
   "execution_count": 184,
   "id": "39519b2c-5e1e-4964-bf50-945943c726cd",
   "metadata": {},
   "outputs": [
    {
     "data": {
      "text/plain": [
       "10"
      ]
     },
     "execution_count": 184,
     "metadata": {},
     "output_type": "execute_result"
    }
   ],
   "source": [
    "tup2[0]"
   ]
  },
  {
   "cell_type": "code",
   "execution_count": 185,
   "id": "0f77d667-1283-4a4b-acb7-cd111d79de18",
   "metadata": {},
   "outputs": [
    {
     "data": {
      "text/plain": [
       "'one'"
      ]
     },
     "execution_count": 185,
     "metadata": {},
     "output_type": "execute_result"
    }
   ],
   "source": [
    "tup4[0]"
   ]
  },
  {
   "cell_type": "code",
   "execution_count": 186,
   "id": "eeeb0f68-b283-4269-8db6-875df756c227",
   "metadata": {},
   "outputs": [
    {
     "data": {
      "text/plain": [
       "'o'"
      ]
     },
     "execution_count": 186,
     "metadata": {},
     "output_type": "execute_result"
    }
   ],
   "source": [
    "tup4[0][0] "
   ]
  },
  {
   "cell_type": "code",
   "execution_count": 187,
   "id": "e2ce5a3d-edd0-42bd-9f9f-a875f4299738",
   "metadata": {},
   "outputs": [
    {
     "data": {
      "text/plain": [
       "'three'"
      ]
     },
     "execution_count": 187,
     "metadata": {},
     "output_type": "execute_result"
    }
   ],
   "source": [
    "tup4[-1] "
   ]
  },
  {
   "cell_type": "code",
   "execution_count": 188,
   "id": "e17b3f26-91cc-4415-a990-69b952af755c",
   "metadata": {},
   "outputs": [
    {
     "data": {
      "text/plain": [
       "(150, 90)"
      ]
     },
     "execution_count": 188,
     "metadata": {},
     "output_type": "execute_result"
    }
   ],
   "source": [
    "tup5[-1]"
   ]
  },
  {
   "cell_type": "markdown",
   "id": "5c46e23d-6e82-4d37-99c1-da549acfeef1",
   "metadata": {},
   "source": [
    "## Tuple Slicing"
   ]
  },
  {
   "cell_type": "code",
   "execution_count": 189,
   "id": "cc5d42bd-24ad-425f-baec-45550b20b3d2",
   "metadata": {},
   "outputs": [],
   "source": [
    "mytuple = ('one' , 'two' , 'three' , 'four' , 'five' , 'six' , 'seven' , 'eight')"
   ]
  },
  {
   "cell_type": "code",
   "execution_count": 190,
   "id": "041ed34b-b6f7-43d6-8b29-6c7220658354",
   "metadata": {},
   "outputs": [
    {
     "data": {
      "text/plain": [
       "('one', 'two', 'three')"
      ]
     },
     "execution_count": 190,
     "metadata": {},
     "output_type": "execute_result"
    }
   ],
   "source": [
    "mytuple[0:3] "
   ]
  },
  {
   "cell_type": "code",
   "execution_count": 191,
   "id": "ad76b02d-f642-44c2-a2dc-f60ea8e87733",
   "metadata": {},
   "outputs": [
    {
     "data": {
      "text/plain": [
       "('three', 'four', 'five')"
      ]
     },
     "execution_count": 191,
     "metadata": {},
     "output_type": "execute_result"
    }
   ],
   "source": [
    "mytuple[2:5]"
   ]
  },
  {
   "cell_type": "code",
   "execution_count": 192,
   "id": "17f22d0e-fe00-49e9-a9a8-2c4dd07d4d14",
   "metadata": {},
   "outputs": [
    {
     "data": {
      "text/plain": [
       "('one', 'two', 'three')"
      ]
     },
     "execution_count": 192,
     "metadata": {},
     "output_type": "execute_result"
    }
   ],
   "source": [
    "mytuple[:3]"
   ]
  },
  {
   "cell_type": "code",
   "execution_count": 193,
   "id": "fcd8ee08-ab42-4323-a521-1f1097f35c6d",
   "metadata": {},
   "outputs": [
    {
     "data": {
      "text/plain": [
       "('one', 'two')"
      ]
     },
     "execution_count": 193,
     "metadata": {},
     "output_type": "execute_result"
    }
   ],
   "source": [
    "mytuple[:2] "
   ]
  },
  {
   "cell_type": "code",
   "execution_count": 194,
   "id": "d132e120-86bb-461b-a7ff-4abbda2d55d5",
   "metadata": {},
   "outputs": [
    {
     "data": {
      "text/plain": [
       "('six', 'seven', 'eight')"
      ]
     },
     "execution_count": 194,
     "metadata": {},
     "output_type": "execute_result"
    }
   ],
   "source": [
    "mytuple[-3:]"
   ]
  },
  {
   "cell_type": "code",
   "execution_count": 195,
   "id": "efd31d16-7aab-42e3-9b4d-f2a6554b02cf",
   "metadata": {},
   "outputs": [
    {
     "data": {
      "text/plain": [
       "('seven', 'eight')"
      ]
     },
     "execution_count": 195,
     "metadata": {},
     "output_type": "execute_result"
    }
   ],
   "source": [
    "mytuple[-2:]"
   ]
  },
  {
   "cell_type": "code",
   "execution_count": 196,
   "id": "af9f91ca-f7f9-467c-96fb-d9e481e58c49",
   "metadata": {},
   "outputs": [
    {
     "data": {
      "text/plain": [
       "'eight'"
      ]
     },
     "execution_count": 196,
     "metadata": {},
     "output_type": "execute_result"
    }
   ],
   "source": [
    "mytuple[-1]"
   ]
  },
  {
   "cell_type": "code",
   "execution_count": 197,
   "id": "4b4d26df-3fcc-4175-a024-cd3a9103af1c",
   "metadata": {},
   "outputs": [
    {
     "data": {
      "text/plain": [
       "('one', 'two', 'three', 'four', 'five', 'six', 'seven', 'eight')"
      ]
     },
     "execution_count": 197,
     "metadata": {},
     "output_type": "execute_result"
    }
   ],
   "source": [
    "mytuple[:]"
   ]
  },
  {
   "cell_type": "code",
   "execution_count": 198,
   "id": "2ae6a25a-53d3-4736-89b3-68137dd56b0d",
   "metadata": {},
   "outputs": [],
   "source": [
    "del mytuple"
   ]
  },
  {
   "cell_type": "markdown",
   "id": "a19146fc-b2d8-43f8-816f-63c6e6286bea",
   "metadata": {},
   "source": [
    "## Loop through a tuple"
   ]
  },
  {
   "cell_type": "code",
   "execution_count": 200,
   "id": "1e14f857-73aa-4784-b23a-01434c621b24",
   "metadata": {},
   "outputs": [],
   "source": [
    "mytuple = ('one' , 'two' , 'three' , 'four' , 'five' , 'six' , 'seven' , 'eight')"
   ]
  },
  {
   "cell_type": "code",
   "execution_count": 201,
   "id": "28153930-27b8-40e6-ad8f-7dd5a77a6319",
   "metadata": {},
   "outputs": [
    {
     "name": "stdout",
     "output_type": "stream",
     "text": [
      "one\n",
      "two\n",
      "three\n",
      "four\n",
      "five\n",
      "six\n",
      "seven\n",
      "eight\n"
     ]
    }
   ],
   "source": [
    "for i in mytuple:\n",
    " print(i)"
   ]
  },
  {
   "cell_type": "code",
   "execution_count": 202,
   "id": "0870c22b-b0df-4343-adca-7def15a61504",
   "metadata": {},
   "outputs": [
    {
     "name": "stdout",
     "output_type": "stream",
     "text": [
      "(0, 'one')\n",
      "(1, 'two')\n",
      "(2, 'three')\n",
      "(3, 'four')\n",
      "(4, 'five')\n",
      "(5, 'six')\n",
      "(6, 'seven')\n",
      "(7, 'eight')\n"
     ]
    }
   ],
   "source": [
    "for i in enumerate(mytuple):\n",
    " print(i)"
   ]
  },
  {
   "cell_type": "markdown",
   "id": "0bf10fc7-2d9f-40f8-adc9-d7c07b2a1264",
   "metadata": {},
   "source": [
    "## Count"
   ]
  },
  {
   "cell_type": "code",
   "execution_count": 203,
   "id": "43e312da-e698-4615-a30e-3735538ae571",
   "metadata": {},
   "outputs": [],
   "source": [
    "mytuple1 =('one', 'two', 'three', 'four', 'one', 'one', 'two', 'three')"
   ]
  },
  {
   "cell_type": "code",
   "execution_count": 204,
   "id": "9964b75e-7097-4ddf-85a9-061596d36446",
   "metadata": {},
   "outputs": [
    {
     "data": {
      "text/plain": [
       "3"
      ]
     },
     "execution_count": 204,
     "metadata": {},
     "output_type": "execute_result"
    }
   ],
   "source": [
    "mytuple1.count('one') "
   ]
  },
  {
   "cell_type": "code",
   "execution_count": 205,
   "id": "079db7d1-de92-44ee-882a-774c7592570f",
   "metadata": {},
   "outputs": [
    {
     "data": {
      "text/plain": [
       "2"
      ]
     },
     "execution_count": 205,
     "metadata": {},
     "output_type": "execute_result"
    }
   ],
   "source": [
    "mytuple1.count('two')"
   ]
  },
  {
   "cell_type": "code",
   "execution_count": 206,
   "id": "8573156e-041e-49a4-a8ac-c3efed818c4a",
   "metadata": {},
   "outputs": [
    {
     "data": {
      "text/plain": [
       "1"
      ]
     },
     "execution_count": 206,
     "metadata": {},
     "output_type": "execute_result"
    }
   ],
   "source": [
    "mytuple1.count('four')"
   ]
  },
  {
   "cell_type": "markdown",
   "id": "9ad44fc4-0d28-4bfb-8edc-15b003ee21f6",
   "metadata": {},
   "source": [
    "## Tuple Membership"
   ]
  },
  {
   "cell_type": "code",
   "execution_count": 207,
   "id": "19e4f689-1d8e-48fe-baca-3c93762f9b43",
   "metadata": {},
   "outputs": [
    {
     "data": {
      "text/plain": [
       "('one', 'two', 'three', 'four', 'five', 'six', 'seven', 'eight')"
      ]
     },
     "execution_count": 207,
     "metadata": {},
     "output_type": "execute_result"
    }
   ],
   "source": [
    "mytuple"
   ]
  },
  {
   "cell_type": "code",
   "execution_count": 208,
   "id": "ebee02dc-4117-426d-93ad-dbef5ed084f0",
   "metadata": {},
   "outputs": [
    {
     "data": {
      "text/plain": [
       "True"
      ]
     },
     "execution_count": 208,
     "metadata": {},
     "output_type": "execute_result"
    }
   ],
   "source": [
    "'one' in mytuple"
   ]
  },
  {
   "cell_type": "code",
   "execution_count": 209,
   "id": "71d8bd42-7188-48e4-b60b-e8ffa103ad40",
   "metadata": {},
   "outputs": [
    {
     "data": {
      "text/plain": [
       "False"
      ]
     },
     "execution_count": 209,
     "metadata": {},
     "output_type": "execute_result"
    }
   ],
   "source": [
    "'ten' in mytuple"
   ]
  },
  {
   "cell_type": "code",
   "execution_count": 210,
   "id": "8b8acdbe-5ef1-40cb-a315-8e51d672aecd",
   "metadata": {},
   "outputs": [
    {
     "name": "stdout",
     "output_type": "stream",
     "text": [
      "Three is present in the tuple\n"
     ]
    }
   ],
   "source": [
    "if 'three' in mytuple: # Check if 'three' exist in the list\n",
    " print('Three is present in the tuple')\n",
    "else:\n",
    " print('Three is not present in the tuple')"
   ]
  },
  {
   "cell_type": "code",
   "execution_count": 211,
   "id": "576bde27-e989-415d-a553-1a670d2bbdda",
   "metadata": {},
   "outputs": [
    {
     "name": "stdout",
     "output_type": "stream",
     "text": [
      "eleven is not present in the tuple\n"
     ]
    }
   ],
   "source": [
    "if 'eleven' in mytuple: # Check if 'eleven' exist in the list\n",
    " print('eleven is present in the tuple')\n",
    "else:\n",
    " print('eleven is not present in the tuple')"
   ]
  },
  {
   "cell_type": "markdown",
   "id": "d5f923de-e172-4bda-8f38-ffa5aba4f2b0",
   "metadata": {},
   "source": [
    "## Index Position"
   ]
  },
  {
   "cell_type": "code",
   "execution_count": 212,
   "id": "e0d7bc86-b158-46f3-a5f6-5acee18acced",
   "metadata": {},
   "outputs": [
    {
     "data": {
      "text/plain": [
       "('one', 'two', 'three', 'four', 'five', 'six', 'seven', 'eight')"
      ]
     },
     "execution_count": 212,
     "metadata": {},
     "output_type": "execute_result"
    }
   ],
   "source": [
    "mytuple"
   ]
  },
  {
   "cell_type": "code",
   "execution_count": 213,
   "id": "384e55a4-3a10-4943-a1bd-39e039f291d0",
   "metadata": {},
   "outputs": [
    {
     "data": {
      "text/plain": [
       "0"
      ]
     },
     "execution_count": 213,
     "metadata": {},
     "output_type": "execute_result"
    }
   ],
   "source": [
    "mytuple.index('one') # Index of first element equal to 'one'"
   ]
  },
  {
   "cell_type": "code",
   "execution_count": 214,
   "id": "c66d75b8-fb85-4fc9-a35b-a9c2cdb40620",
   "metadata": {},
   "outputs": [
    {
     "data": {
      "text/plain": [
       "4"
      ]
     },
     "execution_count": 214,
     "metadata": {},
     "output_type": "execute_result"
    }
   ],
   "source": [
    "mytuple.index('five') # Index of first element equal to 'five'"
   ]
  },
  {
   "cell_type": "code",
   "execution_count": 215,
   "id": "051adfe4-0467-4c60-8f4f-50ddaccdc342",
   "metadata": {},
   "outputs": [
    {
     "data": {
      "text/plain": [
       "('one', 'two', 'three', 'four', 'one', 'one', 'two', 'three')"
      ]
     },
     "execution_count": 215,
     "metadata": {},
     "output_type": "execute_result"
    }
   ],
   "source": [
    "mytuple1"
   ]
  },
  {
   "cell_type": "code",
   "execution_count": 216,
   "id": "87ecfe7c-ed56-439b-8fc9-35a551cabb97",
   "metadata": {},
   "outputs": [
    {
     "data": {
      "text/plain": [
       "0"
      ]
     },
     "execution_count": 216,
     "metadata": {},
     "output_type": "execute_result"
    }
   ],
   "source": [
    "mytuple1.index('one') # Index of first element equal to 'one'"
   ]
  },
  {
   "cell_type": "markdown",
   "id": "1b085bfb-4e81-4d86-a72b-e21f9417a229",
   "metadata": {},
   "source": [
    "## Sorting"
   ]
  },
  {
   "cell_type": "code",
   "execution_count": 217,
   "id": "7f715049-3a61-4b3f-8910-49172956886b",
   "metadata": {},
   "outputs": [],
   "source": [
    "mytuple2 = (43,67,99,12,6,90,67)"
   ]
  },
  {
   "cell_type": "code",
   "execution_count": 218,
   "id": "b6e363cc-c103-4d91-a785-ecfe4ee2e80f",
   "metadata": {},
   "outputs": [
    {
     "data": {
      "text/plain": [
       "[6, 12, 43, 67, 67, 90, 99]"
      ]
     },
     "execution_count": 218,
     "metadata": {},
     "output_type": "execute_result"
    }
   ],
   "source": [
    "sorted(mytuple2) # Returns a new sorted list and doesn't change original tuple"
   ]
  },
  {
   "cell_type": "code",
   "execution_count": 219,
   "id": "2e47aad7-cf76-4296-81ba-3f7c5c5b1455",
   "metadata": {},
   "outputs": [
    {
     "data": {
      "text/plain": [
       "[99, 90, 67, 67, 43, 12, 6]"
      ]
     },
     "execution_count": 219,
     "metadata": {},
     "output_type": "execute_result"
    }
   ],
   "source": [
    "sorted(mytuple2, reverse=True) # Sort in descending order"
   ]
  },
  {
   "cell_type": "markdown",
   "id": "ee4a5499-2dbb-42f0-91a0-663845ee3c5d",
   "metadata": {},
   "source": [
    "# Sets\n",
    "## 1) Unordered & Unindexed collection of items.\n",
    "## 2) Set elements are unique. Duplicate elements are not allowed.\n",
    "## 3) Set elements are immutable (cannot be changed).\n",
    "## 4) Set itself is mutable. We can add or remove items from it."
   ]
  },
  {
   "cell_type": "code",
   "execution_count": 220,
   "id": "02393ffe-27e0-40ec-94a1-be37e0b2a494",
   "metadata": {},
   "outputs": [
    {
     "data": {
      "text/plain": [
       "{1, 2, 3, 4, 5}"
      ]
     },
     "execution_count": 220,
     "metadata": {},
     "output_type": "execute_result"
    }
   ],
   "source": [
    "myset = {1,2,3,4,5} # Set of numbers\n",
    "myset"
   ]
  },
  {
   "cell_type": "code",
   "execution_count": 221,
   "id": "24035e82-1795-4e17-ac26-25e4a127d178",
   "metadata": {},
   "outputs": [
    {
     "data": {
      "text/plain": [
       "5"
      ]
     },
     "execution_count": 221,
     "metadata": {},
     "output_type": "execute_result"
    }
   ],
   "source": [
    "len(myset) #Length of the set"
   ]
  },
  {
   "cell_type": "code",
   "execution_count": 222,
   "id": "4be61940-39b0-4247-bf2a-8744dddfdc2c",
   "metadata": {},
   "outputs": [
    {
     "data": {
      "text/plain": [
       "{1, 2, 3, 4, 5}"
      ]
     },
     "execution_count": 222,
     "metadata": {},
     "output_type": "execute_result"
    }
   ],
   "source": [
    "my_set = {1,1,2,2,3,4,5,5}\n",
    "my_set "
   ]
  },
  {
   "cell_type": "code",
   "execution_count": 223,
   "id": "18c0636e-730d-435c-8926-e8b4cab315b2",
   "metadata": {},
   "outputs": [
    {
     "data": {
      "text/plain": [
       "{1.79, 2.08, 3.99, 4.56, 5.45}"
      ]
     },
     "execution_count": 223,
     "metadata": {},
     "output_type": "execute_result"
    }
   ],
   "source": [
    "myset1 = {1.79,2.08,3.99,4.56,5.45} # Set of float numbers\n",
    "myset1"
   ]
  },
  {
   "cell_type": "code",
   "execution_count": 224,
   "id": "d21e6c34-5c6b-4739-b2c4-55e64feb73ba",
   "metadata": {},
   "outputs": [
    {
     "data": {
      "text/plain": [
       "{'Asif', 'John', 'Tyrion'}"
      ]
     },
     "execution_count": 224,
     "metadata": {},
     "output_type": "execute_result"
    }
   ],
   "source": [
    "myset2 = {'Asif' , 'John' , 'Tyrion'} # Set of Strings\n",
    "myset2"
   ]
  },
  {
   "cell_type": "code",
   "execution_count": 225,
   "id": "5a36d874-2e7f-4344-a8cd-f55e4c137ced",
   "metadata": {},
   "outputs": [
    {
     "data": {
      "text/plain": [
       "{(11, 22, 32), 10, 20, 'Hola'}"
      ]
     },
     "execution_count": 225,
     "metadata": {},
     "output_type": "execute_result"
    }
   ],
   "source": [
    "myset3 = {10,20, \"Hola\", (11, 22, 32)} # Mixed datatypes\n",
    "myset3"
   ]
  },
  {
   "cell_type": "code",
   "execution_count": 226,
   "id": "405d925a-5f43-4503-baff-ee9f16754a94",
   "metadata": {},
   "outputs": [
    {
     "name": "stdout",
     "output_type": "stream",
     "text": [
      "<class 'set'>\n"
     ]
    }
   ],
   "source": [
    "myset4 = set() # Create an empty set\n",
    "print(type(myset4))"
   ]
  },
  {
   "cell_type": "code",
   "execution_count": 227,
   "id": "e5eb3e44-ba14-4d3f-83f8-0fb4d275c421",
   "metadata": {},
   "outputs": [
    {
     "data": {
      "text/plain": [
       "{1, 2, 3, 4, 5}"
      ]
     },
     "execution_count": 227,
     "metadata": {},
     "output_type": "execute_result"
    }
   ],
   "source": [
    "my_set1 = set(('one' , 'two' , 'three' , 'four'))\n",
    "my_set"
   ]
  },
  {
   "cell_type": "markdown",
   "id": "29dee3ca-6d3c-4268-a121-c8f3d0546178",
   "metadata": {},
   "source": [
    "## Loop through a Set"
   ]
  },
  {
   "cell_type": "code",
   "execution_count": 228,
   "id": "9a178c32-21a4-4672-ae1b-48377b0826b2",
   "metadata": {},
   "outputs": [
    {
     "name": "stdout",
     "output_type": "stream",
     "text": [
      "two\n",
      "four\n",
      "six\n",
      "seven\n",
      "eight\n",
      "three\n",
      "five\n",
      "one\n"
     ]
    }
   ],
   "source": [
    "myset = {'one', 'two', 'three', 'four', 'five', 'six', 'seven', 'eight'}\n",
    "for i in myset:\n",
    " print(i)"
   ]
  },
  {
   "cell_type": "code",
   "execution_count": 229,
   "id": "4e67a013-e814-4d07-ad40-c5a09034927a",
   "metadata": {},
   "outputs": [
    {
     "name": "stdout",
     "output_type": "stream",
     "text": [
      "(0, 'two')\n",
      "(1, 'four')\n",
      "(2, 'six')\n",
      "(3, 'seven')\n",
      "(4, 'eight')\n",
      "(5, 'three')\n",
      "(6, 'five')\n",
      "(7, 'one')\n"
     ]
    }
   ],
   "source": [
    "for i in enumerate(myset):\n",
    " print(i)"
   ]
  },
  {
   "cell_type": "markdown",
   "id": "72cf4954-6baf-4978-a34f-b92944474062",
   "metadata": {},
   "source": [
    "## Set Membership"
   ]
  },
  {
   "cell_type": "code",
   "execution_count": 230,
   "id": "dfa980a5-c6d5-49dc-80f8-3f51b180cc81",
   "metadata": {},
   "outputs": [
    {
     "data": {
      "text/plain": [
       "{'eight', 'five', 'four', 'one', 'seven', 'six', 'three', 'two'}"
      ]
     },
     "execution_count": 230,
     "metadata": {},
     "output_type": "execute_result"
    }
   ],
   "source": [
    "myset"
   ]
  },
  {
   "cell_type": "code",
   "execution_count": 231,
   "id": "0141b602-530d-4af1-80da-22147022311f",
   "metadata": {},
   "outputs": [
    {
     "data": {
      "text/plain": [
       "True"
      ]
     },
     "execution_count": 231,
     "metadata": {},
     "output_type": "execute_result"
    }
   ],
   "source": [
    "'one' in myset # Check if 'one' exist in the set"
   ]
  },
  {
   "cell_type": "code",
   "execution_count": 232,
   "id": "bbeda851-86b3-4bf5-9e9c-8f71b95e5cbc",
   "metadata": {},
   "outputs": [
    {
     "data": {
      "text/plain": [
       "False"
      ]
     },
     "execution_count": 232,
     "metadata": {},
     "output_type": "execute_result"
    }
   ],
   "source": [
    "'ten' in myset # Check if 'ten' exist in the set"
   ]
  },
  {
   "cell_type": "code",
   "execution_count": 233,
   "id": "ce90f23d-0b92-4b77-add9-670721ca30b4",
   "metadata": {},
   "outputs": [
    {
     "name": "stdout",
     "output_type": "stream",
     "text": [
      "Three is present in the set\n"
     ]
    }
   ],
   "source": [
    "if 'three' in myset: # Check if 'three' exist in the set\n",
    " print('Three is present in the set')\n",
    "else:\n",
    " print('Three is not present in the set')"
   ]
  },
  {
   "cell_type": "code",
   "execution_count": 234,
   "id": "2b935f03-fbee-4ab8-a22c-f3d9b2e44d59",
   "metadata": {},
   "outputs": [
    {
     "name": "stdout",
     "output_type": "stream",
     "text": [
      "eleven is not present in the set\n"
     ]
    }
   ],
   "source": [
    "if 'eleven' in myset: # Check if 'eleven' exist in the list\n",
    " print('eleven is present in the set')\n",
    "else:\n",
    " print('eleven is not present in the set')"
   ]
  },
  {
   "cell_type": "markdown",
   "id": "32dafd4a-4ed4-400d-94ad-4283668bc9ab",
   "metadata": {},
   "source": [
    "## Add & Remove Items"
   ]
  },
  {
   "cell_type": "code",
   "execution_count": 235,
   "id": "4dbeab0f-2c1a-404e-b1ca-aa08acbf1d41",
   "metadata": {},
   "outputs": [
    {
     "data": {
      "text/plain": [
       "{'eight', 'five', 'four', 'one', 'seven', 'six', 'three', 'two'}"
      ]
     },
     "execution_count": 235,
     "metadata": {},
     "output_type": "execute_result"
    }
   ],
   "source": [
    "myset"
   ]
  },
  {
   "cell_type": "code",
   "execution_count": 236,
   "id": "da581332-9a83-4036-bed5-6f39343686e2",
   "metadata": {},
   "outputs": [
    {
     "data": {
      "text/plain": [
       "{'NINE', 'eight', 'five', 'four', 'one', 'seven', 'six', 'three', 'two'}"
      ]
     },
     "execution_count": 236,
     "metadata": {},
     "output_type": "execute_result"
    }
   ],
   "source": [
    "myset.add('NINE') # Add item to a set using add() method\n",
    "myset"
   ]
  },
  {
   "cell_type": "code",
   "execution_count": 237,
   "id": "5a2fdc0f-6806-421f-9d74-c3891aa5222c",
   "metadata": {},
   "outputs": [
    {
     "data": {
      "text/plain": [
       "{'ELEVEN',\n",
       " 'NINE',\n",
       " 'TEN',\n",
       " 'TWELVE',\n",
       " 'eight',\n",
       " 'five',\n",
       " 'four',\n",
       " 'one',\n",
       " 'seven',\n",
       " 'six',\n",
       " 'three',\n",
       " 'two'}"
      ]
     },
     "execution_count": 237,
     "metadata": {},
     "output_type": "execute_result"
    }
   ],
   "source": [
    "myset.update(['TEN' , 'ELEVEN' , 'TWELVE']) \n",
    "myset"
   ]
  },
  {
   "cell_type": "code",
   "execution_count": 238,
   "id": "254946d3-2024-4b3f-8452-f06d2daa035d",
   "metadata": {},
   "outputs": [
    {
     "data": {
      "text/plain": [
       "{'ELEVEN',\n",
       " 'TEN',\n",
       " 'TWELVE',\n",
       " 'eight',\n",
       " 'five',\n",
       " 'four',\n",
       " 'one',\n",
       " 'seven',\n",
       " 'six',\n",
       " 'three',\n",
       " 'two'}"
      ]
     },
     "execution_count": 238,
     "metadata": {},
     "output_type": "execute_result"
    }
   ],
   "source": [
    "myset.remove('NINE') # remove item in a set using remove() method\n",
    "myset"
   ]
  },
  {
   "cell_type": "code",
   "execution_count": 239,
   "id": "d2f7b723-8606-4490-a26d-e4f85f337c35",
   "metadata": {},
   "outputs": [
    {
     "data": {
      "text/plain": [
       "{'ELEVEN',\n",
       " 'TWELVE',\n",
       " 'eight',\n",
       " 'five',\n",
       " 'four',\n",
       " 'one',\n",
       " 'seven',\n",
       " 'six',\n",
       " 'three',\n",
       " 'two'}"
      ]
     },
     "execution_count": 239,
     "metadata": {},
     "output_type": "execute_result"
    }
   ],
   "source": [
    "myset.discard('TEN') # remove item from a set using discard() method\n",
    "myset"
   ]
  },
  {
   "cell_type": "code",
   "execution_count": 240,
   "id": "98e0c6d6-2490-4af8-a938-bdc7551e1cac",
   "metadata": {},
   "outputs": [
    {
     "data": {
      "text/plain": [
       "set()"
      ]
     },
     "execution_count": 240,
     "metadata": {},
     "output_type": "execute_result"
    }
   ],
   "source": [
    "myset.clear() # Delete all items in a set\n",
    "myset"
   ]
  },
  {
   "cell_type": "code",
   "execution_count": 241,
   "id": "a20bfa69-4f88-4f33-ac24-fc693d0b885f",
   "metadata": {},
   "outputs": [],
   "source": [
    "del myset # Delete the set object"
   ]
  },
  {
   "cell_type": "markdown",
   "id": "453ceb75-30fb-4f7a-8a4f-93f558aa8a52",
   "metadata": {},
   "source": [
    "## Copy Set"
   ]
  },
  {
   "cell_type": "code",
   "execution_count": 242,
   "id": "24f47a86-4494-40ae-bf3b-2737abb7f02c",
   "metadata": {},
   "outputs": [
    {
     "data": {
      "text/plain": [
       "{'eight', 'five', 'four', 'one', 'seven', 'six', 'three', 'two'}"
      ]
     },
     "execution_count": 242,
     "metadata": {},
     "output_type": "execute_result"
    }
   ],
   "source": [
    "myset = {'one', 'two', 'three', 'four', 'five', 'six', 'seven', 'eight'}\n",
    "myset"
   ]
  },
  {
   "cell_type": "code",
   "execution_count": 243,
   "id": "b373d3d2-bfcb-433c-8006-cb5d20414c8f",
   "metadata": {},
   "outputs": [
    {
     "data": {
      "text/plain": [
       "{'eight', 'five', 'four', 'one', 'seven', 'six', 'three', 'two'}"
      ]
     },
     "execution_count": 243,
     "metadata": {},
     "output_type": "execute_result"
    }
   ],
   "source": [
    "myset1 = myset # Create a new reference \"myset1\" \n",
    "myset1"
   ]
  },
  {
   "cell_type": "code",
   "execution_count": 244,
   "id": "c45464e3-9f99-42c4-977b-d00e3d67895c",
   "metadata": {},
   "outputs": [
    {
     "data": {
      "text/plain": [
       "(2321459703904, 2321459703904)"
      ]
     },
     "execution_count": 244,
     "metadata": {},
     "output_type": "execute_result"
    }
   ],
   "source": [
    "id(myset) , id(myset1)"
   ]
  },
  {
   "cell_type": "code",
   "execution_count": 245,
   "id": "8253629c-163d-4166-9bcd-e1966fe1437e",
   "metadata": {},
   "outputs": [
    {
     "data": {
      "text/plain": [
       "{'eight', 'five', 'four', 'one', 'seven', 'six', 'three', 'two'}"
      ]
     },
     "execution_count": 245,
     "metadata": {},
     "output_type": "execute_result"
    }
   ],
   "source": [
    "my_set = myset.copy() # Create a copy of the list\n",
    "my_set"
   ]
  },
  {
   "cell_type": "code",
   "execution_count": 246,
   "id": "7315cf15-f365-4c8f-99a6-3ebb638c3330",
   "metadata": {},
   "outputs": [
    {
     "data": {
      "text/plain": [
       "2321459704576"
      ]
     },
     "execution_count": 246,
     "metadata": {},
     "output_type": "execute_result"
    }
   ],
   "source": [
    "id(my_set)"
   ]
  },
  {
   "cell_type": "code",
   "execution_count": 247,
   "id": "bfd95a8b-6a59-42dd-b9f6-9c06b2e33e6d",
   "metadata": {},
   "outputs": [
    {
     "data": {
      "text/plain": [
       "{'eight', 'five', 'four', 'nine', 'one', 'seven', 'six', 'three', 'two'}"
      ]
     },
     "execution_count": 247,
     "metadata": {},
     "output_type": "execute_result"
    }
   ],
   "source": [
    "myset.add('nine')\n",
    "myset"
   ]
  },
  {
   "cell_type": "code",
   "execution_count": 248,
   "id": "8d4450eb-3a1e-422c-b878-8a1a5173ec9a",
   "metadata": {},
   "outputs": [
    {
     "data": {
      "text/plain": [
       "{'eight', 'five', 'four', 'nine', 'one', 'seven', 'six', 'three', 'two'}"
      ]
     },
     "execution_count": 248,
     "metadata": {},
     "output_type": "execute_result"
    }
   ],
   "source": [
    "myset1 "
   ]
  },
  {
   "cell_type": "code",
   "execution_count": 249,
   "id": "5567c2c5-59d2-4a8b-aa22-b83054204199",
   "metadata": {},
   "outputs": [
    {
     "data": {
      "text/plain": [
       "{'eight', 'five', 'four', 'one', 'seven', 'six', 'three', 'two'}"
      ]
     },
     "execution_count": 249,
     "metadata": {},
     "output_type": "execute_result"
    }
   ],
   "source": [
    "my_set "
   ]
  },
  {
   "cell_type": "markdown",
   "id": "2fca316a-dd4d-4c21-836e-6b7e8359f188",
   "metadata": {},
   "source": [
    "## Set Operation\n",
    "### UNION"
   ]
  },
  {
   "cell_type": "code",
   "execution_count": 250,
   "id": "bc754d6b-b563-437d-9da4-8bb2dc3fd0a2",
   "metadata": {},
   "outputs": [],
   "source": [
    "A = {1,2,3,4,5}\n",
    "B = {4,5,6,7,8}\n",
    "C = {8,9,10}"
   ]
  },
  {
   "cell_type": "code",
   "execution_count": 251,
   "id": "95a22cf0-e812-4a52-9c3b-86dfffce78bb",
   "metadata": {},
   "outputs": [
    {
     "data": {
      "text/plain": [
       "{1, 2, 3, 4, 5, 6, 7, 8}"
      ]
     },
     "execution_count": 251,
     "metadata": {},
     "output_type": "execute_result"
    }
   ],
   "source": [
    "A | B "
   ]
  },
  {
   "cell_type": "code",
   "execution_count": 252,
   "id": "de91f379-3330-4169-b20e-d7b514832ceb",
   "metadata": {},
   "outputs": [
    {
     "data": {
      "text/plain": [
       "{1, 2, 3, 4, 5, 6, 7, 8}"
      ]
     },
     "execution_count": 252,
     "metadata": {},
     "output_type": "execute_result"
    }
   ],
   "source": [
    "A.union(B) "
   ]
  },
  {
   "cell_type": "code",
   "execution_count": 253,
   "id": "9a855f49-ae90-4d25-9533-abc0349bdcdd",
   "metadata": {},
   "outputs": [
    {
     "data": {
      "text/plain": [
       "{1, 2, 3, 4, 5, 6, 7, 8, 9, 10}"
      ]
     },
     "execution_count": 253,
     "metadata": {},
     "output_type": "execute_result"
    }
   ],
   "source": [
    "A.union(B, C) "
   ]
  },
  {
   "cell_type": "code",
   "execution_count": 254,
   "id": "2a07dc08-17fb-4a7a-96ca-801e4d03fb37",
   "metadata": {},
   "outputs": [
    {
     "data": {
      "text/plain": [
       "{1, 2, 3, 4, 5, 6, 7, 8, 9, 10}"
      ]
     },
     "execution_count": 254,
     "metadata": {},
     "output_type": "execute_result"
    }
   ],
   "source": [
    "A.update(B,C)\n",
    "A"
   ]
  },
  {
   "cell_type": "markdown",
   "id": "e361fd98-f695-47f1-9754-379eb8f219c2",
   "metadata": {},
   "source": [
    "### Intersection"
   ]
  },
  {
   "cell_type": "code",
   "execution_count": 255,
   "id": "03c80884-aef2-4fe8-8578-85438ca6568d",
   "metadata": {},
   "outputs": [],
   "source": [
    "A = {1,2,3,4,5}\n",
    "B = {4,5,6,7,8}"
   ]
  },
  {
   "cell_type": "code",
   "execution_count": 256,
   "id": "4fa1beaa-bf60-44f6-a247-c6781927363f",
   "metadata": {},
   "outputs": [
    {
     "data": {
      "text/plain": [
       "{4, 5}"
      ]
     },
     "execution_count": 256,
     "metadata": {},
     "output_type": "execute_result"
    }
   ],
   "source": [
    "A & B "
   ]
  },
  {
   "cell_type": "code",
   "execution_count": 257,
   "id": "8cbb02ac-7b1f-477d-910a-7a3c07d618c6",
   "metadata": {},
   "outputs": [
    {
     "data": {
      "text/plain": [
       "{4, 5}"
      ]
     },
     "execution_count": 257,
     "metadata": {},
     "output_type": "execute_result"
    }
   ],
   "source": [
    "A.intersection(B)"
   ]
  },
  {
   "cell_type": "code",
   "execution_count": 258,
   "id": "5757a7e3-5e63-45c3-8559-239a4eb1c039",
   "metadata": {},
   "outputs": [
    {
     "data": {
      "text/plain": [
       "{4, 5}"
      ]
     },
     "execution_count": 258,
     "metadata": {},
     "output_type": "execute_result"
    }
   ],
   "source": [
    "A.intersection_update(B)\n",
    "A"
   ]
  },
  {
   "cell_type": "markdown",
   "id": "58559a50-9e06-4c24-8eca-d6ac05d9a080",
   "metadata": {},
   "source": [
    "### Difference"
   ]
  },
  {
   "cell_type": "code",
   "execution_count": 259,
   "id": "6c2a95d6-55b9-472e-ac44-63b4962b5143",
   "metadata": {},
   "outputs": [],
   "source": [
    "A = {1,2,3,4,5}\n",
    "B = {4,5,6,7,8}"
   ]
  },
  {
   "cell_type": "code",
   "execution_count": 260,
   "id": "273a0dd5-e7fd-4609-9184-533d888f9921",
   "metadata": {},
   "outputs": [
    {
     "data": {
      "text/plain": [
       "{1, 2, 3}"
      ]
     },
     "execution_count": 260,
     "metadata": {},
     "output_type": "execute_result"
    }
   ],
   "source": [
    "A - B"
   ]
  },
  {
   "cell_type": "code",
   "execution_count": 261,
   "id": "4cd3e53c-f55e-4223-bdcb-1d9dcfdd9ca1",
   "metadata": {},
   "outputs": [
    {
     "data": {
      "text/plain": [
       "{1, 2, 3}"
      ]
     },
     "execution_count": 261,
     "metadata": {},
     "output_type": "execute_result"
    }
   ],
   "source": [
    "A.difference(B) "
   ]
  },
  {
   "cell_type": "code",
   "execution_count": 262,
   "id": "03cf3153-da0d-4002-b050-aeb5ac7d59c2",
   "metadata": {},
   "outputs": [
    {
     "data": {
      "text/plain": [
       "{6, 7, 8}"
      ]
     },
     "execution_count": 262,
     "metadata": {},
     "output_type": "execute_result"
    }
   ],
   "source": [
    "B - A"
   ]
  },
  {
   "cell_type": "code",
   "execution_count": 263,
   "id": "0200ff58-e4c8-4bef-bde9-698420afe16d",
   "metadata": {},
   "outputs": [
    {
     "data": {
      "text/plain": [
       "{6, 7, 8}"
      ]
     },
     "execution_count": 263,
     "metadata": {},
     "output_type": "execute_result"
    }
   ],
   "source": [
    "B.difference(A)"
   ]
  },
  {
   "cell_type": "code",
   "execution_count": 264,
   "id": "9ea246e3-7d9a-41cc-aaf0-893b21b13098",
   "metadata": {},
   "outputs": [
    {
     "data": {
      "text/plain": [
       "{6, 7, 8}"
      ]
     },
     "execution_count": 264,
     "metadata": {},
     "output_type": "execute_result"
    }
   ],
   "source": [
    "B.difference_update(A)\n",
    "B"
   ]
  },
  {
   "cell_type": "markdown",
   "id": "8b099ce8-201d-4618-a501-f0434eafd16b",
   "metadata": {},
   "source": [
    "# Symmetric Difference"
   ]
  },
  {
   "cell_type": "code",
   "execution_count": 1,
   "id": "f86d1024-c180-4aed-bd4b-486cfc117dec",
   "metadata": {},
   "outputs": [],
   "source": [
    "A = {1,2,3,4,5}\n",
    "B = {4,5,6,7,8}"
   ]
  },
  {
   "cell_type": "code",
   "execution_count": 2,
   "id": "f03bc44e-363e-4ad9-bff6-6cfd7818669a",
   "metadata": {},
   "outputs": [
    {
     "data": {
      "text/plain": [
       "{1, 2, 3, 6, 7, 8}"
      ]
     },
     "execution_count": 2,
     "metadata": {},
     "output_type": "execute_result"
    }
   ],
   "source": [
    "A ^ B # Symmetric difference (Set of elements in A and B but not in both."
   ]
  },
  {
   "cell_type": "code",
   "execution_count": 3,
   "id": "394f1a0e-bb2b-4131-ab31-8e87f68ddf97",
   "metadata": {},
   "outputs": [
    {
     "data": {
      "text/plain": [
       "{1, 2, 3, 6, 7, 8}"
      ]
     },
     "execution_count": 3,
     "metadata": {},
     "output_type": "execute_result"
    }
   ],
   "source": [
    "A.symmetric_difference(B)"
   ]
  },
  {
   "cell_type": "code",
   "execution_count": 4,
   "id": "67f44474-8523-45fc-bda1-b38ef42c8650",
   "metadata": {},
   "outputs": [
    {
     "data": {
      "text/plain": [
       "{1, 2, 3, 6, 7, 8}"
      ]
     },
     "execution_count": 4,
     "metadata": {},
     "output_type": "execute_result"
    }
   ],
   "source": [
    "A.symmetric_difference_update(B)\n",
    "A"
   ]
  },
  {
   "cell_type": "markdown",
   "id": "979bb8ba-8d67-4d50-8c2d-f45ddb02dc3c",
   "metadata": {},
   "source": [
    "# Subset , Superset & Disjoint"
   ]
  },
  {
   "cell_type": "code",
   "execution_count": 5,
   "id": "516ae700-3232-4c5e-90f2-5bed835e898c",
   "metadata": {},
   "outputs": [],
   "source": [
    "A = {1,2,3,4,5,6,7,8,9}\n",
    "B = {3,4,5,6,7,8}\n",
    "C = {10,20,30,40}"
   ]
  },
  {
   "cell_type": "code",
   "execution_count": 6,
   "id": "2d1698be-39da-4adb-8596-b223920002f6",
   "metadata": {},
   "outputs": [
    {
     "data": {
      "text/plain": [
       "True"
      ]
     },
     "execution_count": 6,
     "metadata": {},
     "output_type": "execute_result"
    }
   ],
   "source": [
    "B.issubset(A)"
   ]
  },
  {
   "cell_type": "code",
   "execution_count": 7,
   "id": "528bc6b7-9661-4d29-8752-4548813dbc8f",
   "metadata": {},
   "outputs": [
    {
     "data": {
      "text/plain": [
       "True"
      ]
     },
     "execution_count": 7,
     "metadata": {},
     "output_type": "execute_result"
    }
   ],
   "source": [
    "A.issuperset(B) "
   ]
  },
  {
   "cell_type": "code",
   "execution_count": 8,
   "id": "f841c3d8-5cb4-494a-b94a-d816abc9f615",
   "metadata": {},
   "outputs": [
    {
     "data": {
      "text/plain": [
       "True"
      ]
     },
     "execution_count": 8,
     "metadata": {},
     "output_type": "execute_result"
    }
   ],
   "source": [
    "C.isdisjoint(A)"
   ]
  },
  {
   "cell_type": "code",
   "execution_count": 9,
   "id": "5f1726f4-cb8e-4c7a-a816-2668341ecf1d",
   "metadata": {},
   "outputs": [
    {
     "data": {
      "text/plain": [
       "False"
      ]
     },
     "execution_count": 9,
     "metadata": {},
     "output_type": "execute_result"
    }
   ],
   "source": [
    "B.isdisjoint(A)"
   ]
  },
  {
   "cell_type": "markdown",
   "id": "63bc86dc-9758-475e-b1ed-d92d9aec9002",
   "metadata": {},
   "source": [
    "# Other Builtin functions"
   ]
  },
  {
   "cell_type": "code",
   "execution_count": 10,
   "id": "75c8637e-2af8-4339-bc32-446b776aa637",
   "metadata": {},
   "outputs": [
    {
     "data": {
      "text/plain": [
       "{1, 2, 3, 4, 5, 6, 7, 8, 9}"
      ]
     },
     "execution_count": 10,
     "metadata": {},
     "output_type": "execute_result"
    }
   ],
   "source": [
    "A"
   ]
  },
  {
   "cell_type": "code",
   "execution_count": 11,
   "id": "10a890a6-54a0-4579-a1ed-3c96656f2035",
   "metadata": {},
   "outputs": [
    {
     "data": {
      "text/plain": [
       "45"
      ]
     },
     "execution_count": 11,
     "metadata": {},
     "output_type": "execute_result"
    }
   ],
   "source": [
    "sum(A)"
   ]
  },
  {
   "cell_type": "code",
   "execution_count": 12,
   "id": "d2c58904-a3ef-4201-9096-d500d8dbd8a5",
   "metadata": {},
   "outputs": [
    {
     "data": {
      "text/plain": [
       "9"
      ]
     },
     "execution_count": 12,
     "metadata": {},
     "output_type": "execute_result"
    }
   ],
   "source": [
    "max(A)"
   ]
  },
  {
   "cell_type": "code",
   "execution_count": 13,
   "id": "c852e36d-9940-4300-b471-468566898eec",
   "metadata": {},
   "outputs": [
    {
     "data": {
      "text/plain": [
       "1"
      ]
     },
     "execution_count": 13,
     "metadata": {},
     "output_type": "execute_result"
    }
   ],
   "source": [
    "min(A)"
   ]
  },
  {
   "cell_type": "code",
   "execution_count": 14,
   "id": "60387bea-34a2-4796-ab67-7900948b5670",
   "metadata": {},
   "outputs": [
    {
     "data": {
      "text/plain": [
       "9"
      ]
     },
     "execution_count": 14,
     "metadata": {},
     "output_type": "execute_result"
    }
   ],
   "source": [
    "len(A)"
   ]
  },
  {
   "cell_type": "code",
   "execution_count": 15,
   "id": "93966e15-5dfe-4f9f-aaff-a8a402673e70",
   "metadata": {},
   "outputs": [
    {
     "data": {
      "text/plain": [
       "[(0, 1), (1, 2), (2, 3), (3, 4), (4, 5), (5, 6), (6, 7), (7, 8), (8, 9)]"
      ]
     },
     "execution_count": 15,
     "metadata": {},
     "output_type": "execute_result"
    }
   ],
   "source": [
    "list(enumerate(A))"
   ]
  },
  {
   "cell_type": "code",
   "execution_count": 16,
   "id": "818c98c0-7fbe-4ac4-a814-0193e4788f01",
   "metadata": {},
   "outputs": [
    {
     "data": {
      "text/plain": [
       "[9, 8, 7, 6, 5, 4, 3, 2, 1]"
      ]
     },
     "execution_count": 16,
     "metadata": {},
     "output_type": "execute_result"
    }
   ],
   "source": [
    "D = sorted(A,reverse=True)\n",
    "D"
   ]
  },
  {
   "cell_type": "code",
   "execution_count": 17,
   "id": "8cd5cf0d-d95a-4863-aec8-6803b039e1b9",
   "metadata": {},
   "outputs": [
    {
     "data": {
      "text/plain": [
       "[1, 2, 3, 4, 5, 6, 7, 8, 9]"
      ]
     },
     "execution_count": 17,
     "metadata": {},
     "output_type": "execute_result"
    }
   ],
   "source": [
    "sorted(D)"
   ]
  },
  {
   "cell_type": "markdown",
   "id": "a0173b23-d562-4622-82e6-ef5bc91659c2",
   "metadata": {},
   "source": [
    "# Dictionary\n",
    "\n",
    "### Dictionary is a mutable data type in Python.\n",
    "### A python dictionary is a collection of key and value pairs separated by a colon (:) & enclosed in curly braces {}.\n",
    "### Keys must be unique in a dictionary, duplicate values are allowed."
   ]
  },
  {
   "cell_type": "code",
   "execution_count": 18,
   "id": "b64d636d-df3c-49c3-8b98-115a63619498",
   "metadata": {},
   "outputs": [
    {
     "data": {
      "text/plain": [
       "{}"
      ]
     },
     "execution_count": 18,
     "metadata": {},
     "output_type": "execute_result"
    }
   ],
   "source": [
    "mydict = dict() # empty dictionary\n",
    "mydict"
   ]
  },
  {
   "cell_type": "code",
   "execution_count": 19,
   "id": "4cb16967-71bf-4baa-85ff-22199e34f893",
   "metadata": {},
   "outputs": [
    {
     "data": {
      "text/plain": [
       "{1: 'one', 2: 'two', 3: 'three'}"
      ]
     },
     "execution_count": 19,
     "metadata": {},
     "output_type": "execute_result"
    }
   ],
   "source": [
    "mydict = {1:'one' , 2:'two' , 3:'three'} # dictionary with integer keys\n",
    "mydict"
   ]
  },
  {
   "cell_type": "code",
   "execution_count": 21,
   "id": "2ac33fcc-bff2-4200-aa8f-965c4a4bf904",
   "metadata": {},
   "outputs": [
    {
     "data": {
      "text/plain": [
       "{1: 'one', 2: 'two', 3: 'three'}"
      ]
     },
     "execution_count": 21,
     "metadata": {},
     "output_type": "execute_result"
    }
   ],
   "source": [
    "mydict = dict({1:'one' , 2:'two' , 3:'three'}) # Create dictionary using dict()\n",
    "mydict"
   ]
  },
  {
   "cell_type": "code",
   "execution_count": 22,
   "id": "e9886965-5eca-483b-8916-5d467be7afd6",
   "metadata": {},
   "outputs": [
    {
     "data": {
      "text/plain": [
       "{'A': 'one', 'B': 'two', 'C': 'three'}"
      ]
     },
     "execution_count": 22,
     "metadata": {},
     "output_type": "execute_result"
    }
   ],
   "source": [
    "mydict = {'A':'one' , 'B':'two' , 'C':'three'} # dictionary with character keys\n",
    "mydict"
   ]
  },
  {
   "cell_type": "code",
   "execution_count": 23,
   "id": "28c00cbe-769a-4b30-9175-1dc09b3f5abe",
   "metadata": {},
   "outputs": [
    {
     "data": {
      "text/plain": [
       "{1: 'one', 'A': 'two', 3: 'three'}"
      ]
     },
     "execution_count": 23,
     "metadata": {},
     "output_type": "execute_result"
    }
   ],
   "source": [
    "mydict = {1:'one' , 'A':'two' , 3:'three'} # dictionary with mixed keys\n",
    "mydict"
   ]
  },
  {
   "cell_type": "code",
   "execution_count": 24,
   "id": "8ca72ee9-6612-4b1c-856c-933b039a5006",
   "metadata": {},
   "outputs": [
    {
     "data": {
      "text/plain": [
       "dict_keys([1, 'A', 3])"
      ]
     },
     "execution_count": 24,
     "metadata": {},
     "output_type": "execute_result"
    }
   ],
   "source": [
    "mydict.keys()"
   ]
  },
  {
   "cell_type": "code",
   "execution_count": 25,
   "id": "a1da2255-9c59-4b1f-b247-80d4eb81b829",
   "metadata": {},
   "outputs": [
    {
     "data": {
      "text/plain": [
       "dict_values(['one', 'two', 'three'])"
      ]
     },
     "execution_count": 25,
     "metadata": {},
     "output_type": "execute_result"
    }
   ],
   "source": [
    "mydict.values() "
   ]
  },
  {
   "cell_type": "code",
   "execution_count": 26,
   "id": "f369f289-c5bd-48f3-8328-6bfbaae9077c",
   "metadata": {},
   "outputs": [
    {
     "data": {
      "text/plain": [
       "dict_items([(1, 'one'), ('A', 'two'), (3, 'three')])"
      ]
     },
     "execution_count": 26,
     "metadata": {},
     "output_type": "execute_result"
    }
   ],
   "source": [
    "mydict.items()"
   ]
  },
  {
   "cell_type": "code",
   "execution_count": 27,
   "id": "0a28c0af-716d-4365-abb8-ff296e1ca9a7",
   "metadata": {},
   "outputs": [
    {
     "data": {
      "text/plain": [
       "{1: 'one', 2: 'two', 'A': ['asif', 'john', 'Maria']}"
      ]
     },
     "execution_count": 27,
     "metadata": {},
     "output_type": "execute_result"
    }
   ],
   "source": [
    "mydict = {1:'one' , 2:'two' , 'A':['asif' , 'john' , 'Maria']} # dictionary with \n",
    "mydict"
   ]
  },
  {
   "cell_type": "code",
   "execution_count": 29,
   "id": "ad0c70f0-30a1-4674-b1ad-67077f927095",
   "metadata": {},
   "outputs": [
    {
     "data": {
      "text/plain": [
       "{1: 'one', 2: 'two', 'A': ['asif', 'john', 'Maria'], 'B': ('Bat', 'cat')}"
      ]
     },
     "execution_count": 29,
     "metadata": {},
     "output_type": "execute_result"
    }
   ],
   "source": [
    "mydict = {1:'one' , 2:'two' , 'A':['asif' , 'john' , 'Maria'], 'B':('Bat' , 'cat')}\n",
    "mydict"
   ]
  },
  {
   "cell_type": "code",
   "execution_count": 30,
   "id": "bd56cc34-6451-49bf-8d78-c46e038c1a77",
   "metadata": {},
   "outputs": [
    {
     "data": {
      "text/plain": [
       "{'b': None, 'd': None, 'c': None, 'a': None}"
      ]
     },
     "execution_count": 30,
     "metadata": {},
     "output_type": "execute_result"
    }
   ],
   "source": [
    "keys = {'a' , 'b' , 'c' , 'd'}\n",
    "mydict3 = dict.fromkeys(keys) # Create a dictionary from a sequence of keys\n",
    "mydict3"
   ]
  },
  {
   "cell_type": "code",
   "execution_count": 31,
   "id": "9c50f6a0-5696-41ad-9b1d-6253e6448c9c",
   "metadata": {},
   "outputs": [
    {
     "data": {
      "text/plain": [
       "{'b': 10, 'd': 10, 'c': 10, 'a': 10}"
      ]
     },
     "execution_count": 31,
     "metadata": {},
     "output_type": "execute_result"
    }
   ],
   "source": [
    "keys = {'a' , 'b' , 'c' , 'd'}\n",
    "value = 10\n",
    "mydict3 = dict.fromkeys(keys , value) # Create a dictionary from a sequence of k\n",
    "mydict3"
   ]
  },
  {
   "cell_type": "code",
   "execution_count": 32,
   "id": "0c7a9024-6919-44fb-b720-a81069bfe4f5",
   "metadata": {},
   "outputs": [
    {
     "data": {
      "text/plain": [
       "{'b': [10, 20, 30], 'd': [10, 20, 30], 'c': [10, 20, 30], 'a': [10, 20, 30]}"
      ]
     },
     "execution_count": 32,
     "metadata": {},
     "output_type": "execute_result"
    }
   ],
   "source": [
    "keys = {'a' , 'b' , 'c' , 'd'}\n",
    "value = [10,20,30]\n",
    "mydict3 = dict.fromkeys(keys , value) # Create a dictionary from a sequence of k\n",
    "mydict3"
   ]
  },
  {
   "cell_type": "code",
   "execution_count": 33,
   "id": "cb1b407d-c0c7-4b60-8119-594386c2a16f",
   "metadata": {},
   "outputs": [
    {
     "data": {
      "text/plain": [
       "{'b': [10, 20, 30, 40],\n",
       " 'd': [10, 20, 30, 40],\n",
       " 'c': [10, 20, 30, 40],\n",
       " 'a': [10, 20, 30, 40]}"
      ]
     },
     "execution_count": 33,
     "metadata": {},
     "output_type": "execute_result"
    }
   ],
   "source": [
    "value.append(40)\n",
    "mydict3"
   ]
  },
  {
   "cell_type": "markdown",
   "id": "96e08310-97bb-4d85-9c37-18514f580be4",
   "metadata": {},
   "source": [
    "## Accessing Items"
   ]
  },
  {
   "cell_type": "code",
   "execution_count": 34,
   "id": "915ba7e0-8999-4369-91ef-92da078367a3",
   "metadata": {},
   "outputs": [
    {
     "data": {
      "text/plain": [
       "{1: 'one', 2: 'two', 3: 'three', 4: 'four'}"
      ]
     },
     "execution_count": 34,
     "metadata": {},
     "output_type": "execute_result"
    }
   ],
   "source": [
    "mydict = {1:'one' , 2:'two' , 3:'three' , 4:'four'}\n",
    "mydict"
   ]
  },
  {
   "cell_type": "code",
   "execution_count": 35,
   "id": "0eeca53e-8c72-4d59-9ac2-d855430ce7fe",
   "metadata": {},
   "outputs": [
    {
     "data": {
      "text/plain": [
       "'one'"
      ]
     },
     "execution_count": 35,
     "metadata": {},
     "output_type": "execute_result"
    }
   ],
   "source": [
    "mydict[1] # Access item using key"
   ]
  },
  {
   "cell_type": "code",
   "execution_count": 36,
   "id": "e75db995-5006-455e-8b73-1f3fdcae1387",
   "metadata": {},
   "outputs": [
    {
     "data": {
      "text/plain": [
       "'one'"
      ]
     },
     "execution_count": 36,
     "metadata": {},
     "output_type": "execute_result"
    }
   ],
   "source": [
    "mydict.get(1) # Access item using get() method"
   ]
  },
  {
   "cell_type": "code",
   "execution_count": 37,
   "id": "a8f9b8f4-e217-49a5-ad02-47cd5dad36cf",
   "metadata": {},
   "outputs": [
    {
     "data": {
      "text/plain": [
       "{'Name': 'Asif', 'ID': 74123, 'DOB': 1991, 'job': 'Analyst'}"
      ]
     },
     "execution_count": 37,
     "metadata": {},
     "output_type": "execute_result"
    }
   ],
   "source": [
    "mydict1 = {'Name':'Asif' , 'ID': 74123 , 'DOB': 1991 , 'job' :'Analyst'}\n",
    "mydict1"
   ]
  },
  {
   "cell_type": "code",
   "execution_count": 38,
   "id": "f4218c17-b212-4573-b569-2e05180c1568",
   "metadata": {},
   "outputs": [
    {
     "data": {
      "text/plain": [
       "'Asif'"
      ]
     },
     "execution_count": 38,
     "metadata": {},
     "output_type": "execute_result"
    }
   ],
   "source": [
    "mydict1['Name'] # Access item using key"
   ]
  },
  {
   "cell_type": "code",
   "execution_count": 39,
   "id": "30b99f19-9359-44f0-b863-1c9459165849",
   "metadata": {},
   "outputs": [
    {
     "data": {
      "text/plain": [
       "'Analyst'"
      ]
     },
     "execution_count": 39,
     "metadata": {},
     "output_type": "execute_result"
    }
   ],
   "source": [
    "mydict1.get('job') # Access item using get() method"
   ]
  },
  {
   "cell_type": "markdown",
   "id": "ec5d3249-50d3-43de-87bc-e0e7530868a2",
   "metadata": {},
   "source": [
    "## Add, Remove & Change Items"
   ]
  },
  {
   "cell_type": "code",
   "execution_count": 40,
   "id": "2faf7397-b243-48b2-b4e4-08b7c796d630",
   "metadata": {},
   "outputs": [
    {
     "data": {
      "text/plain": [
       "{'Name': 'Asif', 'ID': 12345, 'DOB': 1991, 'Address': 'Hilsinki'}"
      ]
     },
     "execution_count": 40,
     "metadata": {},
     "output_type": "execute_result"
    }
   ],
   "source": [
    "mydict1 = {'Name':'Asif' , 'ID': 12345 , 'DOB': 1991 , 'Address' : 'Hilsinki'}\n",
    "mydict1"
   ]
  },
  {
   "cell_type": "code",
   "execution_count": 41,
   "id": "b1a61c9b-193b-4445-9257-c8664e95c843",
   "metadata": {},
   "outputs": [
    {
     "data": {
      "text/plain": [
       "{'Name': 'Asif', 'ID': 12345, 'DOB': 1992, 'Address': 'Delhi'}"
      ]
     },
     "execution_count": 41,
     "metadata": {},
     "output_type": "execute_result"
    }
   ],
   "source": [
    "mydict1['DOB'] = 1992 # Changing Dictionary Items\n",
    "mydict1['Address'] = 'Delhi'\n",
    "mydict1"
   ]
  },
  {
   "cell_type": "code",
   "execution_count": 42,
   "id": "ad9fc8d0-aca1-40dd-945d-7ac60b2c94c0",
   "metadata": {},
   "outputs": [
    {
     "data": {
      "text/plain": [
       "{'Name': 'Asif', 'ID': 12345, 'DOB': 1995, 'Address': 'Delhi'}"
      ]
     },
     "execution_count": 42,
     "metadata": {},
     "output_type": "execute_result"
    }
   ],
   "source": [
    "dict1 = {'DOB':1995}\n",
    "mydict1.update(dict1)\n",
    "mydict1"
   ]
  },
  {
   "cell_type": "code",
   "execution_count": 43,
   "id": "fa5e267e-9b41-4449-b192-964ed78c1ff2",
   "metadata": {},
   "outputs": [
    {
     "data": {
      "text/plain": [
       "{'Name': 'Asif',\n",
       " 'ID': 12345,\n",
       " 'DOB': 1995,\n",
       " 'Address': 'Delhi',\n",
       " 'Job': 'Analyst'}"
      ]
     },
     "execution_count": 43,
     "metadata": {},
     "output_type": "execute_result"
    }
   ],
   "source": [
    "mydict1['Job'] = 'Analyst' # Adding items in the dictionary\n",
    "mydict1"
   ]
  },
  {
   "cell_type": "code",
   "execution_count": 44,
   "id": "3e663ac3-1be6-484b-a672-494496c18306",
   "metadata": {},
   "outputs": [
    {
     "data": {
      "text/plain": [
       "{'Name': 'Asif', 'ID': 12345, 'DOB': 1995, 'Address': 'Delhi'}"
      ]
     },
     "execution_count": 44,
     "metadata": {},
     "output_type": "execute_result"
    }
   ],
   "source": [
    "mydict1.pop('Job') # Removing items in the dictionary using Pop method\n",
    "mydict1"
   ]
  },
  {
   "cell_type": "code",
   "execution_count": 45,
   "id": "c01fb503-499a-41d9-99ee-247b1b37c481",
   "metadata": {},
   "outputs": [
    {
     "data": {
      "text/plain": [
       "('Address', 'Delhi')"
      ]
     },
     "execution_count": 45,
     "metadata": {},
     "output_type": "execute_result"
    }
   ],
   "source": [
    "mydict1.popitem() # A random item is removed"
   ]
  },
  {
   "cell_type": "code",
   "execution_count": 46,
   "id": "32b03f24-1811-48db-9fed-55c69305c401",
   "metadata": {},
   "outputs": [
    {
     "data": {
      "text/plain": [
       "{'Name': 'Asif', 'ID': 12345, 'DOB': 1995}"
      ]
     },
     "execution_count": 46,
     "metadata": {},
     "output_type": "execute_result"
    }
   ],
   "source": [
    "mydict1"
   ]
  },
  {
   "cell_type": "code",
   "execution_count": 47,
   "id": "6479311e-cab7-4906-9437-6d316c02b869",
   "metadata": {},
   "outputs": [
    {
     "data": {
      "text/plain": [
       "{'Name': 'Asif', 'DOB': 1995}"
      ]
     },
     "execution_count": 47,
     "metadata": {},
     "output_type": "execute_result"
    }
   ],
   "source": [
    "del[mydict1['ID']] # Removing item using del method\n",
    "mydict1"
   ]
  },
  {
   "cell_type": "code",
   "execution_count": 48,
   "id": "b3304c38-c275-49bc-b8a3-27f436fa05b6",
   "metadata": {},
   "outputs": [
    {
     "data": {
      "text/plain": [
       "{}"
      ]
     },
     "execution_count": 48,
     "metadata": {},
     "output_type": "execute_result"
    }
   ],
   "source": [
    "mydict1.clear() # Delete all items of the dictionary using clear method\n",
    "mydict1"
   ]
  },
  {
   "cell_type": "code",
   "execution_count": 49,
   "id": "8de1a9b8-692b-4145-b3d7-b9b9006c3b4b",
   "metadata": {},
   "outputs": [],
   "source": [
    "del mydict1 # Delete the dictionary object"
   ]
  },
  {
   "cell_type": "markdown",
   "id": "e4947984-58e0-425c-8583-c88121983e99",
   "metadata": {},
   "source": [
    "## Copy Dictionary"
   ]
  },
  {
   "cell_type": "code",
   "execution_count": 50,
   "id": "c37e04c4-9737-4e96-9e07-69fce45361a2",
   "metadata": {},
   "outputs": [
    {
     "data": {
      "text/plain": [
       "{'Name': 'Asif', 'ID': 12345, 'DOB': 1991, 'Address': 'Hilsinki'}"
      ]
     },
     "execution_count": 50,
     "metadata": {},
     "output_type": "execute_result"
    }
   ],
   "source": [
    "mydict = {'Name':'Asif' , 'ID': 12345 , 'DOB': 1991 , 'Address' : 'Hilsinki'}\n",
    "mydict"
   ]
  },
  {
   "cell_type": "code",
   "execution_count": 51,
   "id": "be5edaa0-686f-4000-89bb-cdf66a7fb82f",
   "metadata": {},
   "outputs": [],
   "source": [
    "mydict1 = mydict # Create a new reference \"mydict1\" "
   ]
  },
  {
   "cell_type": "code",
   "execution_count": 52,
   "id": "23dbcbdc-bb19-45e4-a2fa-c27917cb9e54",
   "metadata": {},
   "outputs": [
    {
     "data": {
      "text/plain": [
       "(1686090830464, 1686090830464)"
      ]
     },
     "execution_count": 52,
     "metadata": {},
     "output_type": "execute_result"
    }
   ],
   "source": [
    "id(mydict) , id(mydict1)"
   ]
  },
  {
   "cell_type": "code",
   "execution_count": 53,
   "id": "7e90c5df-3a66-4a66-ae1f-26b7db0e4a0e",
   "metadata": {},
   "outputs": [],
   "source": [
    "mydict2 = mydict.copy() # Create a copy of the dictionary"
   ]
  },
  {
   "cell_type": "code",
   "execution_count": 54,
   "id": "30ad47cf-e7ce-46f6-a69d-89f165e11882",
   "metadata": {},
   "outputs": [
    {
     "data": {
      "text/plain": [
       "1686090865344"
      ]
     },
     "execution_count": 54,
     "metadata": {},
     "output_type": "execute_result"
    }
   ],
   "source": [
    "id(mydict2) "
   ]
  },
  {
   "cell_type": "code",
   "execution_count": 55,
   "id": "647ff004-57c8-48e9-9957-1f4f68b74bed",
   "metadata": {},
   "outputs": [],
   "source": [
    "mydict['Address'] = 'Mumbai'"
   ]
  },
  {
   "cell_type": "code",
   "execution_count": 56,
   "id": "f63c813e-64f1-443b-8470-b49ec092e2d9",
   "metadata": {},
   "outputs": [
    {
     "data": {
      "text/plain": [
       "{'Name': 'Asif', 'ID': 12345, 'DOB': 1991, 'Address': 'Mumbai'}"
      ]
     },
     "execution_count": 56,
     "metadata": {},
     "output_type": "execute_result"
    }
   ],
   "source": [
    "mydict"
   ]
  },
  {
   "cell_type": "code",
   "execution_count": 57,
   "id": "256b0611-9b06-45a7-b7c2-32ed01661469",
   "metadata": {},
   "outputs": [
    {
     "data": {
      "text/plain": [
       "{'Name': 'Asif', 'ID': 12345, 'DOB': 1991, 'Address': 'Mumbai'}"
      ]
     },
     "execution_count": 57,
     "metadata": {},
     "output_type": "execute_result"
    }
   ],
   "source": [
    "mydict1 # mydict1 will be also impacted as it is pointing to the same dictionary"
   ]
  },
  {
   "cell_type": "code",
   "execution_count": 58,
   "id": "1f396347-8595-40b8-8cc6-5c5eb4db68a3",
   "metadata": {},
   "outputs": [
    {
     "data": {
      "text/plain": [
       "{'Name': 'Asif', 'ID': 12345, 'DOB': 1991, 'Address': 'Hilsinki'}"
      ]
     },
     "execution_count": 58,
     "metadata": {},
     "output_type": "execute_result"
    }
   ],
   "source": [
    "mydict2 # Copy of list won't be impacted due to the changes made in the original "
   ]
  },
  {
   "cell_type": "markdown",
   "id": "3930b8f0-2cc0-48e7-9c2d-a7d54b07a6e9",
   "metadata": {},
   "source": [
    "## Loop through a Dictionary"
   ]
  },
  {
   "cell_type": "code",
   "execution_count": 1,
   "id": "18c8403a-2b0d-42a0-a743-3dbf1a65ad58",
   "metadata": {},
   "outputs": [
    {
     "data": {
      "text/plain": [
       "{'Name': 'Asif',\n",
       " 'ID': 12345,\n",
       " 'DOB': 1991,\n",
       " 'Address': 'Hilsinki',\n",
       " 'Job': 'Analyst'}"
      ]
     },
     "execution_count": 1,
     "metadata": {},
     "output_type": "execute_result"
    }
   ],
   "source": [
    "mydict1 = {'Name':'Asif' , 'ID': 12345 , 'DOB': 1991 , 'Address' : 'Hilsinki' , 'Job' : 'Analyst'}\n",
    "mydict1"
   ]
  },
  {
   "cell_type": "code",
   "execution_count": 2,
   "id": "52295c80-f1e0-43e9-9215-5a93864a69f5",
   "metadata": {},
   "outputs": [
    {
     "name": "stdout",
     "output_type": "stream",
     "text": [
      "Name : Asif\n",
      "ID : 12345\n",
      "DOB : 1991\n",
      "Address : Hilsinki\n",
      "Job : Analyst\n"
     ]
    }
   ],
   "source": [
    "for i in mydict1:\n",
    " print(i , ':' , mydict1[i]) # Key & value pair"
   ]
  },
  {
   "cell_type": "code",
   "execution_count": 3,
   "id": "ac1a85d2-2312-47c2-92b4-7c2a10bb871f",
   "metadata": {},
   "outputs": [
    {
     "name": "stdout",
     "output_type": "stream",
     "text": [
      "Asif\n",
      "12345\n",
      "1991\n",
      "Hilsinki\n",
      "Analyst\n"
     ]
    }
   ],
   "source": [
    "for i in mydict1:\n",
    " print(mydict1[i])"
   ]
  },
  {
   "cell_type": "markdown",
   "id": "d97fd4a3-4a36-4dbe-9831-447283f46d91",
   "metadata": {},
   "source": [
    "## Dictionary Membership"
   ]
  },
  {
   "cell_type": "code",
   "execution_count": 4,
   "id": "4b3b7c03-012c-43b3-9663-d4ff3de11aa3",
   "metadata": {},
   "outputs": [
    {
     "data": {
      "text/plain": [
       "{'Name': 'Asif', 'ID': 12345, 'DOB': 1991, 'Job': 'Analyst'}"
      ]
     },
     "execution_count": 4,
     "metadata": {},
     "output_type": "execute_result"
    }
   ],
   "source": [
    "mydict1 = {'Name':'Asif' , 'ID': 12345 , 'DOB': 1991 , 'Job': 'Analyst'}\n",
    "mydict1"
   ]
  },
  {
   "cell_type": "code",
   "execution_count": 5,
   "id": "63d85bb4-2aa2-4ead-aa52-c9bafe7f39cf",
   "metadata": {},
   "outputs": [
    {
     "data": {
      "text/plain": [
       "True"
      ]
     },
     "execution_count": 5,
     "metadata": {},
     "output_type": "execute_result"
    }
   ],
   "source": [
    "'Name' in mydict1 # Test if a key is in a dictionary or not."
   ]
  },
  {
   "cell_type": "code",
   "execution_count": 6,
   "id": "f8fddb19-6369-482c-9e4b-951f369e2442",
   "metadata": {},
   "outputs": [
    {
     "data": {
      "text/plain": [
       "False"
      ]
     },
     "execution_count": 6,
     "metadata": {},
     "output_type": "execute_result"
    }
   ],
   "source": [
    "'Asif' in mydict1 # Membership test can be only done for keys."
   ]
  },
  {
   "cell_type": "code",
   "execution_count": 7,
   "id": "5c9d0c08-0ab6-4e54-b3fc-94b74c26a0fb",
   "metadata": {},
   "outputs": [
    {
     "data": {
      "text/plain": [
       "True"
      ]
     },
     "execution_count": 7,
     "metadata": {},
     "output_type": "execute_result"
    }
   ],
   "source": [
    "'ID' in mydict1"
   ]
  },
  {
   "cell_type": "code",
   "execution_count": 8,
   "id": "33af3c9e-58ce-4941-ac51-547fda8c15f6",
   "metadata": {},
   "outputs": [
    {
     "data": {
      "text/plain": [
       "False"
      ]
     },
     "execution_count": 8,
     "metadata": {},
     "output_type": "execute_result"
    }
   ],
   "source": [
    "'Address' in mydict1\n"
   ]
  },
  {
   "cell_type": "markdown",
   "id": "cff2b4c4-8c2c-438f-b461-6670c5eea171",
   "metadata": {},
   "source": [
    "## All / Any\n",
    "## The all() method returns:\n",
    "## True - If all all keys of the dictionary are true\n",
    "## False - If any key of the dictionary is false\n",
    "## The any() function returns True if any key of the dictionary is True. If not, any() returns False."
   ]
  },
  {
   "cell_type": "code",
   "execution_count": 9,
   "id": "f8f17559-e957-472c-a332-fde307566d92",
   "metadata": {},
   "outputs": [
    {
     "data": {
      "text/plain": [
       "{'Name': 'Asif', 'ID': 12345, 'DOB': 1991, 'Job': 'Analyst'}"
      ]
     },
     "execution_count": 9,
     "metadata": {},
     "output_type": "execute_result"
    }
   ],
   "source": [
    "mydict1 = {'Name':'Asif' , 'ID': 12345 , 'DOB': 1991 , 'Job': 'Analyst'}\n",
    "mydict1"
   ]
  },
  {
   "cell_type": "code",
   "execution_count": 10,
   "id": "7cceb67b-c291-488a-98ae-feef27c29f06",
   "metadata": {},
   "outputs": [
    {
     "data": {
      "text/plain": [
       "True"
      ]
     },
     "execution_count": 10,
     "metadata": {},
     "output_type": "execute_result"
    }
   ],
   "source": [
    "all(mydict1) # Will Return false as one value is false (Value 0)"
   ]
  },
  {
   "cell_type": "code",
   "execution_count": 11,
   "id": "7ac52342-cefe-418f-a876-5ff01c7e6a9c",
   "metadata": {},
   "outputs": [
    {
     "data": {
      "text/plain": [
       "True"
      ]
     },
     "execution_count": 11,
     "metadata": {},
     "output_type": "execute_result"
    }
   ],
   "source": [
    "any(mydict1) # Will Return True as we have items in the dictionary with True values"
   ]
  },
  {
   "cell_type": "code",
   "execution_count": 12,
   "id": "ebc66944-4d2d-4330-81bb-5add43cc3bb5",
   "metadata": {},
   "outputs": [
    {
     "data": {
      "text/plain": [
       "{'Name': 'Asif', 'ID': 12345, 'DOB': 1991, 'Job': 'Analyst', 0: 'test1'}"
      ]
     },
     "execution_count": 12,
     "metadata": {},
     "output_type": "execute_result"
    }
   ],
   "source": [
    "mydict1[0] = 'test1'\n",
    "mydict1"
   ]
  },
  {
   "cell_type": "code",
   "execution_count": 13,
   "id": "872b1aaf-6b32-4184-a130-af34fffc513a",
   "metadata": {},
   "outputs": [
    {
     "data": {
      "text/plain": [
       "False"
      ]
     },
     "execution_count": 13,
     "metadata": {},
     "output_type": "execute_result"
    }
   ],
   "source": [
    "all(mydict1) # Returns false as one value is false"
   ]
  },
  {
   "cell_type": "code",
   "execution_count": 14,
   "id": "a1c57c82-9ef0-44d1-a70e-242cf9923f62",
   "metadata": {},
   "outputs": [
    {
     "data": {
      "text/plain": [
       "True"
      ]
     },
     "execution_count": 14,
     "metadata": {},
     "output_type": "execute_result"
    }
   ],
   "source": [
    "any(mydict1) # Will Return True as we have items in the dictionary with True values"
   ]
  },
  {
   "cell_type": "markdown",
   "id": "98f9b8d4-5b26-46b5-a858-2599f5d2dd1c",
   "metadata": {},
   "source": [
    "# Dictionary Comprehension\n",
    "## {key_expression: value_expression for item in iterable}\n",
    "### key_expression is the expression used to generate keys.\n",
    "### value_expression is the expression used to generate values.\n",
    "### item is a variable that represents each element in the iterable.\n",
    "### iterable is any iterable object like lists, tuples, or strings.gs."
   ]
  },
  {
   "cell_type": "code",
   "execution_count": 15,
   "id": "703a4d17-e55f-47fc-ade3-503c90b62678",
   "metadata": {},
   "outputs": [
    {
     "data": {
      "text/plain": [
       "{0: 0, 1: 2, 2: 4, 3: 6, 4: 8, 5: 10, 6: 12, 7: 14, 8: 16, 9: 18}"
      ]
     },
     "execution_count": 15,
     "metadata": {},
     "output_type": "execute_result"
    }
   ],
   "source": [
    "double = {i:i*2 for i in range(10)} #double each value using dict comprehension\n",
    "double"
   ]
  },
  {
   "cell_type": "code",
   "execution_count": 16,
   "id": "3aec26a9-15df-44d7-99d3-6f6ee2d2fbf8",
   "metadata": {},
   "outputs": [
    {
     "data": {
      "text/plain": [
       "{0: 0, 1: 1, 2: 4, 3: 9, 4: 16, 5: 25, 6: 36, 7: 49, 8: 64, 9: 81}"
      ]
     },
     "execution_count": 16,
     "metadata": {},
     "output_type": "execute_result"
    }
   ],
   "source": [
    "square = {i:i**2 for i in range(10)}\n",
    "square"
   ]
  },
  {
   "cell_type": "code",
   "execution_count": 17,
   "id": "d791ae36-18f1-4e5b-9c28-b562948a6c3d",
   "metadata": {},
   "outputs": [
    {
     "data": {
      "text/plain": [
       "{'one': 1, 'two': 2, 'three': 3, 'four': 4, 'five': 5}"
      ]
     },
     "execution_count": 17,
     "metadata": {},
     "output_type": "execute_result"
    }
   ],
   "source": [
    "key = ['one' , 'two' , 'three' , 'four' , 'five']\n",
    "value = [1,2,3,4,5]\n",
    "mydict = {k:v for (k,v) in zip(key,value)} # using dict comprehension to create dictionary\n",
    "mydict"
   ]
  },
  {
   "cell_type": "code",
   "execution_count": 18,
   "id": "2597bf92-fa06-4cc2-ac88-26e9213def2f",
   "metadata": {},
   "outputs": [
    {
     "data": {
      "text/plain": [
       "{'a': 1.0, 'b': 2.0, 'c': 3.0, 'd': 4.0, 'e': 5.0}"
      ]
     },
     "execution_count": 18,
     "metadata": {},
     "output_type": "execute_result"
    }
   ],
   "source": [
    "mydict1 = {'a':10 , 'b':20 , 'c':30 , 'd':40 , 'e':50}\n",
    "mydict1 = {k:v/10 for (k,v) in mydict1.items()} # Divide all values in a dictionary\n",
    "mydict1"
   ]
  },
  {
   "cell_type": "code",
   "execution_count": 19,
   "id": "815f8e8b-98eb-4b6d-adcb-02e69ca3e7da",
   "metadata": {},
   "outputs": [
    {
     "data": {
      "text/plain": [
       "{0: 'N',\n",
       " 1: 'a',\n",
       " 2: 't',\n",
       " 3: 'u',\n",
       " 4: 'r',\n",
       " 5: 'a',\n",
       " 6: 'l',\n",
       " 7: ' ',\n",
       " 8: 'L',\n",
       " 9: 'a',\n",
       " 10: 'n',\n",
       " 11: 'g',\n",
       " 12: 'u',\n",
       " 13: 'a',\n",
       " 14: 'g',\n",
       " 15: 'e',\n",
       " 16: ' ',\n",
       " 17: 'P',\n",
       " 18: 'r',\n",
       " 19: 'o',\n",
       " 20: 'c',\n",
       " 21: 'e',\n",
       " 22: 's',\n",
       " 23: 's',\n",
       " 24: 'i',\n",
       " 25: 'n',\n",
       " 26: 'g'}"
      ]
     },
     "execution_count": 19,
     "metadata": {},
     "output_type": "execute_result"
    }
   ],
   "source": [
    "str1 = \"Natural Language Processing\"\n",
    "mydict2 = {k:v for (k,v) in enumerate(str1)} # Store enumerated values in a dictionary\n",
    "mydict2"
   ]
  },
  {
   "cell_type": "code",
   "execution_count": 21,
   "id": "17739331-0548-410f-9aed-d93504638fa1",
   "metadata": {},
   "outputs": [
    {
     "data": {
      "text/plain": [
       "{'a': 'A',\n",
       " 'b': 'B',\n",
       " 'c': 'C',\n",
       " 'd': 'D',\n",
       " 'e': 'E',\n",
       " 'f': 'F',\n",
       " 'g': 'G',\n",
       " 'h': 'H',\n",
       " 'i': 'I',\n",
       " 'j': 'J',\n",
       " 'k': 'K',\n",
       " 'l': 'L',\n",
       " 'm': 'M',\n",
       " 'n': 'N',\n",
       " 'o': 'O',\n",
       " 'p': 'P',\n",
       " 'q': 'Q',\n",
       " 'r': 'R',\n",
       " 's': 'S',\n",
       " 't': 'T',\n",
       " 'u': 'U',\n",
       " 'v': 'V',\n",
       " 'w': 'W',\n",
       " 'x': 'X',\n",
       " 'y': 'Y',\n",
       " 'z': 'Z'}"
      ]
     },
     "execution_count": 21,
     "metadata": {},
     "output_type": "execute_result"
    }
   ],
   "source": [
    "str1 = \"abcdefghijklmnopqrstuvwxyz\"\n",
    "mydict3 = {i:i.upper() for i in str1} # Lower to Upper Case\n",
    "mydict3"
   ]
  },
  {
   "cell_type": "markdown",
   "id": "2901faae-947e-4100-af00-1cecb036d29e",
   "metadata": {},
   "source": [
    "## Word Frequency using dictionary"
   ]
  },
  {
   "cell_type": "code",
   "execution_count": 22,
   "id": "51310892-5c2b-4529-b515-b08aa8a6c578",
   "metadata": {},
   "outputs": [],
   "source": [
    "mystr4 = \"one two three four one two two three five five six seven six seven one one one ten eight ten nine eleven ten ten nine\""
   ]
  },
  {
   "cell_type": "code",
   "execution_count": 23,
   "id": "5e39adff-f3d7-4a08-b54e-3c3da9dae91a",
   "metadata": {},
   "outputs": [
    {
     "data": {
      "text/plain": [
       "['one',\n",
       " 'two',\n",
       " 'three',\n",
       " 'four',\n",
       " 'one',\n",
       " 'two',\n",
       " 'two',\n",
       " 'three',\n",
       " 'five',\n",
       " 'five',\n",
       " 'six',\n",
       " 'seven',\n",
       " 'six',\n",
       " 'seven',\n",
       " 'one',\n",
       " 'one',\n",
       " 'one',\n",
       " 'ten',\n",
       " 'eight',\n",
       " 'ten',\n",
       " 'nine',\n",
       " 'eleven',\n",
       " 'ten',\n",
       " 'ten',\n",
       " 'nine']"
      ]
     },
     "execution_count": 23,
     "metadata": {},
     "output_type": "execute_result"
    }
   ],
   "source": [
    "mylist = mystr4.split() # Split String into substrings\n",
    "mylist"
   ]
  },
  {
   "cell_type": "code",
   "execution_count": 24,
   "id": "f1a2be96-5960-43d9-ad1b-3cf9b8a8fc08",
   "metadata": {},
   "outputs": [
    {
     "data": {
      "text/plain": [
       "['one',\n",
       " 'four',\n",
       " 'seven',\n",
       " 'eight',\n",
       " 'two',\n",
       " 'nine',\n",
       " 'five',\n",
       " 'six',\n",
       " 'three',\n",
       " 'ten',\n",
       " 'eleven']"
      ]
     },
     "execution_count": 24,
     "metadata": {},
     "output_type": "execute_result"
    }
   ],
   "source": [
    "mylist1 = set(mylist) # Unique values in a list\n",
    "mylist1 = list (mylist1)\n",
    "mylist1"
   ]
  },
  {
   "cell_type": "code",
   "execution_count": 27,
   "id": "3d5f32a8-7cc3-40d5-9778-87a4c39ec0e7",
   "metadata": {},
   "outputs": [
    {
     "name": "stdout",
     "output_type": "stream",
     "text": [
      "{'one': 5, 'four': 1, 'seven': 2, 'eight': 1, 'two': 3, 'nine': 2, 'five': 2, 'six': 2, 'three': 2, 'ten': 4, 'eleven': 1}\n"
     ]
    }
   ],
   "source": [
    "# Calculate frequenct of each word\n",
    "count1 = [0] * len(mylist1)\n",
    "mydict5 = dict()\n",
    "for i in range(len(mylist1)):\n",
    " for j in range(len(mylist)):\n",
    "     if mylist1[i] == mylist[j]:\n",
    "         count1[i] += 1\n",
    " mydict5[mylist1[i]] = count1[i]\n",
    "print(mydict5)"
   ]
  },
  {
   "cell_type": "markdown",
   "id": "b2bd58ad-8adb-4df4-b0f0-c36c19b9dafd",
   "metadata": {},
   "source": [
    "# Operators\n",
    "## Operators are special symbols in Python which are used to perform operations on variables/values.\n",
    "\n",
    "# Arithmetic Operators"
   ]
  },
  {
   "cell_type": "code",
   "execution_count": 29,
   "id": "92180303-71be-4742-b9d9-1fea5c62ff41",
   "metadata": {},
   "outputs": [
    {
     "name": "stdout",
     "output_type": "stream",
     "text": [
      "Addition of 5 and 2 will give :- 7\n",
      "\n",
      "Concatenate string 'x' and 'y' using '+' operaotr :- AsifBhat\n",
      "\n",
      "Subtracting 2 from 5 will give :- 3\n",
      "\n",
      "Multiplying 5 and 2 will give :- 10\n",
      "\n",
      "Dividing 5 by 2 will give :- 2.5\n",
      "\n",
      "Modulo of 5 , 2 will give :- 1\n",
      "\n",
      "5 raised to the power 2 will give :- 25\n",
      "\n",
      "Floor division of 5 by 2 will give :- 2\n",
      "\n"
     ]
    }
   ],
   "source": [
    "a = 5\n",
    "b = 2\n",
    "x = 'Asif'\n",
    "y = 'Bhat'\n",
    "# Addition\n",
    "c = a + b\n",
    "print('Addition of {} and {} will give :- {}\\n'.format(a,b,c))\n",
    "#Concatenate string using plus operator\n",
    "z = x+y\n",
    "print ('Concatenate string \\'x\\' and \\'y\\' using \\'+\\' operaotr :- {}\\n'.format(z,x,y))\n",
    " \n",
    "# Subtraction\n",
    "c = a - b\n",
    "print('Subtracting {} from {} will give :- {}\\n'.format(b,a,c))\n",
    " \n",
    "# Multiplication\n",
    "c = a * b \n",
    "print('Multiplying {} and {} will give :- {}\\n'.format(a,b,c))\n",
    " \n",
    "# Division\n",
    "c = a / b\n",
    "print('Dividing {} by {} will give :- {}\\n'.format(a,b,c))\n",
    " \n",
    "# Modulo of both number \n",
    "c = a % b\n",
    "print('Modulo of {} , {} will give :- {}\\n'.format(a,b,c))\n",
    " \n",
    "# Power \n",
    "c = a ** b\n",
    "print('{} raised to the power {} will give :- {}\\n'.format(a,b,c))\n",
    "# Division(floor)\n",
    "c = a // b\n",
    "print('Floor division of {} by {} will give :- {}\\n'.format(a,b,c))\n"
   ]
  },
  {
   "cell_type": "markdown",
   "id": "ad811a70-3dec-4738-8c4e-2f22d965ea19",
   "metadata": {},
   "source": [
    "# Comparison Operators"
   ]
  },
  {
   "cell_type": "code",
   "execution_count": 30,
   "id": "ab0f6b0d-ecaa-47db-a875-7390c673eecb",
   "metadata": {},
   "outputs": [
    {
     "name": "stdout",
     "output_type": "stream",
     "text": [
      "Is x greater than y :-  False\n",
      "\n",
      "Is x less than y :-  True\n",
      "\n",
      "Is x equal to y :-  False\n",
      "\n",
      "Is x not equal to y :-  True\n",
      "\n",
      "Is x greater than or equal to y :-  False\n",
      "\n",
      "Is x less than or equal to y :-  True\n"
     ]
    }
   ],
   "source": [
    "x = 20\n",
    "y = 30\n",
    "print('Is x greater than y :- ',x>y)\n",
    "print('\\nIs x less than y :- ',x<y)\n",
    "print('\\nIs x equal to y :- ',x==y)\n",
    "print('\\nIs x not equal to y :- ',x!=y)\n",
    "print('\\nIs x greater than or equal to y :- ',x>=y)\n",
    "print('\\nIs x less than or equal to y :- ',x<=y)"
   ]
  },
  {
   "cell_type": "code",
   "execution_count": 31,
   "id": "6b1df6e7-8214-40d4-98ae-a64f2a338e16",
   "metadata": {},
   "outputs": [
    {
     "data": {
      "text/plain": [
       "(False, True, True)"
      ]
     },
     "execution_count": 31,
     "metadata": {},
     "output_type": "execute_result"
    }
   ],
   "source": [
    "a = 'Asif'\n",
    "b = 'Bhat'\n",
    "c = 'Asif'\n",
    "a == b , a ==c , a != b # Comparison operators on string"
   ]
  },
  {
   "cell_type": "markdown",
   "id": "f13fd273-d1bc-47ea-bf1a-bfb28b9993c3",
   "metadata": {},
   "source": [
    "# Logical Operators"
   ]
  },
  {
   "cell_type": "code",
   "execution_count": 32,
   "id": "75410291-f992-437a-9cd8-2b9802fafbbf",
   "metadata": {},
   "outputs": [
    {
     "name": "stdout",
     "output_type": "stream",
     "text": [
      "Logical AND operation :-  False\n",
      "Logical OR operation :-  True\n",
      "NOT operation :-  False\n"
     ]
    }
   ],
   "source": [
    "x = True\n",
    "y = False\n",
    "print('Logical AND operation :- ',x and y) # True if both values are true\n",
    "print('Logical OR operation :- ',x or y) # True if either of the values is true\n",
    "print('NOT operation :- ',not x ) # True if operand is false"
   ]
  },
  {
   "cell_type": "markdown",
   "id": "f9970e90-3416-4eb5-a430-1f1e13d58937",
   "metadata": {},
   "source": [
    "# Bitwise operators"
   ]
  },
  {
   "cell_type": "code",
   "execution_count": 33,
   "id": "7d1d4d74-3272-4202-8edb-182c7b13eb33",
   "metadata": {},
   "outputs": [
    {
     "name": "stdout",
     "output_type": "stream",
     "text": [
      "Bitwise AND operation - 2\n",
      "Bitwise OR operation - 22\n",
      "Bitwise XOR operation - 20\n",
      "Bitwise NOT operation - -19\n",
      "Bitwise right shift operation - 4\n",
      "Bitwise left shift operation - 72\n"
     ]
    }
   ],
   "source": [
    "x = 18 # binary form 10010\n",
    "y = 6 # binary form 00110\n",
    "print('Bitwise AND operation - {}'.format(x&y))\n",
    "print('Bitwise OR operation - {}'.format(x|y))\n",
    "print('Bitwise XOR operation - {}'.format(x^y))\n",
    "print('Bitwise NOT operation - {}'.format(~x))\n",
    "print('Bitwise right shift operation - {}'.format(x>>2))\n",
    "print('Bitwise left shift operation - {}'.format(x<<2))"
   ]
  },
  {
   "cell_type": "markdown",
   "id": "10f7381c-08ca-4b8a-b08f-2bbf93407a85",
   "metadata": {},
   "source": [
    "# Assignment Operators"
   ]
  },
  {
   "cell_type": "code",
   "execution_count": 34,
   "id": "084d67ee-46a2-4122-85a9-eed44ba8cb35",
   "metadata": {},
   "outputs": [
    {
     "name": "stdout",
     "output_type": "stream",
     "text": [
      "Initialize x with value 10 (x=10)) :-  10\n",
      "Add 20 to x :-  30\n",
      "subtract 20 from x :-  10\n",
      "Divide x by 10 :-  1.0\n",
      "Multiply x by 10 :-  10.0\n",
      "x raised to the power 2 :-  100\n",
      "Modulo Division :-  0\n",
      "Floor Division :-  6\n",
      "Bitwise AND :-  2\n",
      "Bitwise OR :-  2\n",
      "Bitwise XOR :-  0\n",
      "Bitwise left shift operation 40\n",
      "Bitwise right shift operation 10\n"
     ]
    }
   ],
   "source": [
    "x = 10\n",
    "print('Initialize x with value 10 (x=10)) :- ',x)\n",
    "\n",
    "x+=20 # x = x+20\n",
    "print ('Add 20 to x :- ',x)\n",
    "\n",
    "x-=20 # x = x-20\n",
    "print ('subtract 20 from x :- ',x)\n",
    "\n",
    "x/=10 # x = x/10\n",
    "print ('Divide x by 10 :- ',x)\n",
    "\n",
    "x*=10 # x = x/10\n",
    "print ('Multiply x by 10 :- ',x)\n",
    "\n",
    "x = int(x)\n",
    "x**=2 # x = x/10\n",
    "print ('x raised to the power 2 :- ',x)\n",
    "\n",
    "x%=2\n",
    "print ('Modulo Division :- ',x)\n",
    "\n",
    "x = 20\n",
    "x//=3\n",
    "print ('Floor Division :- ',x)\n",
    "\n",
    "x&=2\n",
    "print('Bitwise AND :- ',x)\n",
    "\n",
    "x|=2\n",
    "print('Bitwise OR :- ',x)\n",
    "\n",
    "x^=2\n",
    "print('Bitwise XOR :- ',x)\n",
    "\n",
    "x = 10\n",
    "x<<=2\n",
    "print('Bitwise left shift operation',x)\n",
    "\n",
    "x>>=2\n",
    "print('Bitwise right shift operation',x)"
   ]
  },
  {
   "cell_type": "markdown",
   "id": "b12bd9fb-3fc6-467c-a00a-44194d45401f",
   "metadata": {},
   "source": [
    "# Membership Operators\n",
    "### Membership Operators are used to test whether a value / variable is present in a sequence"
   ]
  },
  {
   "cell_type": "code",
   "execution_count": 35,
   "id": "0ec239a5-7a5a-4729-9141-34f73e3be2cb",
   "metadata": {},
   "outputs": [
    {
     "data": {
      "text/plain": [
       "(True, False)"
      ]
     },
     "execution_count": 35,
     "metadata": {},
     "output_type": "execute_result"
    }
   ],
   "source": [
    "mystr = 'Asif Ali Bhat'\n",
    "'Asif' in mystr , 'John' in mystr"
   ]
  },
  {
   "cell_type": "code",
   "execution_count": 36,
   "id": "f61abad0-2459-436b-895d-fa005fb0d5b0",
   "metadata": {},
   "outputs": [
    {
     "data": {
      "text/plain": [
       "(False, True)"
      ]
     },
     "execution_count": 36,
     "metadata": {},
     "output_type": "execute_result"
    }
   ],
   "source": [
    "mystr = 'Asif Ali Bhat'\n",
    "'Asif' not in mystr , 'John' not in mystr"
   ]
  },
  {
   "cell_type": "markdown",
   "id": "01158117-c4f8-4932-a034-e142f177a1e7",
   "metadata": {},
   "source": [
    "# Functions\n",
    "#### A function is a block of organized code written to carry out a specified task.\n",
    "#### Functions help break our program into smaller and modular chunks for better readability.\n",
    "#### Information can be passed into a function as arguments.\n",
    "#### Parameters are specified after the function name inside the parentheses\n",
    "#### We can add as many parameters as we want. Parameters must be separated with a comma.\n",
    "#### A function may or may not return data.\n",
    "#### In Python a function is defined using the def keyword..\r"
   ]
  },
  {
   "cell_type": "markdown",
   "id": "846b6c9b-c6a9-4180-b3df-7d4e796db5c7",
   "metadata": {},
   "source": [
    "# Parameter VS Argument\n",
    "#### A parameter is the variable listed inside the parentheses in the function definition.\n",
    "#### An argument is the value that is sent to the function when it is called.\n",
    "## Three types of functions in Python:-\n",
    "#### Built-in function :- Python predefined functions that are readily available for use like min(), max() , sum() , print() etc.\n",
    "#### User-Defined Functions:- Function that we define ourselves to perform a specific task.\n",
    "#### Anonymous functions : Function that is defined without a name. Anonymous functions are also called as lambda functions. They are not declared with the def keyword."
   ]
  },
  {
   "cell_type": "code",
   "execution_count": 38,
   "id": "569ee3d2-1c3c-47dd-ba49-ac165b42903f",
   "metadata": {},
   "outputs": [
    {
     "name": "stdout",
     "output_type": "stream",
     "text": [
      "Hello Python Lovers\n"
     ]
    }
   ],
   "source": [
    "def myfunc():\n",
    " print(\"Hello Python Lovers\")\n",
    "myfunc()"
   ]
  },
  {
   "cell_type": "code",
   "execution_count": 39,
   "id": "fbf9bdd3-5a53-4081-9480-d4f677bf5a16",
   "metadata": {},
   "outputs": [
    {
     "name": "stdout",
     "output_type": "stream",
     "text": [
      "Name :-  Asif\n",
      "User ID is :-  asif123\n",
      "Country :-  India\n"
     ]
    }
   ],
   "source": [
    "def details(name,userid,country): # Function to print User details\n",
    " print('Name :- ', name)\n",
    " print('User ID is :- ', userid)\n",
    " print('Country :- ',country)\n",
    " \n",
    "details('Asif' , 'asif123' , 'India')"
   ]
  },
  {
   "cell_type": "code",
   "execution_count": 40,
   "id": "de5e87a3-3bd9-49c1-ba63-3a92840068d2",
   "metadata": {},
   "outputs": [
    {
     "data": {
      "text/plain": [
       "100"
      ]
     },
     "execution_count": 40,
     "metadata": {},
     "output_type": "execute_result"
    }
   ],
   "source": [
    "def square (n): #function to find square of a number\n",
    " n= n*n\n",
    " return n\n",
    "square (10)"
   ]
  },
  {
   "cell_type": "code",
   "execution_count": 42,
   "id": "49882757-3569-43f0-946d-120cc1900eef",
   "metadata": {},
   "outputs": [
    {
     "name": "stdout",
     "output_type": "stream",
     "text": [
      "3  is odd number\n",
      "4  is even number\n",
      " This function will check whether a number is even or odd\n"
     ]
    }
   ],
   "source": [
    "def even_odd (num): #Even odd test\n",
    " \"\"\" This function will check whether a number is even or odd\"\"\"\n",
    " if num % 2 ==0:\n",
    "     print (num, ' is even number')\n",
    " else:\n",
    "     print (num, ' is odd number')\n",
    "even_odd(3)\n",
    "even_odd(4)\n",
    "print(even_odd.__doc__) # Print function documentation string"
   ]
  },
  {
   "cell_type": "code",
   "execution_count": 43,
   "id": "157c3b1d-3e22-4188-9f56-137e868c618a",
   "metadata": {},
   "outputs": [
    {
     "name": "stdout",
     "output_type": "stream",
     "text": [
      "Asif Ali Bhat\n"
     ]
    }
   ],
   "source": [
    "def fullname (firstname , middlename ,lastname): #Concatenate Strings\n",
    " fullname = \"{} {} {}\".format(firstname,middlename,lastname)\n",
    " print (fullname)\n",
    "fullname('Asif' , 'Ali' , 'Bhat')"
   ]
  },
  {
   "cell_type": "code",
   "execution_count": 44,
   "id": "200d55dd-f7ec-45e2-b738-4d51d776abbe",
   "metadata": {},
   "outputs": [
    {
     "name": "stdout",
     "output_type": "stream",
     "text": [
      "Asif Ali Bhat\n"
     ]
    }
   ],
   "source": [
    "def fullname (firstname , middlename ,lastname): #Concatenate Strings\n",
    " fullname = \"{} {} {}\".format(firstname,middlename,lastname)\n",
    " print (fullname)\n",
    "fullname(lastname = 'Bhat' , middlename='Ali' , firstname='Asif') "
   ]
  },
  {
   "cell_type": "code",
   "execution_count": 45,
   "id": "8a20988e-596d-42d7-ab7f-31b8fbf2305d",
   "metadata": {},
   "outputs": [
    {
     "name": "stdout",
     "output_type": "stream",
     "text": [
      "Most Populous City :-  Mumbai\n"
     ]
    }
   ],
   "source": [
    "def myfunc(city = 'Mumbai'):\n",
    " print('Most Populous City :- ', city)\n",
    " \n",
    "myfunc() "
   ]
  },
  {
   "cell_type": "code",
   "execution_count": 46,
   "id": "574382c0-ea31-4d10-8b84-384446920ee2",
   "metadata": {},
   "outputs": [
    {
     "name": "stdout",
     "output_type": "stream",
     "text": [
      "100\n",
      "100\n"
     ]
    }
   ],
   "source": [
    "var1 = 100 # Variable with Global scope.\n",
    "def myfunc():\n",
    " print(var1) # Value 100 will be displayed due to global scope of var1\n",
    " \n",
    "myfunc()\n",
    "print(var1)"
   ]
  },
  {
   "cell_type": "code",
   "execution_count": 48,
   "id": "caa73120-76fe-421b-9e84-fa1b47ad192c",
   "metadata": {},
   "outputs": [
    {
     "name": "stdout",
     "output_type": "stream",
     "text": [
      "99\n",
      "100\n"
     ]
    }
   ],
   "source": [
    "var1 = 100 # Variable with Global scope.\n",
    "def myfunc():\n",
    " var1 = 99 # Local scope\n",
    " print(var1)\n",
    " \n",
    "myfunc() \n",
    "print(var1)"
   ]
  },
  {
   "cell_type": "code",
   "execution_count": 49,
   "id": "7df81203-8694-4f00-9d09-9eb604415543",
   "metadata": {},
   "outputs": [
    {
     "name": "stdout",
     "output_type": "stream",
     "text": [
      "\"List1\" before calling the function:-  [11, 22, 33, 44, 55]\n",
      "\"List1\" after calling the function:-  [22, 33, 44, 55]\n"
     ]
    }
   ],
   "source": [
    "list1 = [11,22,33,44,55]\n",
    "def myfunc(list1):\n",
    " del list1[0]\n",
    "print('\"List1\" before calling the function:- ',list1)\n",
    "myfunc(list1) \n",
    "print('\"List1\" after calling the function:- ',list1)"
   ]
  },
  {
   "cell_type": "code",
   "execution_count": 50,
   "id": "684d07f6-645c-44c8-a293-edabc62e7393",
   "metadata": {},
   "outputs": [
    {
     "name": "stdout",
     "output_type": "stream",
     "text": [
      "\"List1\" before calling the function:-  [11, 22, 33, 44, 55]\n",
      "\"List1\" after calling the function:-  [11, 22, 33, 44, 55, 100]\n"
     ]
    }
   ],
   "source": [
    "list1 = [11,22,33,44,55]\n",
    "def myfunc(list1):\n",
    " list1.append(100)\n",
    "print('\"List1\" before calling the function:- ',list1)\n",
    "myfunc(list1) # Pass by reference (Any change in the parameter within the functi\n",
    "print('\"List1\" after calling the function:- ',list1)"
   ]
  },
  {
   "cell_type": "code",
   "execution_count": 51,
   "id": "3d5fd6ea-8488-4029-8610-f426ddd7f60a",
   "metadata": {},
   "outputs": [
    {
     "name": "stdout",
     "output_type": "stream",
     "text": [
      "\"List1\" before calling the function:-  [11, 22, 33, 44, 55]\n",
      "\"List1\" after calling the function:-  [11, 22, 33, 44, 55]\n"
     ]
    }
   ],
   "source": [
    "list1 = [11,22,33,44,55]\n",
    "def myfunc(list1):\n",
    " list1 = [10,100,1000,10000] # link of 'list1' with previous object is broken \n",
    "print('\"List1\" before calling the function:- ',list1)\n",
    "myfunc(list1)\n",
    "print('\"List1\" after calling the function:- ',list1)"
   ]
  },
  {
   "cell_type": "code",
   "execution_count": 59,
   "id": "adad7cf2-6623-4981-b1cb-1468e80a5679",
   "metadata": {},
   "outputs": [
    {
     "name": "stdout",
     "output_type": "stream",
     "text": [
      "20 10\n"
     ]
    }
   ],
   "source": [
    "def swap(a,b):\n",
    "     temp = a\n",
    "     a = b  \n",
    "     b = temp \n",
    "     return a,b\n",
    "\n",
    "a = 10\n",
    "b = 20\n",
    "a,b = swap(a,b)\n",
    "print(a, b)"
   ]
  },
  {
   "cell_type": "code",
   "execution_count": 61,
   "id": "3ea42c53-36d7-4084-a4a8-998517aeae73",
   "metadata": {},
   "outputs": [
    {
     "data": {
      "text/plain": [
       "24"
      ]
     },
     "execution_count": 61,
     "metadata": {},
     "output_type": "execute_result"
    }
   ],
   "source": [
    "def factorial(num): # Calculate factorial of a number using recursive function c\n",
    " if num <=1 :\n",
    "     return 1\n",
    " else:\n",
    "     return num * factorial(num-1)\n",
    " \n",
    "factorial(4)"
   ]
  },
  {
   "cell_type": "code",
   "execution_count": 62,
   "id": "21b2dff3-3b49-43b0-a6db-17ff60e02753",
   "metadata": {},
   "outputs": [
    {
     "data": {
      "text/plain": [
       "15"
      ]
     },
     "execution_count": 62,
     "metadata": {},
     "output_type": "execute_result"
    }
   ],
   "source": [
    "def add(num): # Sum of first n natural numbers\n",
    " if num == 0:\n",
    "     return 0\n",
    " else:\n",
    "     return num + add(num-1)\n",
    "add(5)"
   ]
  },
  {
   "cell_type": "code",
   "execution_count": 63,
   "id": "84c0a76a-eeee-470b-89b2-e3730b916356",
   "metadata": {},
   "outputs": [
    {
     "name": "stdin",
     "output_type": "stream",
     "text": [
      "How many fibonacci numbers you want to generate - 5\n"
     ]
    },
    {
     "name": "stdout",
     "output_type": "stream",
     "text": [
      "0\n",
      "1\n",
      "1\n",
      "2\n",
      "3\n"
     ]
    }
   ],
   "source": [
    "def fiboacci(num):\n",
    " if num <= 1:\n",
    "     return num\n",
    " if num == 2:\n",
    "     return 1\n",
    " else: \n",
    "     return(fiboacci(num-1) + fiboacci(num-2)) \n",
    "nums = int(input(\"How many fibonacci numbers you want to generate -\"))\n",
    "for i in range(nums):\n",
    " print(fiboacci(i)) "
   ]
  },
  {
   "cell_type": "markdown",
   "id": "e882866c-f036-4ffd-8006-cba9cfddad39",
   "metadata": {},
   "source": [
    "# args & kwargs\n",
    "## *args\n",
    "#### When we are not sure about the number of arguments being passed to a function then we can use *args as function parameter.\n",
    "#### *args allow us to pass the variable number of Non Keyword Arguments to function.\n",
    "#### We can simply use an asterisk * before the parameter name to pass variable length arguments.\n",
    "#### The arguments are always passed as a tuple.\n",
    "#### We can rename it to anything as long as it is preceded by a single asterisk (*). It's best practice to keep naming it args to make it immediately recognizable.\n",
    "\n",
    "## **kwargs\n",
    "#### **kwargs allows us to pass the variable number of Keyword Arguments to the function.\n",
    "#### We can simply use an double asterisk ** before the parameter name to pass variable length arguments.\n",
    "#### The arguments are passed as a dictionary.\n",
    "#### We can rename it to anything as long as it is preceded by a double asterisk (**). It's best practice to keep naming it kwargs to make it immediately recognizable.able.\r"
   ]
  },
  {
   "cell_type": "code",
   "execution_count": 64,
   "id": "7e3f79b7-d771-42a0-a3be-799b52d8245c",
   "metadata": {},
   "outputs": [
    {
     "data": {
      "image/jpeg": "[encoded data removed]",
      "text/plain": [
       "<IPython.core.display.Image object>"
      ]
     },
     "metadata": {},
     "output_type": "display_data"
    }
   ],
   "source": [
    "from IPython.display import display, Image\n",
    "display(Image(filename='C:/Users/ADMIN/Desktop/LAB MANUALS/1.jpg'))"
   ]
  },
  {
   "cell_type": "code",
   "execution_count": 1,
   "id": "353c1c39-4339-4e1e-b718-38d7b333dc07",
   "metadata": {},
   "outputs": [
    {
     "name": "stdout",
     "output_type": "stream",
     "text": [
      "60\n"
     ]
    }
   ],
   "source": [
    "def add(a,b,c):\n",
    " return a+b+c\n",
    " \n",
    "print(add(10,20,30)) # Sum of two numbers"
   ]
  },
  {
   "cell_type": "code",
   "execution_count": 3,
   "id": "0ac2507c-1e92-4412-b3fa-3bf81f43eac4",
   "metadata": {},
   "outputs": [
    {
     "name": "stdout",
     "output_type": "stream",
     "text": [
      "arg_1: 1\n",
      "arg_2: 2\n",
      "arg_3: 3\n"
     ]
    }
   ],
   "source": [
    "def some_args(arg_1, arg_2, arg_3):\n",
    " print(\"arg_1:\", arg_1)\n",
    " print(\"arg_2:\", arg_2)\n",
    " print(\"arg_3:\", arg_3)\n",
    "my_list = [2, 3]\n",
    "some_args(1, *my_list)"
   ]
  },
  {
   "cell_type": "code",
   "execution_count": 4,
   "id": "e6f2fcec-ec27-467b-b547-27176429522d",
   "metadata": {},
   "outputs": [
    {
     "name": "stdout",
     "output_type": "stream",
     "text": [
      "6\n",
      "10\n",
      "15\n",
      "21\n",
      "28\n"
     ]
    }
   ],
   "source": [
    "def add(*args):\n",
    " return sum(args)\n",
    "print(add(1,2,3))\n",
    "print(add(1,2,3,4)) \n",
    "print(add(1,2,3,4,5))\n",
    "print(add(1,2,3,4,5,6))\n",
    "print(add(1,2,3,4,5,6,7))"
   ]
  },
  {
   "cell_type": "code",
   "execution_count": 6,
   "id": "f6f7912b-6f70-4976-9864-2a2362a95b48",
   "metadata": {},
   "outputs": [
    {
     "data": {
      "text/plain": [
       "(28, 28)"
      ]
     },
     "execution_count": 6,
     "metadata": {},
     "output_type": "execute_result"
    }
   ],
   "source": [
    "list1 = [1,2,3,4,5,6,7]\n",
    "tuple1 = (1,2,3,4,5,6,7)\n",
    "add(*list1) , add(*tuple1)"
   ]
  },
  {
   "cell_type": "code",
   "execution_count": 7,
   "id": "d9d97406-2c94-49f5-8c30-432ba22f1050",
   "metadata": {},
   "outputs": [
    {
     "data": {
      "text/plain": [
       "112"
      ]
     },
     "execution_count": 7,
     "metadata": {},
     "output_type": "execute_result"
    }
   ],
   "source": [
    "list1 = [1,2,3,4,5,6,7]\n",
    "list2 = [1,2,3,4,5,6,7]\n",
    "list3 = [1,2,3,4,5,6,7]\n",
    "list4 = [1,2,3,4,5,6,7]\n",
    "add(*list1 , *list2 , *list3 , *list4 )"
   ]
  },
  {
   "cell_type": "code",
   "execution_count": 8,
   "id": "8e9f68fb-678f-4533-8c22-29ac3a386bd7",
   "metadata": {},
   "outputs": [
    {
     "name": "stdout",
     "output_type": "stream",
     "text": [
      "('Asif', 7412, 41102, 33, 'India', 'Hindi')\n"
     ]
    }
   ],
   "source": [
    "def UserDetails(*args):\n",
    " print(args)\n",
    "UserDetails('Asif' , 7412 , 41102 , 33 , 'India' , 'Hindi')"
   ]
  },
  {
   "cell_type": "code",
   "execution_count": 11,
   "id": "062d2853-5fb7-4a5f-9235-dc872ccc4a5c",
   "metadata": {},
   "outputs": [
    {
     "name": "stdout",
     "output_type": "stream",
     "text": [
      "{'Name': 'Asif', 'ID': 7412, 'Pincode': 41102, 'Age': 33, 'Country': 'India', 'Language': 'Hindi'}\n"
     ]
    }
   ],
   "source": [
    "def UserDetails(**kwargs):\n",
    " print(kwargs)\n",
    "UserDetails(Name='Asif' , ID=7412 , Pincode=41102 , Age= 33 , Country= 'India',Language='Hindi')"
   ]
  },
  {
   "cell_type": "code",
   "execution_count": 13,
   "id": "5761a4a9-2c78-44bb-a1c8-e58f96263c3b",
   "metadata": {},
   "outputs": [
    {
     "name": "stdout",
     "output_type": "stream",
     "text": [
      "Name :- Asif\n",
      "ID :- 7412\n",
      "Pincode :- 41102\n",
      "Age :- 33\n",
      "Country :- India\n",
      "Language :- Hindi\n"
     ]
    }
   ],
   "source": [
    "def UserDetails(**kwargs):\n",
    " for key,val in kwargs.items():\n",
    "     print(\"{} :- {}\".format(key,val))\n",
    "UserDetails(Name='Asif' , ID=7412 , Pincode=41102 , Age= 33 , Country= 'India',Language='Hindi')"
   ]
  },
  {
   "cell_type": "code",
   "execution_count": 15,
   "id": "4b8077c5-211f-40e0-8f54-760266268268",
   "metadata": {},
   "outputs": [
    {
     "name": "stdout",
     "output_type": "stream",
     "text": [
      "Name :- Asif\n",
      "ID :- 7412\n",
      "Pincode :- 41102\n",
      "Age :- 33\n",
      "Country :- India\n",
      "Language :- Hindi\n"
     ]
    }
   ],
   "source": [
    "mydict = {'Name':'Asif' , 'ID':7412 , 'Pincode':41102 , 'Age': 33 , 'Country':'India','Language':'Hindi'}\n",
    "UserDetails(**mydict)"
   ]
  },
  {
   "cell_type": "code",
   "execution_count": 18,
   "id": "d720da9a-159f-410a-b3ba-d609485fbeb2",
   "metadata": {},
   "outputs": [
    {
     "name": "stdout",
     "output_type": "stream",
     "text": [
      "License No :-  BHT145\n",
      "Full Name :- Asif Ali Bhat\n",
      "Phone Number:-  1234567890\n",
      "Name :- Asif\n",
      "ID :- 7412\n",
      "Pincode :- 41102\n",
      "Age :- 33\n",
      "Country :- India\n",
      "Language :- Hindi\n"
     ]
    }
   ],
   "source": [
    "def UserDetails(licenseNo, *args , phoneNo=0 , **kwargs): # Using all four argum\n",
    " print('License No :- ', licenseNo)\n",
    " j=''\n",
    " for i in args:\n",
    "     j = j+i\n",
    " print('Full Name :-',j)\n",
    " print('Phone Number:- ',phoneNo)\n",
    " for key,val in kwargs.items():\n",
    "     print(\"{} :- {}\".format(key,val))\n",
    " \n",
    " \n",
    "name = ['Asif' , ' ' , 'Ali' , ' ','Bhat']\n",
    "mydict = {'Name':'Asif' , 'ID':7412 , 'Pincode':41102 , 'Age': 33 , 'Country':'India','Language':'Hindi'}\n",
    "UserDetails('BHT145' , *name , phoneNo=1234567890,**mydict )"
   ]
  },
  {
   "cell_type": "code",
   "execution_count": 19,
   "id": "d30847dc-28f5-4c9a-989f-abfe1d206247",
   "metadata": {},
   "outputs": [],
   "source": [
    "def UserDetails(licenseNo, *args , phoneNo=0, **kwargs): \n",
    " print('Nothing')"
   ]
  },
  {
   "cell_type": "markdown",
   "id": "81c1a777-ce24-4a21-9fce-ba032b06b533",
   "metadata": {},
   "source": [
    "# Lambda, Filter, Map and Reduce\n",
    "\n",
    "### Lambda : \n",
    "#### A lambda function is an anonymous function (function without a name).\r",
    "#### Lambda functions can have any number of arguments but only one expression.The expression is evaluated and returned.\n",
    "#### We use lambda functions when we require a nameless function for a short period of time.\n",
    "\n",
    "### Filter :\n",
    "#### It is used to filter the iterables/sequence as per the conditions.\n",
    "#### Filter function filters the original iterable and passes the items that returns True for the function provided to filter.\n",
    "#### It is normally used with Lambda functions to filter list, tuple, or sets.\n",
    "#### filter() method takes two parameters:\n",
    "#### function - function tests if elements of an iterable returns true or false\r",
    "#### iterable - Sequence which needs to be filtered, could be sets, lists, tuples, or any iterators\r\n",
    "### Map : \n",
    "#### The map() function applies a given function to each item of an iterable (list, tuple etc.) and returns a list of the results.\n",
    "#### map() function takes two Parameters :\n",
    "#### function : The function to execute for each item of given iterable.\n",
    "#### iterable : It is a iterable which is to be mapped\n",
    "#### Returns : Returns a list of the results after applying the given function to each item of a given iterable (list, tuple etc.)\n",
    "\n",
    "### Reduce : \n",
    "#### The reduce() function is defined in the functools python module\n",
    "#### The reduce() function receives two arguments, a function and an iterable. However, it doesn't return another iterable, instead it returns a single value.\n",
    "#### Working:\r",
    "#### 1) Apply a function to the first two items in an iterable and generate a partial result.\r",
    "#### 2) The function is then called again with the result obtained in step 1 and the next value in the sequence. This process keeps on repeating until there are items in the sequence.\n",
    "#### 3) The final returned result is returned and printed on console.\r",
    ")\r",
    ".\r",
    ".."
   ]
  },
  {
   "cell_type": "code",
   "execution_count": 20,
   "id": "5b00510d-4ed3-419f-80d4-a1f7776d665d",
   "metadata": {},
   "outputs": [
    {
     "data": {
      "image/jpeg": "[encoded data removed]",
      "text/plain": [
       "<IPython.core.display.Image object>"
      ]
     },
     "metadata": {},
     "output_type": "display_data"
    },
    {
     "data": {
      "image/jpeg": "[encoded data removed]",
      "text/plain": [
       "<IPython.core.display.Image object>"
      ]
     },
     "metadata": {},
     "output_type": "display_data"
    },
    {
     "data": {
      "image/jpeg": "[encoded data removed]",
      "text/plain": [
       "<IPython.core.display.Image object>"
      ]
     },
     "metadata": {},
     "output_type": "display_data"
    },
    {
     "data": {
      "image/jpeg": "[encoded data removed]",
      "text/plain": [
       "<IPython.core.display.Image object>"
      ]
     },
     "metadata": {},
     "output_type": "display_data"
    }
   ],
   "source": [
    "from IPython.display import display, Image\n",
    "display(Image(filename='C:/Users/ADMIN/Desktop/LAB MANUALS/2.jpg'))\n",
    "display(Image(filename='C:/Users/ADMIN/Desktop/LAB MANUALS/3.jpg'))\n",
    "display(Image(filename='C:/Users/ADMIN/Desktop/LAB MANUALS/4.jpg'))\n",
    "display(Image(filename='C:/Users/ADMIN/Desktop/LAB MANUALS/5.jpg'))"
   ]
  },
  {
   "cell_type": "code",
   "execution_count": 21,
   "id": "3af3f703-23dd-48bc-8798-582efb4c7cc4",
   "metadata": {},
   "outputs": [
    {
     "name": "stdout",
     "output_type": "stream",
     "text": [
      "15\n"
     ]
    }
   ],
   "source": [
    "addition = lambda a : a + 10 \n",
    "print(addition(5))"
   ]
  },
  {
   "cell_type": "code",
   "execution_count": 22,
   "id": "12815b04-074a-4e03-991a-15a5a0e5935c",
   "metadata": {},
   "outputs": [
    {
     "name": "stdout",
     "output_type": "stream",
     "text": [
      "30\n"
     ]
    }
   ],
   "source": [
    "product = lambda a, b : a * b \n",
    "print(product(5, 6))"
   ]
  },
  {
   "cell_type": "code",
   "execution_count": 23,
   "id": "7adfa5f0-ed93-4cb0-9cd2-804da7f84211",
   "metadata": {},
   "outputs": [
    {
     "name": "stdout",
     "output_type": "stream",
     "text": [
      "13\n"
     ]
    }
   ],
   "source": [
    "addition = lambda a, b, c : a + b + c\n",
    "print(addition(5, 6, 2))"
   ]
  },
  {
   "cell_type": "code",
   "execution_count": 24,
   "id": "8a376334-e695-420c-9a06-d7321c66e216",
   "metadata": {},
   "outputs": [
    {
     "data": {
      "text/plain": [
       "(30, 100, 280)"
      ]
     },
     "execution_count": 24,
     "metadata": {},
     "output_type": "execute_result"
    }
   ],
   "source": [
    "res = (lambda *args: sum(args))\n",
    "res(10,20) , res(10,20,30,40) , res(10,20,30,40,50,60,70)"
   ]
  },
  {
   "cell_type": "code",
   "execution_count": 25,
   "id": "f570f4b9-35b4-4bc2-ae78-3d516eb7be52",
   "metadata": {},
   "outputs": [
    {
     "data": {
      "text/plain": [
       "(60, 150)"
      ]
     },
     "execution_count": 25,
     "metadata": {},
     "output_type": "execute_result"
    }
   ],
   "source": [
    "res1 = (lambda **kwargs: sum(kwargs.values())) \n",
    "res1(a = 10 , b= 20 , c = 30) , res1(a = 10 , b= 20 , c = 30, d = 40 , e = 50)"
   ]
  },
  {
   "cell_type": "code",
   "execution_count": 27,
   "id": "6bce7967-88a0-452f-ab32-b4d267c19320",
   "metadata": {},
   "outputs": [
    {
     "data": {
      "text/plain": [
       "(6000, 12000000)"
      ]
     },
     "execution_count": 27,
     "metadata": {},
     "output_type": "execute_result"
    }
   ],
   "source": [
    "def product(nums): \n",
    " total = 1\n",
    " for i in nums:\n",
    "     total *= i \n",
    " return total\n",
    "# This lambda function can take any number of arguments and return thier product.\n",
    "res1 = (lambda **kwargs: product(kwargs.values())) \n",
    "res1(a = 10 , b= 20 , c = 30) , res1(a = 10 , b= 20 , c = 30, d = 40 , e = 50)"
   ]
  },
  {
   "cell_type": "code",
   "execution_count": 28,
   "id": "7c9bba8f-7219-439f-9f66-428aa491c3a2",
   "metadata": {},
   "outputs": [
    {
     "name": "stdout",
     "output_type": "stream",
     "text": [
      "15\n",
      "25\n",
      "35\n"
     ]
    }
   ],
   "source": [
    "def myfunc(n):\n",
    " return lambda a : a + n\n",
    "add10 = myfunc(10)\n",
    "add20 = myfunc(20)\n",
    "add30 = myfunc(30)\n",
    "print(add10(5))\n",
    "print(add20(5))\n",
    "print(add30(5))"
   ]
  },
  {
   "cell_type": "code",
   "execution_count": 29,
   "id": "84f72111-ead3-4bf2-b25c-e6d6f5551083",
   "metadata": {},
   "outputs": [
    {
     "data": {
      "text/plain": [
       "[1, 3, 5, 7, 9]"
      ]
     },
     "execution_count": 29,
     "metadata": {},
     "output_type": "execute_result"
    }
   ],
   "source": [
    "list1 = [1,2,3,4,5,6,7,8,9]\n",
    "def odd(n):\n",
    " if n%2 ==1: return True\n",
    " else: return False\n",
    " \n",
    "odd_num = list(filter(odd,list1)) \n",
    "odd_num"
   ]
  },
  {
   "cell_type": "code",
   "execution_count": 30,
   "id": "654b87a2-14de-464a-b4d9-2516cb9a90f8",
   "metadata": {},
   "outputs": [
    {
     "data": {
      "text/plain": [
       "[1, 3, 5, 7, 9]"
      ]
     },
     "execution_count": 30,
     "metadata": {},
     "output_type": "execute_result"
    }
   ],
   "source": [
    "list1 = [1,2,3,4,5,6,7,8,9]\n",
    "# The below Filter function filters \"list1\" and passes all odd numbers using lamb\n",
    "odd_num = list(filter(lambda n: n%2 ==1 ,list1)) \n",
    "odd_num"
   ]
  },
  {
   "cell_type": "code",
   "execution_count": 31,
   "id": "de34aca8-e06a-4fa2-a770-8e4a2b8ed6ca",
   "metadata": {},
   "outputs": [
    {
     "data": {
      "text/plain": [
       "[2, 6, 10, 14, 18]"
      ]
     },
     "execution_count": 31,
     "metadata": {},
     "output_type": "execute_result"
    }
   ],
   "source": [
    "def twice(n):\n",
    " return n*2\n",
    " \n",
    "doubles = list(map(twice,odd_num)) \n",
    "doubles"
   ]
  },
  {
   "cell_type": "code",
   "execution_count": 32,
   "id": "3e4649ba-c020-4601-a4f2-3e0e4993631b",
   "metadata": {},
   "outputs": [
    {
     "data": {
      "text/plain": [
       "[2, 6, 10, 14, 18]"
      ]
     },
     "execution_count": 32,
     "metadata": {},
     "output_type": "execute_result"
    }
   ],
   "source": [
    "doubles = list(map(lambda n:n*2,odd_num)) \n",
    "doubles"
   ]
  },
  {
   "cell_type": "code",
   "execution_count": 33,
   "id": "6aa51ca9-cfb4-4eae-9d63-90e828a87a3e",
   "metadata": {},
   "outputs": [
    {
     "data": {
      "text/plain": [
       "50"
      ]
     },
     "execution_count": 33,
     "metadata": {},
     "output_type": "execute_result"
    }
   ],
   "source": [
    "from functools import reduce\n",
    "def add(a,b):\n",
    " return a+b\n",
    " \n",
    "sum_all = reduce(add,doubles) \n",
    "sum_all"
   ]
  },
  {
   "cell_type": "code",
   "execution_count": 34,
   "id": "73bfecce-0eb6-44d1-9f33-6dccdb8d4f59",
   "metadata": {},
   "outputs": [
    {
     "data": {
      "text/plain": [
       "50"
      ]
     },
     "execution_count": 34,
     "metadata": {},
     "output_type": "execute_result"
    }
   ],
   "source": [
    "sum_all = reduce(lambda a,b : a+b,doubles)\n",
    "sum_all"
   ]
  },
  {
   "cell_type": "code",
   "execution_count": 47,
   "id": "2093c9e5-efcd-42d2-a73f-9c091b8c9f3a",
   "metadata": {},
   "outputs": [
    {
     "data": {
      "text/plain": [
       "50"
      ]
     },
     "execution_count": 47,
     "metadata": {},
     "output_type": "execute_result"
    }
   ],
   "source": [
    "sum_all = reduce(lambda a,b : a+b,list(map(lambda n:n*2,list(filter(lambda n: n%2 ==1 ,list1)))))\n",
    "sum_all"
   ]
  },
  {
   "cell_type": "code",
   "execution_count": 48,
   "id": "bf2bc5c5-e6ca-43fa-94c7-84d699217eaa",
   "metadata": {},
   "outputs": [
    {
     "data": {
      "image/jpeg": "[encoded data removed]",
      "text/plain": [
       "<IPython.core.display.Image object>"
      ]
     },
     "metadata": {},
     "output_type": "display_data"
    }
   ],
   "source": [
    "display(Image(filename='C:/Users/ADMIN/Desktop/LAB MANUALS/6.jpg'))"
   ]
  },
  {
   "cell_type": "code",
   "execution_count": 49,
   "id": "4dde3f82-4320-43cc-bdf5-043d9f453ff4",
   "metadata": {},
   "outputs": [
    {
     "name": "stdout",
     "output_type": "stream",
     "text": [
      "--------\n",
      "[2, 4, 6, 8, 10]\n",
      "[1, 3, 5, 7, 9]\n",
      "--------\n",
      "['TWO', 'FOUR']\n",
      "['one', 'three']\n",
      "--------\n",
      "['one']\n",
      "['88', '99', '102']\n",
      "['one', 'two2', 'three3', '88', '99', '102']\n",
      "--------\n"
     ]
    }
   ],
   "source": [
    "list1 = [1,2,3,4,5,6,7,8,9,10]\n",
    "even = list(filter(lambda n: n%2 ==0 ,list1)) # Filter even numbers from the list\n",
    "odd = list(filter(lambda n: n%2 !=0 ,list1)) # Filter odd numbers from the list\n",
    "print('--------')\n",
    "print(even)\n",
    "print(odd)\n",
    "print('--------')\n",
    "list2 = ['one' , 'TWO' , 'three' , 'FOUR']\n",
    "upper = list(filter(lambda x: x.isupper() , list2)) # filter uppercase strings from the list\n",
    "lower = list(filter(lambda x: x.islower() , list2)) # filter lowercase strings from the list\n",
    "print(upper)\n",
    "print(lower)\n",
    "print('--------')\n",
    "list3 = ['one' , 'two2' , 'three3' ,'88' , '99' , '102']\n",
    "numeric = list(filter(lambda x:x.isnumeric(), list3)) # filter numbers from the list\n",
    "alpha = list(filter(lambda x:x.isalpha(), list3)) # filter character strings from the list\n",
    "alphanum = list(filter(lambda x:x.isalnum(), list3)) # filtr numbers & character from the list\n",
    "print(alpha)\n",
    "print(numeric)\n",
    "print(alphanum)\n",
    "print('--------')"
   ]
  },
  {
   "cell_type": "code",
   "execution_count": 50,
   "id": "767aa363-49b5-49b6-8adb-dc697102c1c4",
   "metadata": {},
   "outputs": [
    {
     "name": "stdout",
     "output_type": "stream",
     "text": [
      "---------------\n",
      "[2, 4, 6, 8]\n",
      "[6, 8, 10, 12]\n",
      "[1, 4, 9, 16]\n",
      "---------------\n",
      "[2, 4, 6, 8]\n",
      "[6, 8, 10, 12]\n",
      "[1, 4, 9, 16]\n",
      "---------------\n"
     ]
    }
   ],
   "source": [
    "list1 = [1,2,3,4]\n",
    "list2 = [5,6,7,8]\n",
    "def double(x):\n",
    " return x+x\n",
    "def add(x,y):\n",
    " return x+y\n",
    "def square(x):\n",
    " return x*x\n",
    "print('---------------')\n",
    "print(list(map(double, list1))) \n",
    "print(list(map(add, list1, list2)))\n",
    "print(list(map(square, list1))) \n",
    "print('---------------')\n",
    "print(list(map(lambda x: x + x, list1))) \n",
    "print(list(map(lambda x, y: x + y, list1, list2)))\n",
    "print(list(map(lambda x: x*x, list1))) \n",
    "print('---------------')"
   ]
  },
  {
   "cell_type": "code",
   "execution_count": 52,
   "id": "f93c6b6a-3809-4ec4-8b02-c318693d6419",
   "metadata": {},
   "outputs": [
    {
     "name": "stdout",
     "output_type": "stream",
     "text": [
      "24\n",
      "10\n",
      "Python Rocks\n",
      "Hello Hello Hello \n",
      "1\n",
      "4\n"
     ]
    }
   ],
   "source": [
    "import operator\n",
    "list2 = [1,2,3,4]\n",
    "product = reduce (operator.mul,list2)\n",
    "add = reduce(operator.add,list2) \n",
    "concat_str = reduce(operator.add , ['Python' , ' ' , 'Rocks']) \n",
    "prod = reduce(operator.mul,['Hello ' , 3]) \n",
    "min_num = reduce(lambda a, b: a if a < b else b, list2) \n",
    "max_num = reduce(lambda a, b: a if a > b else b, list2) \n",
    "print(product)\n",
    "print(add)\n",
    "print(concat_str)\n",
    "print(prod)\n",
    "print(min_num)\n",
    "print(max_num)"
   ]
  },
  {
   "cell_type": "code",
   "execution_count": 53,
   "id": "6f35cef7-9ae4-4c1c-806d-0cde660956f3",
   "metadata": {},
   "outputs": [
    {
     "data": {
      "text/plain": [
       "(1, 4)"
      ]
     },
     "execution_count": 53,
     "metadata": {},
     "output_type": "execute_result"
    }
   ],
   "source": [
    "def min_func(a, b):\n",
    " return a if a < b else b\n",
    "def max_func(a, b):\n",
    " return a if a > b else b\n",
    "min_num = reduce(min_func, list2) \n",
    "max_num = reduce(max_func, list2) \n",
    "min_num , max_num"
   ]
  },
  {
   "cell_type": "code",
   "execution_count": 54,
   "id": "08e4db92-6910-46aa-8de6-c496ef68d2ec",
   "metadata": {},
   "outputs": [
    {
     "name": "stdout",
     "output_type": "stream",
     "text": [
      "------\n",
      "False\n",
      "True\n",
      "False\n",
      "------\n",
      "False\n",
      "True\n",
      "True\n",
      "------\n"
     ]
    }
   ],
   "source": [
    "print('------')\n",
    "print(reduce(lambda a, b: bool(a and b), [0, 0, 1, 0, 0])) \n",
    "print(reduce(lambda a, b: bool(a and b), [2, 3, 1, 5, 6]))  \n",
    "print(reduce(lambda a, b: bool(a and b), [8, 9, 1, 0, 9]))  \n",
    "print('------')\n",
    "print(reduce(lambda a, b: bool(a or b), [0, 0, 0, 0, 0])) \n",
    "print(reduce(lambda a, b: bool(a or b), [2, 3, 1, 5, 6]))\n",
    "print(reduce(lambda a, b: bool(a or b), [8, 9, 1, 0, 9])) \n",
    "print('------')"
   ]
  },
  {
   "cell_type": "markdown",
   "id": "1e647a47-bab8-4310-bc07-8a5d6ba256c2",
   "metadata": {},
   "source": [
    "# Classes & Objects"
   ]
  },
  {
   "cell_type": "code",
   "execution_count": 1,
   "id": "68da9bc0-6f9b-42e3-a059-fb15cd1bbe42",
   "metadata": {},
   "outputs": [
    {
     "name": "stdout",
     "output_type": "stream",
     "text": [
      "10\n"
     ]
    }
   ],
   "source": [
    "class myclass:\n",
    " var1 = 10\n",
    " \n",
    "obj1 = myclass() # Create an object of class \"myclass()\"\n",
    "print(obj1.var1)"
   ]
  },
  {
   "cell_type": "code",
   "execution_count": 3,
   "id": "679072d7-ff38-4811-b199-22f4373bc43b",
   "metadata": {},
   "outputs": [
    {
     "name": "stdout",
     "output_type": "stream",
     "text": [
      "Name :-  Asif\n",
      "Employee ID :-  34163\n",
      "Thanks for joining ABC Company Asif!!\n"
     ]
    }
   ],
   "source": [
    "class Employee:\n",
    " def __init__(self, name, empid): # __init__() function is used to assign values\n",
    "     self.name = name\n",
    "     self.empid = empid\n",
    " def greet(self): # Class Method\n",
    "     print(\"Thanks for joining ABC Company {}!!\".format(self.name))\n",
    "emp1 = Employee(\"Asif\", 34163) # Create an employee object\n",
    "print('Name :- ',emp1.name)\n",
    "print('Employee ID :- ',emp1.empid)\n",
    "emp1.greet()"
   ]
  },
  {
   "cell_type": "code",
   "execution_count": 4,
   "id": "aa708ea0-7470-4819-b95c-6cbc92ce3dea",
   "metadata": {},
   "outputs": [
    {
     "data": {
      "text/plain": [
       "'Basit'"
      ]
     },
     "execution_count": 4,
     "metadata": {},
     "output_type": "execute_result"
    }
   ],
   "source": [
    "emp1.name = 'Basit' # Modify Object Properties\n",
    "emp1.name"
   ]
  },
  {
   "cell_type": "code",
   "execution_count": 5,
   "id": "06221d66-5abe-4c1c-8431-9e08dbd22feb",
   "metadata": {},
   "outputs": [],
   "source": [
    "del emp1.empid # Delete Object Properties"
   ]
  },
  {
   "cell_type": "code",
   "execution_count": 6,
   "id": "26d6058a-4fcb-4ffd-bedf-e167a25b01b2",
   "metadata": {},
   "outputs": [],
   "source": [
    "del emp1 # Delete the object"
   ]
  },
  {
   "cell_type": "code",
   "execution_count": 7,
   "id": "0040dad7-1130-4b3f-a57c-60b2d1d92e2e",
   "metadata": {},
   "outputs": [
    {
     "name": "stdout",
     "output_type": "stream",
     "text": [
      "Name :-  Michael\n",
      "Employee ID :-  34162\n",
      "Thanks for joining ABC Company Michael!!\n"
     ]
    }
   ],
   "source": [
    "emp2 = Employee(\"Michael\", 34162) # Create an employee object\n",
    "print('Name :- ',emp2.name)\n",
    "print('Employee ID :- ',emp2.empid)\n",
    "emp2.greet()"
   ]
  },
  {
   "cell_type": "code",
   "execution_count": 8,
   "id": "c8d3141f-4474-4cca-b3af-6bc32af84046",
   "metadata": {},
   "outputs": [
    {
     "data": {
      "text/plain": [
       "'India'"
      ]
     },
     "execution_count": 8,
     "metadata": {},
     "output_type": "execute_result"
    }
   ],
   "source": [
    "emp2.country = 'India' #instance variable can be created manually\n",
    "emp2.country"
   ]
  },
  {
   "cell_type": "markdown",
   "id": "5c247a62-16b6-4d0e-af55-717d9e30a85f",
   "metadata": {},
   "source": [
    "# Inheritance\n",
    "### Inheritance is a powerful feature in object oriented programming.\r",
    "### Inheritance provides code reusability in the program because we can use an existing class (Super Class/ Parent Class / Base Class) to create a new class (Sub Class / Child Class / Derived Class) instead of creating it from scratch.\r",
    "### The child class inherits data definitions and methods from the parent class which facilitates the reuse of features already available. The child class can add few more definitions or redefine a base class method.\n",
    "### Inheritance comes into picture when a new class possesses the 'IS A' relationship with an existing class. E.g Student is a person. Hence person is the base class and student is derived class..\r",
    "/h.\r"
   ]
  },
  {
   "cell_type": "code",
   "execution_count": 9,
   "id": "b66694eb-2652-487d-9fe2-1bad2977d2a7",
   "metadata": {},
   "outputs": [
    {
     "data": {
      "image/jpeg": "[encoded data removed]",
      "text/plain": [
       "<IPython.core.display.Image object>"
      ]
     },
     "metadata": {},
     "output_type": "display_data"
    }
   ],
   "source": [
    "from IPython.display import display, Image\n",
    "display(Image(filename='C:/Users/ADMIN/Desktop/LAB MANUALS/1.jpg'))"
   ]
  },
  {
   "cell_type": "code",
   "execution_count": 11,
   "id": "50f8e0ad-bdae-454d-9a3d-c9c53b7bec92",
   "metadata": {},
   "outputs": [
    {
     "name": "stdout",
     "output_type": "stream",
     "text": [
      "Student Details\n",
      "---------------\n",
      "Name :- Asif\n",
      "Age :- 24\n",
      "Gender :- Male\n",
      "Student ID :- 123\n",
      "Fees :- 1200\n",
      "\n",
      "Employee Details\n",
      "---------------\n",
      "Name :- Basit\n",
      "Age :- 36\n",
      "Gender :- Male\n",
      "Employee ID :- 456\n",
      "Salary :- 80000\n"
     ]
    }
   ],
   "source": [
    "class person: # Parent Class\n",
    " def __init__(self, name , age , gender):\n",
    "     self.name = name\n",
    "     self.age = age\n",
    "     self.gender = gender\n",
    " \n",
    " def PersonInfo(self):\n",
    "     print('Name :- {}'.format(self.name))\n",
    "     print('Age :- {}'.format(self.age))\n",
    "     print('Gender :- {}'.format(self.gender))\n",
    " \n",
    "class student(person): # Child Class\n",
    " def __init__(self,name,age,gender,studentid,fees):\n",
    "     person.__init__(self,name,age,gender)\n",
    "     self.studentid = studentid\n",
    "     self.fees = fees\n",
    " \n",
    " def StudentInfo(self):\n",
    "     print('Student ID :- {}'.format(self.studentid))\n",
    "     print('Fees :- {}'.format(self.fees))\n",
    " \n",
    "class teacher(person): # Child Class\n",
    " def __init__(self,name,age,gender,empid,salary):\n",
    "     person.__init__(self,name,age,gender)\n",
    "     self.empid = empid\n",
    "     self.salary = salary\n",
    " \n",
    " def TeacherInfo(self):\n",
    "     print('Employee ID :- {}'.format(self.empid))\n",
    "     print('Salary :- {}'.format(self.salary))\n",
    " \n",
    "stud1 = student('Asif' , 24 , 'Male' , 123 , 1200)\n",
    "print('Student Details')\n",
    "print('---------------')\n",
    "stud1.PersonInfo() # PersonInfo() method presnt in Parent Class will be access\n",
    "stud1.StudentInfo()\n",
    "print()\n",
    "teacher1 = teacher('Basit' , 36 , 'Male' , 456 , 80000)\n",
    "print('Employee Details')\n",
    "print('---------------')\n",
    "teacher1.PersonInfo() # PersonInfo() method presnt in Parent Class will be access\n",
    "teacher1.TeacherInfo()"
   ]
  },
  {
   "cell_type": "code",
   "execution_count": 12,
   "id": "8d7a222d-503f-484b-b52b-3f216951e7ff",
   "metadata": {},
   "outputs": [
    {
     "name": "stdout",
     "output_type": "stream",
     "text": [
      "Student Details\n",
      "---------------\n",
      "Name :- Asif\n",
      "Age :- 24\n",
      "Gender :- Male\n",
      "Student ID :- 123\n",
      "Fees :- 1200\n",
      "\n"
     ]
    }
   ],
   "source": [
    "class person: # Parent Class\n",
    " def __init__(self, name , age , gender):\n",
    "     self.name = name\n",
    "     self.age = age\n",
    "     self.gender = gender\n",
    " \n",
    " def PersonInfo(self):\n",
    "     print('Name :- {}'.format(self.name))\n",
    "     print('Age :- {}'.format(self.age))\n",
    "     print('Gender :- {}'.format(self.gender))\n",
    " \n",
    " \n",
    " \n",
    "class student(person): # Child Class\n",
    " def __init__(self,name,age,gender,studentid,fees):\n",
    "     person.__init__(self,name,age,gender)\n",
    "     self.studentid = studentid\n",
    "     self.fees = fees\n",
    " \n",
    " def StudentInfo(self):\n",
    "     print('Student ID :- {}'.format(self.studentid))\n",
    "     print('Fees :- {}'.format(self.fees))\n",
    " \n",
    " \n",
    "stud1 = student('Asif' , 24 , 'Male' , 123 , 1200)\n",
    "print('Student Details')\n",
    "print('---------------')\n",
    "stud1.PersonInfo() # PersonInfo() method presnt in Parent Class will be access\n",
    "stud1.StudentInfo()\n",
    "print()"
   ]
  },
  {
   "cell_type": "code",
   "execution_count": 13,
   "id": "5e18894a-1533-4675-ac7d-964d56d3c439",
   "metadata": {},
   "outputs": [
    {
     "name": "stdout",
     "output_type": "stream",
     "text": [
      "Student Details\n",
      "---------------\n",
      "Name :- Asif\n",
      "Age :- 24\n",
      "Gender :- Male\n",
      "Student ID :- 123\n",
      "Fees :- 1200\n"
     ]
    }
   ],
   "source": [
    "class person: # Parent Class\n",
    " def __init__(self, name , age , gender):\n",
    "     self.name = name\n",
    "     self.age = age\n",
    "     self.gender = gender\n",
    " \n",
    " def PersonInfo(self):\n",
    "     print('Name :- {}'.format(self.name))\n",
    "     print('Age :- {}'.format(self.age))\n",
    "     print('Gender :- {}'.format(self.gender))\n",
    " \n",
    " \n",
    " \n",
    "class student(person): # Child Class\n",
    " def __init__(self,name,age,gender,studentid,fees):\n",
    "     super().__init__(name,age,gender) \n",
    "     self.studentid = studentid\n",
    "     self.fees = fees\n",
    " \n",
    " def StudentInfo(self):\n",
    "     super().PersonInfo()\n",
    "     print('Student ID :- {}'.format(self.studentid))\n",
    "     print('Fees :- {}'.format(self.fees))\n",
    " \n",
    "stud = student('Asif' , 24 , 'Male' , 123 , 1200)\n",
    "print('Student Details')\n",
    "print('---------------')\n",
    "stud.StudentInfo()"
   ]
  },
  {
   "cell_type": "markdown",
   "id": "41931995-55ce-4986-b72a-e2d995c0152c",
   "metadata": {},
   "source": [
    "# Multi-level Inheritance\n",
    "### In this type of inheritance, a class can inherit from a child class or derived class.\n",
    "### Multilevel Inheritance can be of any depth in python"
   ]
  },
  {
   "cell_type": "code",
   "execution_count": 14,
   "id": "249fa995-9939-4516-94ff-57775fbb7169",
   "metadata": {},
   "outputs": [
    {
     "data": {
      "image/jpeg": "[encoded data removed]",
      "text/plain": [
       "<IPython.core.display.Image object>"
      ]
     },
     "metadata": {},
     "output_type": "display_data"
    }
   ],
   "source": [
    "display(Image(filename='C:/Users/ADMIN/Desktop/LAB MANUALS/2.jpg'))"
   ]
  },
  {
   "cell_type": "code",
   "execution_count": 15,
   "id": "d9bbd898-7166-4e44-b19e-e06ba1534b4c",
   "metadata": {},
   "outputs": [
    {
     "name": "stdout",
     "output_type": "stream",
     "text": [
      "Contractual Employee Details\n",
      "****************************\n",
      "Name :- Basit\n",
      "Age :- 36\n",
      "Gender :- Male\n",
      "Employee ID :- 456\n",
      "Salary :- 80000\n",
      "Contract Expiry :- 21-12-2021\n",
      "\n",
      " \n",
      "\n",
      "Fulltime Employee Details\n",
      "****************************\n",
      "Name :- Asif\n",
      "Age :- 22\n",
      "Gender :- Male\n",
      "Employee ID :- 567\n",
      "Salary :- 70000\n",
      "Work Experience :- 12\n"
     ]
    }
   ],
   "source": [
    "class person: # Parent Class\n",
    " def __init__(self, name , age , gender):\n",
    "     self.name = name\n",
    "     self.age = age\n",
    "     self.gender = gender\n",
    " \n",
    " def PersonInfo(self):\n",
    "     print('Name :- {}'.format(self.name))\n",
    "     print('Age :- {}'.format(self.age))\n",
    "     print('Gender :- {}'.format(self.gender))\n",
    " \n",
    "class employee(person): # Child Class\n",
    " def __init__(self,name,age,gender,empid,salary):\n",
    "     person.__init__(self,name,age,gender)\n",
    "     self.empid = empid\n",
    "     self.salary = salary\n",
    " \n",
    " def employeeInfo(self):\n",
    "     print('Employee ID :- {}'.format(self.empid))\n",
    "     print('Salary :- {}'.format(self.salary))\n",
    " \n",
    "class fulltime(employee): # Grand Child Class\n",
    " def __init__(self,name,age,gender,empid,salary,WorkExperience):\n",
    "     employee.__init__(self,name,age,gender,empid,salary)\n",
    "     self.WorkExperience = WorkExperience\n",
    " \n",
    " def FulltimeInfo(self):\n",
    "     print('Work Experience :- {}'.format(self.WorkExperience))\n",
    "  \n",
    "class contractual(employee): # Grand Child Class\n",
    " def __init__(self,name,age,gender,empid,salary,ContractExpiry):\n",
    "     employee.__init__(self,name,age,gender,empid,salary)\n",
    "     self.ContractExpiry = ContractExpiry\n",
    " \n",
    " def ContractInfo(self):\n",
    "     print('Contract Expiry :- {}'.format(self.ContractExpiry))\n",
    " \n",
    "print('Contractual Employee Details')\n",
    "print('****************************')\n",
    "contract1 = contractual('Basit' , 36 , 'Male' , 456 , 80000,'21-12-2021')\n",
    "contract1.PersonInfo()\n",
    "contract1.employeeInfo()\n",
    "contract1.ContractInfo()\n",
    "print('\\n \\n')\n",
    "\n",
    "print('Fulltime Employee Details')\n",
    "print('****************************')\n",
    "fulltim1= fulltime('Asif' , 22 , 'Male' , 567 , 70000, 12)\n",
    "fulltim1.PersonInfo()\n",
    "fulltim1.employeeInfo()\n",
    "fulltim1.FulltimeInfo()"
   ]
  },
  {
   "cell_type": "markdown",
   "id": "e505e968-ca0e-4703-90b8-304377fa54dc",
   "metadata": {},
   "source": [
    "# Multiple Inheritance\n",
    "### Multiple inheritance is a feature in which a class (derived class) can inherit attributes and methods from more than one parent class.\r",
    "### The derived class inherits all the features of the base case.e."
   ]
  },
  {
   "cell_type": "code",
   "execution_count": 1,
   "id": "f1d7e05e-0735-4175-ae78-3291c81dd7f0",
   "metadata": {},
   "outputs": [
    {
     "data": {
      "image/jpeg": "[encoded data removed]",
      "text/plain": [
       "<IPython.core.display.Image object>"
      ]
     },
     "metadata": {},
     "output_type": "display_data"
    }
   ],
   "source": [
    "from IPython.display import display, Image\n",
    "display(Image(filename='C:/Users/ADMIN/Desktop/LAB MANUALS/1.jpg'))"
   ]
  },
  {
   "cell_type": "code",
   "execution_count": 2,
   "id": "7e56eac2-ce21-4f73-b2df-58142b90cbf7",
   "metadata": {},
   "outputs": [
    {
     "name": "stdout",
     "output_type": "stream",
     "text": [
      "My Name :-  Bill\n",
      "Father : John\n",
      "Mother : Kristen\n"
     ]
    }
   ],
   "source": [
    "class Father:\n",
    " def __init__(self):\n",
    "     self.fathername = str()\n",
    " \n",
    "# Super Class\n",
    "class Mother:\n",
    " def __init__(self):\n",
    "     self.mothername = str()\n",
    " \n",
    "# Sub Class\n",
    "class Son(Father, Mother):\n",
    " name = str()\n",
    " def show(self):\n",
    "     print('My Name :- ',self.name)\n",
    "     print(\"Father :\", self.fathername)\n",
    "     print(\"Mother :\", self.mothername)\n",
    "s1 = Son()\n",
    "s1.name = 'Bill'\n",
    "s1.fathername = \"John\"\n",
    "s1.mothername = \"Kristen\"\n",
    "s1.show()"
   ]
  },
  {
   "cell_type": "code",
   "execution_count": 5,
   "id": "a18842d3-a572-4537-96e8-59e322e66c99",
   "metadata": {},
   "outputs": [
    {
     "name": "stdout",
     "output_type": "stream",
     "text": [
      "2020-08-09 23:48:55\n"
     ]
    }
   ],
   "source": [
    "class Date:\n",
    "    def __init__(self, date):\n",
    "        self.date = date\n",
    "\n",
    "class Time:\n",
    "    def __init__(self, time):\n",
    "        self.time = time\n",
    "\n",
    "class Timestamp(Date, Time):\n",
    "    def __init__(self, date, time):\n",
    "        Date.__init__(self, date)\n",
    "        Time.__init__(self, time)\n",
    "        datetime = self.date + ' ' + self.time\n",
    "        print(datetime)\n",
    "\n",
    "datetime1 = Timestamp('2020-08-09', '23:48:55')"
   ]
  },
  {
   "cell_type": "markdown",
   "id": "8e3bb90d-4b7f-4a1b-8514-e1d320dc430f",
   "metadata": {},
   "source": [
    "# Method Overriding : same name, same parameter and same return type\n",
    "### Overriding is a very important part of object oreinted programming because it makesinheritance exploit its full power.\n",
    "### Overriding is the ability of a class (Sub Class / Child Class / Derived Class) to change the implementation of a method provided by one of its parent classes.\n",
    "### When a method in a subclass has the same name, same parameter and same return type as a method in its super-class, then the method in the subclass is said to override the method in the super-class.\n",
    "### The version of a method that is executed will be determined by the object that is used to invoke it.\n",
    "### If an object of a parent class is used to invoke the method, then the version in the parent class will be executed, but if an object of the subclass is used to invoke the method, then the version in the child class will be executed."
   ]
  },
  {
   "cell_type": "code",
   "execution_count": 6,
   "id": "ced53349-4909-4e2d-aabb-1dfe8592d585",
   "metadata": {},
   "outputs": [
    {
     "name": "stdout",
     "output_type": "stream",
     "text": [
      "Hello Student\n",
      "Hello Person\n"
     ]
    }
   ],
   "source": [
    "class person: # Parent Class\n",
    " def __init__(self, name , age , gender):\n",
    "     self.name = name\n",
    "     self.age = age\n",
    "     self.gender = gender\n",
    " \n",
    " def greet(self):\n",
    "     print(\"Hello Person\")\n",
    " \n",
    "class student(person): # Child Class\n",
    " def __init__(self,name,age,gender,studentid,fees):\n",
    "     person.__init__(self,name,age,gender)\n",
    "     self.studentid = studentid\n",
    "     self.fees = fees\n",
    " def greet(self):\n",
    "     print(\"Hello Student\")\n",
    " \n",
    "stud = student('Gabriel' , 56 , 'Male' , 45 , 345678)\n",
    "stud.greet() # greet() method defined in subclass will be triggered as \"stud\" is \n",
    "person1 = person('Gabriel' , 56 , 'Male')\n",
    "person1.greet() "
   ]
  },
  {
   "cell_type": "markdown",
   "id": "76e23f28-f180-470b-92d0-50968848637e",
   "metadata": {},
   "source": [
    "## Container\n",
    "### Containers are data structures that hold data values\n",
    "### They support membership tests which means we can check whether a value exists in the container or not.\n",
    "### Generally containers provide a way to access the contained objects and to iterate over them.\n",
    "### Examples of containers include tuple, list, set, dict, str"
   ]
  },
  {
   "cell_type": "code",
   "execution_count": 7,
   "id": "ba438c54-a39e-4bc0-9b46-ea3f4e6d8398",
   "metadata": {},
   "outputs": [
    {
     "data": {
      "text/plain": [
       "True"
      ]
     },
     "execution_count": 7,
     "metadata": {},
     "output_type": "execute_result"
    }
   ],
   "source": [
    "list1 = ['asif' , 'john' , 'Michael' , 'Basit']\n",
    "'asif' in list1"
   ]
  },
  {
   "cell_type": "code",
   "execution_count": 8,
   "id": "36fd72f1-5567-4f20-b84b-5848f675f416",
   "metadata": {},
   "outputs": [],
   "source": [
    "assert 'john' in list1 "
   ]
  },
  {
   "cell_type": "code",
   "execution_count": 9,
   "id": "f55d7104-1c0e-4ecf-84aa-7c4b618c60e8",
   "metadata": {},
   "outputs": [
    {
     "data": {
      "text/plain": [
       "{'Name': 'Asif', 'ID': 12345, 'DOB': 1991, 'Address': 'Hilsinki'}"
      ]
     },
     "execution_count": 9,
     "metadata": {},
     "output_type": "execute_result"
    }
   ],
   "source": [
    "mydict = {'Name':'Asif' , 'ID': 12345 , 'DOB': 1991 , 'Address' : 'Hilsinki'}\n",
    "mydict"
   ]
  },
  {
   "cell_type": "code",
   "execution_count": 10,
   "id": "130f7d61-dc8f-4dcf-9c57-2b44e86bfa5c",
   "metadata": {},
   "outputs": [
    {
     "data": {
      "text/plain": [
       "False"
      ]
     },
     "execution_count": 10,
     "metadata": {},
     "output_type": "execute_result"
    }
   ],
   "source": [
    "'Asif' in mydict  # Dictionary membership will always check the keys"
   ]
  },
  {
   "cell_type": "code",
   "execution_count": 11,
   "id": "554a84d9-ac1d-4916-a5e1-1559e70356f3",
   "metadata": {},
   "outputs": [
    {
     "data": {
      "text/plain": [
       "True"
      ]
     },
     "execution_count": 11,
     "metadata": {},
     "output_type": "execute_result"
    }
   ],
   "source": [
    "'Name' in mydict # Dictionary membership will always check the keys"
   ]
  },
  {
   "cell_type": "code",
   "execution_count": 12,
   "id": "e8e81959-5405-4403-b24e-dd15df06887b",
   "metadata": {},
   "outputs": [
    {
     "data": {
      "text/plain": [
       "True"
      ]
     },
     "execution_count": 12,
     "metadata": {},
     "output_type": "execute_result"
    }
   ],
   "source": [
    "'DOB' in mydict"
   ]
  },
  {
   "cell_type": "code",
   "execution_count": 13,
   "id": "338c8949-8114-4783-8c6b-739880be465a",
   "metadata": {},
   "outputs": [
    {
     "data": {
      "text/plain": [
       "True"
      ]
     },
     "execution_count": 13,
     "metadata": {},
     "output_type": "execute_result"
    }
   ],
   "source": [
    "mystr = 'asifbhat'\n",
    "'as' in mystr # Check if substring is present"
   ]
  },
  {
   "cell_type": "markdown",
   "id": "622dd380-f392-4500-994d-4825b9a61e5d",
   "metadata": {},
   "source": [
    "# Iterable & Iterator\n",
    "### An iterable is an object that can be iterated upon. It can return an iterator object with the purpose of traversing through all the elements of an iterable.\n",
    "### An iterable object implements __iter()__ which is expected to return an iterator object. The iterator object uses the __next()__ method. Every time next() is called next element in the iterator stream is returned. When there are no more elements available StopIteration exception is encountered. So any object that has a __next()__ method is called an iterator\n",
    "### Python lists, tuples, dictionaries and sets are all examples of iterable objects."
   ]
  },
  {
   "cell_type": "code",
   "execution_count": 14,
   "id": "937112c2-ba09-4912-965a-902ef0b5a9f0",
   "metadata": {},
   "outputs": [
    {
     "data": {
      "image/jpeg": "[encoded data removed]",
      "text/plain": [
       "<IPython.core.display.Image object>"
      ]
     },
     "metadata": {},
     "output_type": "display_data"
    }
   ],
   "source": [
    "display(Image(filename='C:/Users/ADMIN/Desktop/LAB MANUALS/2.jpg'))"
   ]
  },
  {
   "cell_type": "code",
   "execution_count": 16,
   "id": "12d88dfd-d0bc-4745-9f54-d76b5481f52d",
   "metadata": {},
   "outputs": [
    {
     "name": "stdout",
     "output_type": "stream",
     "text": [
      "Asif\n",
      "Basit\n",
      "John\n",
      "Michael\n"
     ]
    }
   ],
   "source": [
    "mylist = ['Asif' , 'Basit' , 'John' , 'Michael']\n",
    "list_iter = iter(mylist) # Create an iterator object using iter()\n",
    "print(next(list_iter)) # return first element in the iterator stream\n",
    "print(next(list_iter)) # return next element in the iterator stream\n",
    "print(next(list_iter))\n",
    "print(next(list_iter))"
   ]
  },
  {
   "cell_type": "code",
   "execution_count": 17,
   "id": "fa7b707b-15ac-4f97-a803-9eb698eb9a7e",
   "metadata": {},
   "outputs": [
    {
     "name": "stdout",
     "output_type": "stream",
     "text": [
      "Asif\n",
      "Basit\n",
      "John\n",
      "Michael\n"
     ]
    }
   ],
   "source": [
    "mylist = ['Asif' , 'Basit' , 'John' , 'Michael']\n",
    "list_iter = iter(mylist) # Create an iterator object using iter()\n",
    "print(list_iter.__next__()) # return first element in the iterator stream\n",
    "print(list_iter.__next__()) # return next element in the iterator stream\n",
    "print(list_iter.__next__())\n",
    "print(list_iter.__next__())"
   ]
  },
  {
   "cell_type": "code",
   "execution_count": 18,
   "id": "3812f11a-3f85-4881-ae95-727fafcce1ef",
   "metadata": {},
   "outputs": [
    {
     "name": "stdout",
     "output_type": "stream",
     "text": [
      "Asif\n",
      "Basit\n",
      "John\n",
      "Michael\n"
     ]
    }
   ],
   "source": [
    "mylist = ['Asif' , 'Basit' , 'John' , 'Michael']\n",
    "list_iter = iter(mylist) # Create an iterator object using iter()\n",
    "for i in list_iter:\n",
    " print(i)"
   ]
  },
  {
   "cell_type": "code",
   "execution_count": 19,
   "id": "c76e3ecd-9efd-452d-8482-16c75d98bdd5",
   "metadata": {},
   "outputs": [
    {
     "name": "stdout",
     "output_type": "stream",
     "text": [
      "Asif\n",
      "Basit\n",
      "John\n",
      "Michael\n"
     ]
    }
   ],
   "source": [
    "mylist = ['Asif' , 'Basit' , 'John' , 'Michael']\n",
    "for i in mylist:\n",
    " print(i)"
   ]
  },
  {
   "cell_type": "code",
   "execution_count": 20,
   "id": "0c39c869-2879-4db8-b8a0-11df1bafcb4d",
   "metadata": {},
   "outputs": [
    {
     "name": "stdout",
     "output_type": "stream",
     "text": [
      "Asif\n",
      "Basit\n",
      "John\n",
      "Michael\n"
     ]
    }
   ],
   "source": [
    "mytuple = ('Asif' , 'Basit' , 'John' , 'Michael')\n",
    "for i in mytuple:\n",
    " print(i)"
   ]
  },
  {
   "cell_type": "code",
   "execution_count": 21,
   "id": "9df9b6ab-b062-45eb-bfe5-4767ce6a869a",
   "metadata": {},
   "outputs": [
    {
     "name": "stdout",
     "output_type": "stream",
     "text": [
      "H\n",
      "e\n",
      "l\n",
      "l\n",
      "o\n",
      " \n",
      "P\n",
      "y\n",
      "t\n",
      "h\n",
      "o\n",
      "n\n"
     ]
    }
   ],
   "source": [
    "mystr = \"Hello Python\"\n",
    "for i in mystr:\n",
    " print(i)"
   ]
  },
  {
   "cell_type": "code",
   "execution_count": 23,
   "id": "34a3a315-35f0-453a-a0f3-ee15962528ce",
   "metadata": {},
   "outputs": [
    {
     "name": "stdout",
     "output_type": "stream",
     "text": [
      "1\n",
      "2\n",
      "3\n",
      "4\n",
      "5\n",
      "6\n",
      "7\n",
      "8\n",
      "9\n",
      "10\n"
     ]
    }
   ],
   "source": [
    "class myiter:\n",
    " def __init__(self):\n",
    "     self.num = 0\n",
    " \n",
    " def __iter__(self):\n",
    "     self.num = 1\n",
    "     return self\n",
    " \n",
    " def __next__(self):\n",
    "     if self.num <= 10:\n",
    "         val = self.num\n",
    "         self.num += 1\n",
    "         return val\n",
    "     else:\n",
    "         raise StopIteration\n",
    "mynum = myiter()\n",
    "iter1 = iter(mynum)\n",
    "for i in iter1:\n",
    " print(i)"
   ]
  },
  {
   "cell_type": "code",
   "execution_count": 24,
   "id": "387c5478-fb7f-489f-a65f-d7432881c997",
   "metadata": {},
   "outputs": [
    {
     "name": "stdout",
     "output_type": "stream",
     "text": [
      "1\n",
      "3\n",
      "5\n",
      "7\n",
      "9\n",
      "11\n",
      "13\n",
      "15\n",
      "17\n",
      "19\n"
     ]
    }
   ],
   "source": [
    "class myiter:\n",
    " def __init__(self):\n",
    "     self.num = 0\n",
    " \n",
    " def __iter__(self):\n",
    "     self.num = 1\n",
    "     return self\n",
    " \n",
    " def __next__(self):\n",
    "     if self.num <= 20 :\n",
    "         val = self.num\n",
    "         self.num += 2\n",
    "         return val\n",
    "     else:\n",
    "         raise StopIteration\n",
    "myodd = myiter()\n",
    "iter1 = iter(myodd)\n",
    "for i in iter1:\n",
    " print(i)"
   ]
  },
  {
   "cell_type": "code",
   "execution_count": 26,
   "id": "b84f08f0-2f8e-4280-bb97-eeb49d79c7e3",
   "metadata": {},
   "outputs": [
    {
     "name": "stdout",
     "output_type": "stream",
     "text": [
      "1\n",
      "1\n",
      "2\n",
      "3\n",
      "5\n",
      "8\n",
      "13\n",
      "21\n",
      "34\n"
     ]
    }
   ],
   "source": [
    "class myfibonacci:\n",
    " def __init__(self):\n",
    "     self.prev = 0\n",
    "     self.cur = 0\n",
    " \n",
    " def __iter__(self):\n",
    "     self.prev = 0\n",
    "     self.cur = 1\n",
    "     return self\n",
    " \n",
    " def __next__(self):\n",
    "     if self.cur <= 50:\n",
    "         val = self.cur\n",
    "         self.cur += self.prev\n",
    "         self.prev = val\n",
    "         return val\n",
    "     else:\n",
    "         raise StopIteration\n",
    "myfibo = myfibonacci()\n",
    "iter1 = iter(myfibo)\n",
    "for i in iter1:\n",
    " print(i)\n"
   ]
  },
  {
   "cell_type": "markdown",
   "id": "7c0a2906-de3f-48bf-82ad-7ed4d69f8c83",
   "metadata": {},
   "source": [
    "### Generator\n",
    "### Python generators are easy way of creating iterators. It generates values one at a time from a given sequence instead of returning the entire sequence at once.\n",
    "### It is a special type of function which returns an iterator object.\n",
    "### In a generator function, a yield statement is used rather than a return statement.\n",
    "### The generator function cannot include the return keyword. If we include it then it will terminate the execution of the function.\n",
    "### The difference between yield and return is that once yield returns a value the function is paused and the control is transferred to the caller.\n",
    "### Local variables and their states are calls. In case of the return statement value is returned and remembered between successive the execution of the function is terminated.\n",
    "### Methods like iter() and next() are implemented automatically in generator function.\n",
    "### Simple generators can be easily created using generator expressions. Generator expressions create anonymous generator functions like lambda.\n",
    "### The syntax for generator expression is similar to that of a list comprehension but the only difference is square brackets are replaced with round parentheses. \n",
    "### Also list comprehension produces the entire list while the generator expression produces one item at a time which is more memory efficient than list comprehension."
   ]
  },
  {
   "cell_type": "code",
   "execution_count": 28,
   "id": "df90201f-7b34-471c-93e3-216f1a540aa2",
   "metadata": {},
   "outputs": [
    {
     "name": "stdout",
     "output_type": "stream",
     "text": [
      "1\n",
      "2\n",
      "3\n",
      "4\n",
      "5\n"
     ]
    }
   ],
   "source": [
    "def mygen():\n",
    " n = 1\n",
    " yield n\n",
    " n += 1\n",
    " yield n\n",
    " n += 1\n",
    " yield n\n",
    " n += 1\n",
    " yield n\n",
    " \n",
    " n += 1\n",
    " yield n\n",
    " \n",
    "mygen1 = mygen()\n",
    "print(next(mygen1))\n",
    "print(next(mygen1))\n",
    "print(next(mygen1))\n",
    "print(next(mygen1))\n",
    "print(next(mygen1)) "
   ]
  },
  {
   "cell_type": "code",
   "execution_count": 30,
   "id": "13f51700-8310-4b2f-bf81-12d87ad59b05",
   "metadata": {
    "scrolled": true
   },
   "outputs": [
    {
     "name": "stdout",
     "output_type": "stream",
     "text": [
      "1\n",
      "2\n",
      "3\n",
      "4\n",
      "5\n",
      "6\n",
      "7\n",
      "8\n",
      "9\n",
      "10\n",
      "11\n",
      "12\n",
      "13\n",
      "14\n",
      "15\n",
      "16\n",
      "17\n",
      "18\n",
      "19\n"
     ]
    }
   ],
   "source": [
    "def mygen():\n",
    " for i in range(1,20):\n",
    "     yield i\n",
    " \n",
    "mygen1 = mygen()\n",
    "for i in mygen1:\n",
    " print(i)"
   ]
  },
  {
   "cell_type": "code",
   "execution_count": 31,
   "id": "0fde004e-a700-4162-9b16-3757aaccbf0e",
   "metadata": {},
   "outputs": [
    {
     "data": {
      "text/plain": [
       "[1, 2, 3, 4, 5, 6, 7, 8, 9, 10, 11, 12, 13, 14, 15, 16, 17, 18, 19]"
      ]
     },
     "execution_count": 31,
     "metadata": {},
     "output_type": "execute_result"
    }
   ],
   "source": [
    "num = list(mygen()) # Store all values generated by generator function in a list\n",
    "num"
   ]
  },
  {
   "cell_type": "code",
   "execution_count": 33,
   "id": "62fcc843-4af0-4195-89a4-58ba68e5fd66",
   "metadata": {},
   "outputs": [
    {
     "name": "stdout",
     "output_type": "stream",
     "text": [
      "2\n",
      "4\n",
      "6\n",
      "8\n",
      "10\n",
      "12\n",
      "14\n",
      "16\n",
      "18\n"
     ]
    }
   ],
   "source": [
    "def mygen():\n",
    "     for i in range(1,20):\n",
    "         if i%2 == 0:\n",
    "             yield i\n",
    " \n",
    "mygen1 = mygen()\n",
    "for i in mygen1:\n",
    " print(i)"
   ]
  },
  {
   "cell_type": "code",
   "execution_count": 34,
   "id": "a4b9752b-b5c6-4619-a243-4e31d31ca604",
   "metadata": {},
   "outputs": [
    {
     "name": "stdout",
     "output_type": "stream",
     "text": [
      "0\n",
      "1\n",
      "1\n",
      "2\n",
      "3\n",
      "5\n",
      "8\n",
      "13\n",
      "21\n",
      "34\n"
     ]
    }
   ],
   "source": [
    "def myfibo():\n",
    "     num1 , num2 = 0,1\n",
    "     count = 0\n",
    "     while count < 10:\n",
    "         yield num1\n",
    "         num1,num2 = num2,num1+num2\n",
    "         count+=1\n",
    " \n",
    "fibo = myfibo()\n",
    "for i in fibo:\n",
    " print(i)"
   ]
  },
  {
   "cell_type": "code",
   "execution_count": 35,
   "id": "89164898-8ad5-4671-8137-2e0dcdf1ac25",
   "metadata": {},
   "outputs": [
    {
     "data": {
      "text/plain": [
       "[0, 1, 1, 2, 3, 5, 8, 13, 21, 34]"
      ]
     },
     "execution_count": 35,
     "metadata": {},
     "output_type": "execute_result"
    }
   ],
   "source": [
    "list1 = list(myfibo()) # Store the fibonacci series in a list\n",
    "list1"
   ]
  },
  {
   "cell_type": "code",
   "execution_count": 36,
   "id": "c77e2d2a-a1d2-4686-a529-51130fc46686",
   "metadata": {},
   "outputs": [
    {
     "data": {
      "text/plain": [
       "[0, 1, 4, 9, 16, 25, 36, 49, 64, 81]"
      ]
     },
     "execution_count": 36,
     "metadata": {},
     "output_type": "execute_result"
    }
   ],
   "source": [
    "list2 = [i**2 for i in range(10)] # List comprehension\n",
    "list2"
   ]
  },
  {
   "cell_type": "code",
   "execution_count": 37,
   "id": "26ee8702-105b-4cd6-bdab-5321c2040f6a",
   "metadata": {},
   "outputs": [
    {
     "data": {
      "text/plain": [
       "<generator object <genexpr> at 0x0000018E21D9F2A0>"
      ]
     },
     "execution_count": 37,
     "metadata": {},
     "output_type": "execute_result"
    }
   ],
   "source": [
    "gen2 = (i**2 for i in range(10)) # Generator expression\n",
    "gen2"
   ]
  },
  {
   "cell_type": "code",
   "execution_count": 38,
   "id": "ead78c38-75a9-4487-87f9-41feae1fa8bb",
   "metadata": {},
   "outputs": [
    {
     "name": "stdout",
     "output_type": "stream",
     "text": [
      "0\n",
      "1\n",
      "4\n",
      "9\n",
      "16\n"
     ]
    }
   ],
   "source": [
    "print(next(gen2))\n",
    "print(next(gen2))\n",
    "print(next(gen2))\n",
    "print(next(gen2))\n",
    "print(next(gen2))"
   ]
  },
  {
   "cell_type": "code",
   "execution_count": 39,
   "id": "f69fb461-8abf-4167-b4a1-8ddae205a774",
   "metadata": {},
   "outputs": [
    {
     "name": "stdout",
     "output_type": "stream",
     "text": [
      "0\n",
      "2\n",
      "4\n",
      "6\n",
      "8\n",
      "10\n",
      "12\n",
      "14\n",
      "16\n",
      "18\n",
      "20\n",
      "22\n",
      "24\n",
      "26\n",
      "28\n",
      "30\n",
      "32\n",
      "34\n",
      "36\n",
      "38\n"
     ]
    }
   ],
   "source": [
    "gen2 = (i for i in range(40) if i%2 == 0) # Generator expression to generate even\n",
    "gen2\n",
    "for i in gen2:\n",
    " print(i)"
   ]
  },
  {
   "cell_type": "markdown",
   "id": "611d0c8b-c512-441f-b8f9-9fb329a7cd05",
   "metadata": {},
   "source": [
    "# Decorator\n",
    "### Decorator is very powerful and useful tool in Python as it allows us to wrap another function in order to extend the behavior of wrapped function without permanently modifying it.\n",
    "### In Decorators functions are taken as the argument into another function and then called inside the wrapper function.\n",
    "### Advantages -\n",
    "### Logging & debugging\n",
    "### Access control and authentication\n"
   ]
  },
  {
   "cell_type": "code",
   "execution_count": 40,
   "id": "9ffb0b5d-5c97-41bd-9780-c83fcb5f3266",
   "metadata": {},
   "outputs": [
    {
     "name": "stdout",
     "output_type": "stream",
     "text": [
      "Result is :-  2\n",
      "Result is :-  -2\n"
     ]
    }
   ],
   "source": [
    "def subtract(num1 , num2):\n",
    " res = num1 - num2\n",
    " print('Result is :- ', res)\n",
    " \n",
    "subtract(4,2)\n",
    "subtract(2,4)"
   ]
  },
  {
   "cell_type": "code",
   "execution_count": 46,
   "id": "db9dfbbd-e941-4ed7-92cb-04ea408e03b2",
   "metadata": {},
   "outputs": [
    {
     "name": "stdout",
     "output_type": "stream",
     "text": [
      "Result is :-  2\n"
     ]
    }
   ],
   "source": [
    "def sub_decorator(func):\n",
    " def wrapper(num1,num2):\n",
    "     if num1 < num2:\n",
    "         num1,num2 = num2,num1\n",
    "         return func(num1,num2)\n",
    " return wrapper\n",
    " \n",
    "sub = sub_decorator(subtract)\n",
    "sub(2,4)"
   ]
  },
  {
   "cell_type": "code",
   "execution_count": 47,
   "id": "d7d07ddf-afb7-4176-af63-edc30a1c8550",
   "metadata": {},
   "outputs": [
    {
     "name": "stdout",
     "output_type": "stream",
     "text": [
      "Result is :-  2\n"
     ]
    }
   ],
   "source": [
    "@sub_decorator # we can use @ syntax for decorating a function in one step\n",
    "def subtract(num1 , num2):\n",
    " res = num1 - num2\n",
    " print('Result is :- ', res)\n",
    "subtract(2,4)"
   ]
  },
  {
   "cell_type": "code",
   "execution_count": 52,
   "id": "db74ab79-e05d-4bff-835f-efe5196746de",
   "metadata": {},
   "outputs": [
    {
     "name": "stdout",
     "output_type": "stream",
     "text": [
      "Linux installation has started \n",
      "\n",
      "Windows installation has started \n",
      "\n",
      "Mac installation has started \n",
      "\n",
      "\n",
      "Please accept terms & conditions\n",
      "Linux installation has started \n",
      "\n",
      "Please accept terms & conditions\n",
      "Windows installation has started \n",
      " \n",
      "Please accept terms & conditions\n",
      "Mac installation has started \n",
      "\n"
     ]
    }
   ],
   "source": [
    "def InstallLinux():\n",
    " print('Linux installation has started \\n')\n",
    " \n",
    "def InstallWindows():\n",
    " print('Windows installation has started \\n')\n",
    " \n",
    "def InstallMac():\n",
    " print('Mac installation has started \\n')\n",
    " \n",
    "InstallLinux()\n",
    "InstallWindows()\n",
    "InstallMac()\n",
    "print()\n",
    "\n",
    "def InstallDecorator(func):\n",
    " def wrapper():\n",
    "     print('Please accept terms & conditions')\n",
    "     return func()\n",
    " return wrapper()\n",
    "     \n",
    "@InstallDecorator # we can use @ syntax for decorating a function in one step\n",
    "def InstallLinux():\n",
    "     print('Linux installation has started \\n')\n",
    " \n",
    "@InstallDecorator\n",
    "def InstallWindows():\n",
    "     print('Windows installation has started \\n ')\n",
    "@InstallDecorator\n",
    "def InstallMac():\n",
    "     print('Mac installation has started \\n')"
   ]
  },
  {
   "cell_type": "code",
   "execution_count": 53,
   "id": "2d13b5f4-74ee-478e-a870-e46de6fadffe",
   "metadata": {},
   "outputs": [
    {
     "name": "stdout",
     "output_type": "stream",
     "text": [
      "Please accept terms & conditions...\n",
      "\n",
      "Please enter correct license key...\n",
      "\n",
      "Please enter partitioning choice...\n",
      "\n",
      "Linux installation has started \n",
      "\n"
     ]
    }
   ],
   "source": [
    "def InstallDecorator1(func):\n",
    " def wrapper():\n",
    "     print('Please accept terms & conditions...\\n')\n",
    "     func()\n",
    " return wrapper\n",
    "    \n",
    "def InstallDecorator2(func):\n",
    " def wrapper():\n",
    "     print('Please enter correct license key...\\n')\n",
    "     return func()\n",
    " return wrapper\n",
    "    \n",
    "def InstallDecorator3(func):\n",
    " def wrapper():\n",
    "     print('Please enter partitioning choice...\\n')\n",
    "     return func()\n",
    " return wrapper\n",
    "@InstallDecorator1\n",
    "@InstallDecorator2\n",
    "@InstallDecorator3\n",
    "\n",
    "def InstallLinux():\n",
    " print('Linux installation has started \\n')\n",
    "InstallLinux()"
   ]
  },
  {
   "cell_type": "code",
   "execution_count": null,
   "id": "3b6adbbf-ed02-4e59-a1fe-29810d9d4378",
   "metadata": {},
   "outputs": [],
   "source": []
  }
 ],
 "metadata": {
  "kernelspec": {
   "display_name": "Python 3 (ipykernel)",
   "language": "python",
   "name": "python3"
  },
  "language_info": {
   "codemirror_mode": {
    "name": "ipython",
    "version": 3
   },
   "file_extension": ".py",
   "mimetype": "text/x-python",
   "name": "python",
   "nbconvert_exporter": "python",
   "pygments_lexer": "ipython3",
   "version": "3.12.1"
  }
 },
 "nbformat": 4,
 "nbformat_minor": 5
}
